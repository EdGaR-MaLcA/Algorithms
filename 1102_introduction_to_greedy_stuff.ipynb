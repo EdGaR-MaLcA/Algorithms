{
  "nbformat": 4,
  "nbformat_minor": 0,
  "metadata": {
    "colab": {
      "provenance": [],
      "authorship_tag": "ABX9TyPq8R6QRQacAWv+WU4KLPhI",
      "include_colab_link": true
    },
    "kernelspec": {
      "name": "python3",
      "display_name": "Python 3"
    },
    "language_info": {
      "name": "python"
    }
  },
  "cells": [
    {
      "cell_type": "markdown",
      "metadata": {
        "id": "view-in-github",
        "colab_type": "text"
      },
      "source": [
        "<a href=\"https://colab.research.google.com/github/lmcanavals/acomplex/blob/main/1102_introduction_to_greedy_stuff.ipynb\" target=\"_parent\"><img src=\"https://colab.research.google.com/assets/colab-badge.svg\" alt=\"Open In Colab\"/></a>"
      ]
    },
    {
      "cell_type": "code",
      "execution_count": 12,
      "metadata": {
        "id": "NRCabjXNbCJW"
      },
      "outputs": [],
      "source": [
        "import pdb\n",
        "def coins(p, D):\n",
        "    resp = {}\n",
        "    #pdb.set_trace()\n",
        "    for di in reversed(D):\n",
        "        if di <= p:\n",
        "            resp[di] = p // di\n",
        "            p = p % di\n",
        "    return resp"
      ]
    },
    {
      "cell_type": "code",
      "source": [
        "resp = coins(18, [1, 2, 5])\n",
        "for d in resp.keys():\n",
        "    print(f\"{resp[d]} monedas de S/ {d}\")"
      ],
      "metadata": {
        "colab": {
          "base_uri": "https://localhost:8080/"
        },
        "id": "okls4P2-boGv",
        "outputId": "b5464ecb-6893-4643-faaa-029abd136306"
      },
      "execution_count": 13,
      "outputs": [
        {
          "output_type": "stream",
          "name": "stdout",
          "text": [
            "3 monedas de S/ 5\n",
            "1 monedas de S/ 2\n",
            "1 monedas de S/ 1\n"
          ]
        }
      ]
    },
    {
      "cell_type": "code",
      "source": [
        "resp = coins(40, [1, 5, 10, 20, 50])\n",
        "for d in resp.keys():\n",
        "    print(f\"{resp[d]} monedas de {d} céntimos\")"
      ],
      "metadata": {
        "colab": {
          "base_uri": "https://localhost:8080/"
        },
        "id": "NStpSsKQbq74",
        "outputId": "3c76b196-01d5-4f0a-de7e-316976623b4b"
      },
      "execution_count": 14,
      "outputs": [
        {
          "output_type": "stream",
          "name": "stdout",
          "text": [
            "2 monedas de 20 céntimos\n"
          ]
        }
      ]
    },
    {
      "cell_type": "code",
      "source": [
        "resp = coins(40, [1, 5, 10, 20, 25, 50])\n",
        "for d in resp.keys():\n",
        "    print(f\"{resp[d]} monedas de {d} céntimos\")"
      ],
      "metadata": {
        "colab": {
          "base_uri": "https://localhost:8080/"
        },
        "id": "edTvtmnycNiC",
        "outputId": "f56e4714-e6c9-4e30-a72d-3f8c9e8206d8"
      },
      "execution_count": 15,
      "outputs": [
        {
          "output_type": "stream",
          "name": "stdout",
          "text": [
            "1 monedas de 25 céntimos\n",
            "1 monedas de 10 céntimos\n",
            "1 monedas de 5 céntimos\n"
          ]
        }
      ]
    },
    {
      "cell_type": "markdown",
      "source": [
        "# Huffman Compression"
      ],
      "metadata": {
        "id": "vgF3IveGnil1"
      }
    },
    {
      "cell_type": "code",
      "source": [
        "text = \"\"\"Lorem ipsum dolor sit amet, consectetur adipiscing elit. Morbi pretium vehicula lectus. Nam nec dui et turpis maximus viverra. Class aptent taciti sociosqu ad litora torquent per conubia nostra, per inceptos himenaeos. Curabitur pulvinar in metus eu bibendum. Nunc condimentum, quam iaculis tincidunt fermentum, neque arcu venenatis metus, sit amet rhoncus est justo cursus mi. Nullam tempor justo eros, sed porttitor tellus semper imperdiet. Nulla accumsan orci nunc, in aliquet massa semper nec. Mauris sed lacus at leo ullamcorper bibendum quis nec enim. Donec eget sodales erat. Aenean sit amet metus malesuada, dictum augue eget, dignissim arcu. Sed vulputate sapien porta enim egestas, nec sagittis ex fringilla. Fusce aliquam odio leo, et pretium neque molestie a. Duis iaculis malesuada turpis, non faucibus velit luctus sed. Maecenas vehicula mi non lorem sagittis cursus. Nulla a enim in orci malesuada rutrum id eget mi. Sed ut justo at magna ultricies fringilla.\n",
        "Vivamus aliquam erat vel varius pulvinar. Mauris suscipit, ligula laoreet pharetra pulvinar, nisi sem mollis nibh, vel placerat velit est id risus. Nunc tristique viverra ex, quis vehicula leo ornare sed. In dapibus lacus sed rutrum ullamcorper. Donec ut metus eu dolor feugiat faucibus sit amet id lectus. Morbi erat mauris, congue at aliquet quis, feugiat et arcu. Praesent in pharetra orci. Pellentesque sed commodo tortor. Praesent pharetra, nulla facilisis tristique lacinia, odio justo semper felis, at feugiat dui risus ac urna. In a scelerisque leo.\n",
        "Etiam dictum sit amet dui eu dapibus. Mauris tempus diam mauris, efficitur gravida sapien facilisis maximus. Sed pellentesque molestie metus et tincidunt. In malesuada elit aliquam mollis facilisis. Etiam sit amet dignissim lectus. Donec orci ante, tincidunt ut leo at, tempor tristique nisl. Aliquam erat volutpat. Suspendisse metus arcu, tempor quis tincidunt quis, pharetra sit amet mi. Sed dolor odio, pretium in orci eu, dictum fringilla nisl. Integer sodales ut magna vitae volutpat. Nunc nec aliquet lectus, ac molestie felis. Curabitur condimentum sapien quis facilisis vehicula. Aliquam erat volutpat. Maecenas egestas odio lobortis dictum finibus. Donec imperdiet commodo massa, sed tincidunt mauris elementum ac. Nulla a mi mauris.\n",
        "Morbi vitae urna elit. In varius pulvinar varius. Integer hendrerit urna non ipsum bibendum, sit amet pretium libero fringilla. Proin nec magna consequat, tempus odio at, rutrum tellus. Sed rhoncus at erat eget malesuada. Donec iaculis quam nec nulla rhoncus, at condimentum arcu hendrerit. Sed blandit non tortor ut iaculis. Aenean sit amet mattis libero. Integer sit amet dolor diam. Maecenas consectetur sagittis pharetra.\n",
        "Duis nibh ex, dignissim sit amet dui a, ultricies gravida odio. Mauris at neque ut augue gravida semper eget in nisl. Donec purus justo, suscipit eu dolor ac, pharetra blandit ex. Quisque magna eros, pellentesque eget egestas nec, luctus a nulla. Integer non pharetra dui, ut viverra lacus. In congue tincidunt orci aliquet eleifend. Donec tincidunt neque dui, eu sodales mi vestibulum malesuada.\n",
        "Sed egestas ex nec feugiat sodales. Quisque vestibulum felis neque, vitae hendrerit ante egestas sit amet. Suspendisse sollicitudin ultricies tortor, at convallis massa convallis eu. Pellentesque vitae nisl consequat enim tristique mollis. Aliquam ac libero fringilla, semper enim ac, tincidunt ante. Proin vehicula rhoncus mi, id consectetur ligula sodales ut. In ac eleifend nibh, vel suscipit felis. Aenean ullamcorper lectus ut elit tempus, et convallis urna fermentum. Nam ac elementum ligula. Phasellus ultricies nibh metus, quis rhoncus nisl commodo vel. Aliquam erat volutpat. Donec luctus tempus arcu non dictum.\n",
        "Integer pharetra tristique tellus, vel pharetra sem vehicula id. Pellentesque tempor dui eget lacus consectetur, ut lobortis mi gravida. Nullam dignissim iaculis elementum. Integer scelerisque lorem lacus, ac volutpat tortor aliquam quis. Duis ut leo elit. Donec vehicula, felis at feugiat vehicula, nulla diam elementum ex, et finibus augue nisl quis diam. Duis laoreet neque nec ex varius hendrerit.\n",
        "Pellentesque bibendum augue sit amet purus lacinia, sit amet placerat mi lacinia. In ultricies ante massa, sit amet consequat dui aliquet id. Suspendisse accumsan libero nec aliquet convallis. Mauris pellentesque enim erat, porta dapibus tortor blandit at. Curabitur accumsan turpis non erat pretium pharetra. Praesent velit turpis, euismod sed nibh vel, interdum congue dui. Aenean nunc quam, tempus vitae vehicula non, imperdiet non massa. Phasellus vel urna vitae purus elementum varius. Maecenas pulvinar suscipit condimentum.\n",
        "Integer a fringilla sapien. Praesent quis ex nec sem mollis dapibus hendrerit sit amet sem. Curabitur quam ipsum, elementum sit amet varius eget, sollicitudin et nisi. Sed mollis erat quis condimentum congue. Nullam eget eros a ex dictum pulvinar. Fusce sit amet nisl in tellus viverra malesuada. Suspendisse iaculis enim non auctor rhoncus. Phasellus arcu turpis, porttitor nec metus dignissim, viverra euismod felis. Nullam a nulla a velit venenatis convallis in non mauris. Cras maximus lectus ac eros dictum placerat. Fusce vel felis erat. Nulla sed enim massa. Nulla lobortis quam et nunc sagittis, vel porta lectus efficitur. Lorem ipsum dolor sit amet, consectetur adipiscing elit. Aenean ac rutrum erat.\n",
        "Quisque finibus est vel quam tincidunt, nec volutpat ante feugiat. In hac habitasse platea dictumst. Aliquam quis lectus sodales, imperdiet nulla dictum, suscipit urna. Ut sagittis nibh ultricies risus scelerisque, et mattis arcu egestas. Mauris vestibulum nisi tellus, sed tristique purus scelerisque sed. Quisque ac porta neque, ac eleifend dui. Lorem ipsum dolor sit amet, consectetur adipiscing elit. Proin aliquet, tellus sed ullamcorper laoreet, justo lorem pulvinar velit, semper aliquet diam erat eu massa.\n",
        "Fusce condimentum lectus ac elit volutpat, ut efficitur nulla vestibulum. Curabitur rhoncus vestibulum dui, in molestie orci suscipit ac. Proin egestas dui vel nunc consectetur, nec elementum metus tristique. Nunc tincidunt tellus ut libero rutrum, vitae scelerisque lectus accumsan. Vivamus bibendum massa tortor, tempor posuere ipsum mattis et. Sed sit amet sodales velit. Sed laoreet vestibulum venenatis. Orci varius natoque penatibus et magnis dis parturient montes, nascetur ridiculus mus. Vivamus pulvinar sapien ac risus consectetur pellentesque. Maecenas bibendum malesuada felis, nec tempor augue molestie nec.\n",
        "Duis hendrerit massa eget sem pellentesque, eu pretium felis dignissim. Sed id purus blandit, eleifend sapien vitae, finibus libero. Fusce dignissim rutrum sollicitudin. In luctus faucibus mollis. Cras hendrerit, massa sed consequat efficitur, lacus elit tincidunt magna, vel.\"\"\""
      ],
      "metadata": {
        "id": "sMPC3TXloDUd"
      },
      "execution_count": 19,
      "outputs": []
    },
    {
      "cell_type": "code",
      "source": [
        "import heapq as hq\n",
        "\n",
        "class Node:\n",
        "    def __init__(self, left = None, right = None):\n",
        "        self.left = left\n",
        "        self.right = right\n",
        "\n",
        "def huffman(text):\n",
        "    freq = {}\n",
        "    for ch in text:\n",
        "        if not ch in freq:\n",
        "            freq[ch] = 0\n",
        "        freq[ch] += 1\n",
        "    \n",
        "    q = []\n",
        "    for ch, f in freq.items():\n",
        "        hq.heappush(q, (f, ch, None))\n",
        "\n",
        "    while len(q) > 1:\n",
        "        f1, e1, n1 = hq.heappop(q)\n",
        "        f2, e2, n2 = hq.heappop(q)\n",
        "        node = Node(e1 if e1 != \"\" else n1, e2 if e2 != \"\" else n2)\n",
        "        hq.heappush(q, (f1 + f2, \"\", node))\n",
        "    \n",
        "    def _code(n, code):\n",
        "        if n != None:\n",
        "            if type(n) == str:\n",
        "                print(n, code)\n",
        "            else:\n",
        "                _code(n.left, f\"{code}0\")\n",
        "                _code(n.right, f\"{code}1\")\n",
        "\n",
        "    _code(q[0][2], \"\")\n"
      ],
      "metadata": {
        "id": "FtQa7ooxdMb5"
      },
      "execution_count": 50,
      "outputs": []
    },
    {
      "cell_type": "code",
      "source": [
        "huffman(text)"
      ],
      "metadata": {
        "colab": {
          "base_uri": "https://localhost:8080/"
        },
        "id": "sHmjAaoBoCMR",
        "outputId": "2bd4897f-814c-4d58-9570-f8cd1c681306"
      },
      "execution_count": 52,
      "outputs": [
        {
          "output_type": "stream",
          "name": "stdout",
          "text": [
            "r 0000\n",
            "l 0001\n",
            "e 001\n",
            "n 0100\n",
            "d 01010\n",
            "C 010110000\n",
            "A 010110001\n",
            "F 0101100100\n",
            "L 01011001010\n",
            "V 01011001011\n",
            "\n",
            " 010110011\n",
            "h 0101101\n",
            "v 010111\n",
            ", 011000\n",
            "f 0110010\n",
            "x 011001100\n",
            "j 0110011010\n",
            "O 0110011011000\n",
            "U 0110011011001\n",
            "E 011001101101\n",
            "Q 01100110111\n",
            "D 011001110\n",
            "M 011001111\n",
            "o 01101\n",
            "a 0111\n",
            "s 1000\n",
            "t 1001\n",
            "p 101000\n",
            "b 1010010\n",
            "N 101001100\n",
            "P 101001101\n",
            "S 101001110\n",
            "I 101001111\n",
            "c 10101\n",
            "u 1011\n",
            "  110\n",
            "m 11100\n",
            ". 111010\n",
            "g 1110110\n",
            "q 1110111\n",
            "i 1111\n"
          ]
        }
      ]
    },
    {
      "cell_type": "code",
      "source": [],
      "metadata": {
        "colab": {
          "base_uri": "https://localhost:8080/",
          "height": 35
        },
        "id": "V7shVX2GxQCS",
        "outputId": "50dfeeab-bdbb-46dc-d648-43db84307bd3"
      },
      "execution_count": 43,
      "outputs": [
        {
          "output_type": "execute_result",
          "data": {
            "text/plain": [
              "'A'"
            ],
            "application/vnd.google.colaboratory.intrinsic+json": {
              "type": "string"
            }
          },
          "metadata": {},
          "execution_count": 43
        }
      ]
    },
    {
      "cell_type": "code",
      "source": [],
      "metadata": {
        "id": "XVsgrkYaxjDu"
      },
      "execution_count": null,
      "outputs": []
    }
  ]
}