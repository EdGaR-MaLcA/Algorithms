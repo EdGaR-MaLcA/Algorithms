{
  "nbformat": 4,
  "nbformat_minor": 0,
  "metadata": {
    "colab": {
      "name": "1302-ford-fulkerson.ipynb",
      "provenance": [],
      "authorship_tag": "ABX9TyOmkRl+mpbN8ufx5tmoPvmb",
      "include_colab_link": true
    },
    "kernelspec": {
      "name": "python3",
      "display_name": "Python 3"
    },
    "language_info": {
      "name": "python"
    }
  },
  "cells": [
    {
      "cell_type": "markdown",
      "metadata": {
        "id": "view-in-github",
        "colab_type": "text"
      },
      "source": [
        "<a href=\"https://colab.research.google.com/github/lmcanavals/acomplex/blob/main/1302_ford_fulkerson.ipynb\" target=\"_parent\"><img src=\"https://colab.research.google.com/assets/colab-badge.svg\" alt=\"Open In Colab\"/></a>"
      ]
    },
    {
      "cell_type": "code",
      "source": [
        "!git clone https://github.com/lmcanavals/acomplex.git"
      ],
      "metadata": {
        "id": "bu5S6iQRIATe",
        "colab": {
          "base_uri": "https://localhost:8080/"
        },
        "outputId": "7af25abf-89b4-49c6-dbda-d44f52b46430"
      },
      "execution_count": 1,
      "outputs": [
        {
          "output_type": "stream",
          "name": "stdout",
          "text": [
            "fatal: destination path 'acomplex' already exists and is not an empty directory.\n"
          ]
        }
      ]
    },
    {
      "cell_type": "code",
      "source": [
        "from acomplex import graphstuff as gs\n",
        "import math\n",
        "import numpy as np"
      ],
      "metadata": {
        "id": "RDUQQf246B_l"
      },
      "execution_count": 2,
      "outputs": []
    },
    {
      "cell_type": "code",
      "source": [
        "def dfs(G, u, t, visited):\n",
        "    visited[u] = True\n",
        "    if u == t:\n",
        "        return [u], math.inf\n",
        "    else:\n",
        "        n = len(G)\n",
        "        for v in range(n):\n",
        "            if G[u, v] > 0 and not visited[v]:\n",
        "                path, mid = dfs(G, v, t, visited)\n",
        "                if path != None:\n",
        "                    return [u] + path, mid if mid < G[u, v] else G[u, v]\n",
        "        return None, 0"
      ],
      "metadata": {
        "id": "VCIlB3m0JuLz"
      },
      "execution_count": 3,
      "outputs": []
    },
    {
      "cell_type": "code",
      "source": [
        "def fordFulkerson(G, s, t):\n",
        "    n = len(G)\n",
        "    Gres = np.zeros((n, n))\n",
        "    for u in range(n):\n",
        "        for v, w in G[u]:\n",
        "            Gres[u, v] = w\n",
        "    Gflow = np.zeros((n, n))\n",
        "    while True:\n",
        "        path, bottleneck = dfs(Gres, s, t, [False]*n)\n",
        "\n",
        "        if path != None:\n",
        "            for i in range(1, len(path)):\n",
        "                u = path[i - 1]\n",
        "                v = path[i]\n",
        "                Gres[u, v] -= bottleneck\n",
        "                Gres[v, u] += bottleneck\n",
        "                Gflow[u, v] = Gflow[u, v] + bottleneck\n",
        "        else:\n",
        "            break\n",
        "\n",
        "    return Gflow, np.sum(Gflow[s])"
      ],
      "metadata": {
        "id": "1Z_PSofnFPYX"
      },
      "execution_count": 4,
      "outputs": []
    },
    {
      "cell_type": "markdown",
      "source": [
        "```\n",
        "s 0\n",
        "a 1 \n",
        "b 2\n",
        "c 3\n",
        "d 4\n",
        "t 5\n",
        "```"
      ],
      "metadata": {
        "id": "nB9E2Uo1MGUt"
      }
    },
    {
      "cell_type": "code",
      "source": [
        "%%file 1302a.al\n",
        "1 16 3 13\n",
        "2 12 3 10\n",
        "3 9 5 20\n",
        "1 4 4 14\n",
        "2 7 5 4\n",
        "-\n"
      ],
      "metadata": {
        "colab": {
          "base_uri": "https://localhost:8080/"
        },
        "id": "tkVLW4JJLopj",
        "outputId": "44e2889f-2fce-4cd3-fc9b-7f55846f8866"
      },
      "execution_count": 5,
      "outputs": [
        {
          "output_type": "stream",
          "name": "stdout",
          "text": [
            "Overwriting 1302a.al\n"
          ]
        }
      ]
    },
    {
      "cell_type": "code",
      "source": [
        "G = gs.loadGraphAL(\"1302a.al\")"
      ],
      "metadata": {
        "id": "742LJvbfMk-j"
      },
      "execution_count": 6,
      "outputs": []
    },
    {
      "cell_type": "code",
      "source": [
        "gs.adjlShow(G, \"sabcdt\", directed=True, weighted=True, layout=\"neato\")"
      ],
      "metadata": {
        "colab": {
          "base_uri": "https://localhost:8080/",
          "height": 308
        },
        "id": "7vTpcStlMpIM",
        "outputId": "bae89378-4161-4b52-a205-e1d9adee9ca5"
      },
      "execution_count": 7,
      "outputs": [
        {
          "output_type": "execute_result",
          "data": {
            "text/plain": [
              "<graphviz.dot.Digraph at 0x7fe9b0a92ed0>"
            ],
            "image/svg+xml": "<?xml version=\"1.0\" encoding=\"UTF-8\" standalone=\"no\"?>\n<!DOCTYPE svg PUBLIC \"-//W3C//DTD SVG 1.1//EN\"\n \"http://www.w3.org/Graphics/SVG/1.1/DTD/svg11.dtd\">\n<!-- Generated by graphviz version 2.40.1 (20161225.0304)\n -->\n<!-- Title: G Pages: 1 -->\n<svg width=\"117pt\" height=\"215pt\"\n viewBox=\"0.00 0.00 116.73 215.31\" xmlns=\"http://www.w3.org/2000/svg\" xmlns:xlink=\"http://www.w3.org/1999/xlink\">\n<g id=\"graph0\" class=\"graph\" transform=\"scale(1 1) rotate(0) translate(4 211.3095)\">\n<title>G</title>\n<polygon fill=\"#ffffff\" stroke=\"transparent\" points=\"-4,4 -4,-211.3095 112.73,-211.3095 112.73,4 -4,4\"/>\n<!-- 0 -->\n<g id=\"node1\" class=\"node\">\n<title>0</title>\n<ellipse fill=\"none\" stroke=\"#ff4500\" cx=\"15.5563\" cy=\"-12.0208\" rx=\"15.6129\" ry=\"12.0417\"/>\n<text text-anchor=\"middle\" x=\"15.5563\" y=\"-10.1208\" font-family=\"monospace\" font-size=\"8.00\" fill=\"#7b68ee\">s</text>\n</g>\n<!-- 1 -->\n<g id=\"node2\" class=\"node\">\n<title>1</title>\n<ellipse fill=\"none\" stroke=\"#ff4500\" cx=\"82.0448\" cy=\"-45.9559\" rx=\"15.6129\" ry=\"12.0417\"/>\n<text text-anchor=\"middle\" x=\"82.0448\" y=\"-44.0559\" font-family=\"monospace\" font-size=\"8.00\" fill=\"#7b68ee\">a</text>\n</g>\n<!-- 0&#45;&gt;1 -->\n<g id=\"edge1\" class=\"edge\">\n<title>0&#45;&gt;1</title>\n<path fill=\"none\" stroke=\"#c0c0c0\" d=\"M28.6923,-18.7253C37.6167,-23.2802 49.6379,-29.4157 60.0102,-34.7097\"/>\n<polygon fill=\"#c0c0c0\" stroke=\"#c0c0c0\" points=\"58.438,-37.8367 68.9361,-39.2653 61.6203,-31.6018 58.438,-37.8367\"/>\n<text text-anchor=\"middle\" x=\"38.8513\" y=\"-29.3175\" font-family=\"monospace\" font-size=\"8.00\" fill=\"#000000\">16</text>\n</g>\n<!-- 3 -->\n<g id=\"node4\" class=\"node\">\n<title>3</title>\n<ellipse fill=\"none\" stroke=\"#ff4500\" cx=\"22.2533\" cy=\"-85.6107\" rx=\"15.6129\" ry=\"12.0417\"/>\n<text text-anchor=\"middle\" x=\"22.2533\" y=\"-83.7107\" font-family=\"monospace\" font-size=\"8.00\" fill=\"#7b68ee\">c</text>\n</g>\n<!-- 0&#45;&gt;3 -->\n<g id=\"edge2\" class=\"edge\">\n<title>0&#45;&gt;3</title>\n<path fill=\"none\" stroke=\"#c0c0c0\" d=\"M16.6622,-24.1727C17.6258,-34.7613 19.048,-50.3888 20.2168,-63.2325\"/>\n<polygon fill=\"#c0c0c0\" stroke=\"#c0c0c0\" points=\"16.7315,-63.5532 21.1234,-73.1948 23.7027,-62.9187 16.7315,-63.5532\"/>\n<text text-anchor=\"middle\" x=\"12.9395\" y=\"-46.3026\" font-family=\"monospace\" font-size=\"8.00\" fill=\"#000000\">13</text>\n</g>\n<!-- 2 -->\n<g id=\"node3\" class=\"node\">\n<title>2</title>\n<ellipse fill=\"none\" stroke=\"#ff4500\" cx=\"87.1619\" cy=\"-121.4851\" rx=\"15.6129\" ry=\"12.0417\"/>\n<text text-anchor=\"middle\" x=\"87.1619\" y=\"-119.5851\" font-family=\"monospace\" font-size=\"8.00\" fill=\"#7b68ee\">b</text>\n</g>\n<!-- 1&#45;&gt;2 -->\n<g id=\"edge3\" class=\"edge\">\n<title>1&#45;&gt;2</title>\n<path fill=\"none\" stroke=\"#c0c0c0\" d=\"M82.867,-58.091C83.6086,-69.0372 84.7187,-85.4228 85.6245,-98.7931\"/>\n<polygon fill=\"#c0c0c0\" stroke=\"#c0c0c0\" points=\"82.1568,-99.3887 86.3248,-109.1292 89.1408,-98.9155 82.1568,-99.3887\"/>\n<text text-anchor=\"middle\" x=\"78.7457\" y=\"-81.042\" font-family=\"monospace\" font-size=\"8.00\" fill=\"#000000\">12</text>\n</g>\n<!-- 1&#45;&gt;3 -->\n<g id=\"edge4\" class=\"edge\">\n<title>1&#45;&gt;3</title>\n<path fill=\"none\" stroke=\"#c0c0c0\" d=\"M66.8783,-49.3565C57.7845,-53.8344 46.3368,-61.1287 37.2743,-68.0964\"/>\n<polygon fill=\"#c0c0c0\" stroke=\"#c0c0c0\" points=\"34.9298,-65.4938 29.471,-74.5741 39.4009,-70.8799 34.9298,-65.4938\"/>\n<text text-anchor=\"middle\" x=\"46.5763\" y=\"-61.3265\" font-family=\"monospace\" font-size=\"8.00\" fill=\"#000000\">10</text>\n</g>\n<!-- 2&#45;&gt;3 -->\n<g id=\"edge5\" class=\"edge\">\n<title>2&#45;&gt;3</title>\n<path fill=\"none\" stroke=\"#c0c0c0\" d=\"M74.3381,-114.3975C65.7146,-109.6314 54.1294,-103.2283 44.0748,-97.6712\"/>\n<polygon fill=\"#c0c0c0\" stroke=\"#c0c0c0\" points=\"45.4958,-94.4576 35.0505,-92.6836 42.1097,-100.5842 45.4958,-94.4576\"/>\n<text text-anchor=\"middle\" x=\"56.2064\" y=\"-108.6344\" font-family=\"monospace\" font-size=\"8.00\" fill=\"#000000\">9</text>\n</g>\n<!-- 5 -->\n<g id=\"node6\" class=\"node\">\n<title>5</title>\n<ellipse fill=\"none\" stroke=\"#ff4500\" cx=\"93.1736\" cy=\"-195.2887\" rx=\"15.6129\" ry=\"12.0417\"/>\n<text text-anchor=\"middle\" x=\"93.1736\" y=\"-193.3887\" font-family=\"monospace\" font-size=\"8.00\" fill=\"#7b68ee\">t</text>\n</g>\n<!-- 2&#45;&gt;5 -->\n<g id=\"edge6\" class=\"edge\">\n<title>2&#45;&gt;5</title>\n<path fill=\"none\" stroke=\"#c0c0c0\" d=\"M88.1546,-133.6723C89.0196,-144.2916 90.2963,-159.9645 91.3455,-172.8455\"/>\n<polygon fill=\"#c0c0c0\" stroke=\"#c0c0c0\" points=\"87.8589,-173.1539 92.1593,-182.8367 94.8358,-172.5855 87.8589,-173.1539\"/>\n<text text-anchor=\"middle\" x=\"84.2501\" y=\"-155.8589\" font-family=\"monospace\" font-size=\"8.00\" fill=\"#000000\">20</text>\n</g>\n<!-- 3&#45;&gt;1 -->\n<g id=\"edge7\" class=\"edge\">\n<title>3&#45;&gt;1</title>\n<path fill=\"none\" stroke=\"#c0c0c0\" d=\"M37.4198,-82.21C46.5137,-77.7321 57.9613,-70.4379 67.0239,-63.4702\"/>\n<polygon fill=\"#c0c0c0\" stroke=\"#c0c0c0\" points=\"69.3684,-66.0728 74.8272,-56.9924 64.8973,-60.6867 69.3684,-66.0728\"/>\n<text text-anchor=\"middle\" x=\"49.2218\" y=\"-75.4401\" font-family=\"monospace\" font-size=\"8.00\" fill=\"#000000\">4</text>\n</g>\n<!-- 4 -->\n<g id=\"node5\" class=\"node\">\n<title>4</title>\n<ellipse fill=\"none\" stroke=\"#ff4500\" cx=\"27.0856\" cy=\"-160.9788\" rx=\"15.6129\" ry=\"12.0417\"/>\n<text text-anchor=\"middle\" x=\"27.0856\" y=\"-159.0788\" font-family=\"monospace\" font-size=\"8.00\" fill=\"#7b68ee\">d</text>\n</g>\n<!-- 3&#45;&gt;4 -->\n<g id=\"edge8\" class=\"edge\">\n<title>3&#45;&gt;4</title>\n<path fill=\"none\" stroke=\"#c0c0c0\" d=\"M23.0297,-97.7199C23.73,-108.6427 24.7784,-124.9934 25.6338,-138.3351\"/>\n<polygon fill=\"#c0c0c0\" stroke=\"#c0c0c0\" points=\"22.1623,-138.8937 26.295,-148.6493 29.148,-138.4458 22.1623,-138.8937\"/>\n<text text-anchor=\"middle\" x=\"18.8317\" y=\"-120.6275\" font-family=\"monospace\" font-size=\"8.00\" fill=\"#000000\">14</text>\n</g>\n<!-- 4&#45;&gt;2 -->\n<g id=\"edge9\" class=\"edge\">\n<title>4&#45;&gt;2</title>\n<path fill=\"none\" stroke=\"#c0c0c0\" d=\"M38.9547,-153.1761C46.7513,-148.0507 57.1637,-141.2057 66.3161,-135.189\"/>\n<polygon fill=\"#c0c0c0\" stroke=\"#c0c0c0\" points=\"68.4715,-137.9606 74.905,-129.5427 64.6262,-132.1114 68.4715,-137.9606\"/>\n<text text-anchor=\"middle\" x=\"49.6354\" y=\"-146.7825\" font-family=\"monospace\" font-size=\"8.00\" fill=\"#000000\">7</text>\n</g>\n<!-- 4&#45;&gt;5 -->\n<g id=\"edge10\" class=\"edge\">\n<title>4&#45;&gt;5</title>\n<path fill=\"none\" stroke=\"#c0c0c0\" d=\"M40.1424,-167.7573C48.9226,-172.3155 60.7183,-178.4394 70.9556,-183.7541\"/>\n<polygon fill=\"#c0c0c0\" stroke=\"#c0c0c0\" points=\"69.6559,-187.0229 80.1439,-188.5242 72.8813,-180.8102 69.6559,-187.0229\"/>\n<text text-anchor=\"middle\" x=\"52.549\" y=\"-178.3557\" font-family=\"monospace\" font-size=\"8.00\" fill=\"#000000\">4</text>\n</g>\n</g>\n</svg>\n"
          },
          "metadata": {},
          "execution_count": 7
        }
      ]
    },
    {
      "cell_type": "code",
      "source": [
        "Gres, mf = fordFulkerson(G, 0, 5)"
      ],
      "metadata": {
        "id": "upvJ-D5FNB7E"
      },
      "execution_count": 8,
      "outputs": []
    },
    {
      "cell_type": "code",
      "source": [
        "n = len(Gres)\n",
        "G2 = [[(v, Gres[u, v]) for v in range(n) if Gres[u, v] > 0] for u in range(n)]\n",
        "G2"
      ],
      "metadata": {
        "colab": {
          "base_uri": "https://localhost:8080/"
        },
        "id": "pW-LFbqNNTIZ",
        "outputId": "cbba1c82-51a0-4612-b429-e161a565afa3"
      },
      "execution_count": 9,
      "outputs": [
        {
          "output_type": "execute_result",
          "data": {
            "text/plain": [
              "[[(1, 16.0), (3, 7.0)],\n",
              " [(2, 12.0), (3, 4.0)],\n",
              " [(3, 4.0), (5, 19.0)],\n",
              " [(2, 4.0), (4, 11.0)],\n",
              " [(2, 7.0), (5, 4.0)],\n",
              " []]"
            ]
          },
          "metadata": {},
          "execution_count": 9
        }
      ]
    },
    {
      "cell_type": "code",
      "source": [
        "gs.adjlShow(G2, \"sabcdt\", directed=True, weighted=True, layout=\"neato\")"
      ],
      "metadata": {
        "colab": {
          "base_uri": "https://localhost:8080/",
          "height": 308
        },
        "id": "fmr0U1hzN9ZQ",
        "outputId": "3b0e8c90-2ebf-45f1-9567-1ff66a60822e"
      },
      "execution_count": 10,
      "outputs": [
        {
          "output_type": "execute_result",
          "data": {
            "text/plain": [
              "<graphviz.dot.Digraph at 0x7fe9b0a92690>"
            ],
            "image/svg+xml": "<?xml version=\"1.0\" encoding=\"UTF-8\" standalone=\"no\"?>\n<!DOCTYPE svg PUBLIC \"-//W3C//DTD SVG 1.1//EN\"\n \"http://www.w3.org/Graphics/SVG/1.1/DTD/svg11.dtd\">\n<!-- Generated by graphviz version 2.40.1 (20161225.0304)\n -->\n<!-- Title: G Pages: 1 -->\n<svg width=\"117pt\" height=\"215pt\"\n viewBox=\"0.00 0.00 116.73 215.31\" xmlns=\"http://www.w3.org/2000/svg\" xmlns:xlink=\"http://www.w3.org/1999/xlink\">\n<g id=\"graph0\" class=\"graph\" transform=\"scale(1 1) rotate(0) translate(4 211.3095)\">\n<title>G</title>\n<polygon fill=\"#ffffff\" stroke=\"transparent\" points=\"-4,4 -4,-211.3095 112.73,-211.3095 112.73,4 -4,4\"/>\n<!-- 0 -->\n<g id=\"node1\" class=\"node\">\n<title>0</title>\n<ellipse fill=\"none\" stroke=\"#ff4500\" cx=\"15.5563\" cy=\"-12.0208\" rx=\"15.6129\" ry=\"12.0417\"/>\n<text text-anchor=\"middle\" x=\"15.5563\" y=\"-10.1208\" font-family=\"monospace\" font-size=\"8.00\" fill=\"#7b68ee\">s</text>\n</g>\n<!-- 1 -->\n<g id=\"node2\" class=\"node\">\n<title>1</title>\n<ellipse fill=\"none\" stroke=\"#ff4500\" cx=\"82.0448\" cy=\"-45.9559\" rx=\"15.6129\" ry=\"12.0417\"/>\n<text text-anchor=\"middle\" x=\"82.0448\" y=\"-44.0559\" font-family=\"monospace\" font-size=\"8.00\" fill=\"#7b68ee\">a</text>\n</g>\n<!-- 0&#45;&gt;1 -->\n<g id=\"edge1\" class=\"edge\">\n<title>0&#45;&gt;1</title>\n<path fill=\"none\" stroke=\"#c0c0c0\" d=\"M28.6923,-18.7253C37.6167,-23.2802 49.6379,-29.4157 60.0102,-34.7097\"/>\n<polygon fill=\"#c0c0c0\" stroke=\"#c0c0c0\" points=\"58.438,-37.8367 68.9361,-39.2653 61.6203,-31.6018 58.438,-37.8367\"/>\n<text text-anchor=\"middle\" x=\"33.3513\" y=\"-29.3175\" font-family=\"monospace\" font-size=\"8.00\" fill=\"#000000\">16.0</text>\n</g>\n<!-- 3 -->\n<g id=\"node4\" class=\"node\">\n<title>3</title>\n<ellipse fill=\"none\" stroke=\"#ff4500\" cx=\"22.2533\" cy=\"-85.6107\" rx=\"15.6129\" ry=\"12.0417\"/>\n<text text-anchor=\"middle\" x=\"22.2533\" y=\"-83.7107\" font-family=\"monospace\" font-size=\"8.00\" fill=\"#7b68ee\">c</text>\n</g>\n<!-- 0&#45;&gt;3 -->\n<g id=\"edge2\" class=\"edge\">\n<title>0&#45;&gt;3</title>\n<path fill=\"none\" stroke=\"#c0c0c0\" d=\"M16.6622,-24.1727C17.6258,-34.7613 19.048,-50.3888 20.2168,-63.2325\"/>\n<polygon fill=\"#c0c0c0\" stroke=\"#c0c0c0\" points=\"16.7315,-63.5532 21.1234,-73.1948 23.7027,-62.9187 16.7315,-63.5532\"/>\n<text text-anchor=\"middle\" x=\"10.4395\" y=\"-46.3026\" font-family=\"monospace\" font-size=\"8.00\" fill=\"#000000\">7.0</text>\n</g>\n<!-- 2 -->\n<g id=\"node3\" class=\"node\">\n<title>2</title>\n<ellipse fill=\"none\" stroke=\"#ff4500\" cx=\"87.1619\" cy=\"-121.4851\" rx=\"15.6129\" ry=\"12.0417\"/>\n<text text-anchor=\"middle\" x=\"87.1619\" y=\"-119.5851\" font-family=\"monospace\" font-size=\"8.00\" fill=\"#7b68ee\">b</text>\n</g>\n<!-- 1&#45;&gt;2 -->\n<g id=\"edge3\" class=\"edge\">\n<title>1&#45;&gt;2</title>\n<path fill=\"none\" stroke=\"#c0c0c0\" d=\"M82.867,-58.091C83.6086,-69.0372 84.7187,-85.4228 85.6245,-98.7931\"/>\n<polygon fill=\"#c0c0c0\" stroke=\"#c0c0c0\" points=\"82.1568,-99.3887 86.3248,-109.1292 89.1408,-98.9155 82.1568,-99.3887\"/>\n<text text-anchor=\"middle\" x=\"73.2457\" y=\"-81.042\" font-family=\"monospace\" font-size=\"8.00\" fill=\"#000000\">12.0</text>\n</g>\n<!-- 1&#45;&gt;3 -->\n<g id=\"edge4\" class=\"edge\">\n<title>1&#45;&gt;3</title>\n<path fill=\"none\" stroke=\"#c0c0c0\" d=\"M70.2319,-53.7904C62.4723,-58.9367 52.1093,-65.8096 43.0003,-71.8509\"/>\n<polygon fill=\"#c0c0c0\" stroke=\"#c0c0c0\" points=\"40.8514,-69.0762 34.4522,-77.5202 44.7204,-74.9099 40.8514,-69.0762\"/>\n<text text-anchor=\"middle\" x=\"48.6161\" y=\"-65.4207\" font-family=\"monospace\" font-size=\"8.00\" fill=\"#000000\">4.0</text>\n</g>\n<!-- 2&#45;&gt;3 -->\n<g id=\"edge5\" class=\"edge\">\n<title>2&#45;&gt;3</title>\n<path fill=\"none\" stroke=\"#c0c0c0\" d=\"M78.9427,-111.0395C70.8893,-104.8238 58.3431,-97.4157 47.0771,-92.0059\"/>\n<polygon fill=\"#c0c0c0\" stroke=\"#c0c0c0\" points=\"48.2132,-88.6817 37.6514,-87.8464 45.3871,-95.0858 48.2132,-88.6817\"/>\n<text text-anchor=\"middle\" x=\"55.0099\" y=\"-104.1227\" font-family=\"monospace\" font-size=\"8.00\" fill=\"#000000\">4.0</text>\n</g>\n<!-- 5 -->\n<g id=\"node6\" class=\"node\">\n<title>5</title>\n<ellipse fill=\"none\" stroke=\"#ff4500\" cx=\"93.1736\" cy=\"-195.2887\" rx=\"15.6129\" ry=\"12.0417\"/>\n<text text-anchor=\"middle\" x=\"93.1736\" y=\"-193.3887\" font-family=\"monospace\" font-size=\"8.00\" fill=\"#7b68ee\">t</text>\n</g>\n<!-- 2&#45;&gt;5 -->\n<g id=\"edge6\" class=\"edge\">\n<title>2&#45;&gt;5</title>\n<path fill=\"none\" stroke=\"#c0c0c0\" d=\"M88.1546,-133.6723C89.0196,-144.2916 90.2963,-159.9645 91.3455,-172.8455\"/>\n<polygon fill=\"#c0c0c0\" stroke=\"#c0c0c0\" points=\"87.8589,-173.1539 92.1593,-182.8367 94.8358,-172.5855 87.8589,-173.1539\"/>\n<text text-anchor=\"middle\" x=\"78.7501\" y=\"-155.8589\" font-family=\"monospace\" font-size=\"8.00\" fill=\"#000000\">19.0</text>\n</g>\n<!-- 3&#45;&gt;2 -->\n<g id=\"edge7\" class=\"edge\">\n<title>3&#45;&gt;2</title>\n<path fill=\"none\" stroke=\"#c0c0c0\" d=\"M30.4726,-96.0563C38.5259,-102.272 51.0721,-109.6801 62.3381,-115.0899\"/>\n<polygon fill=\"#c0c0c0\" stroke=\"#c0c0c0\" points=\"61.202,-118.4141 71.7639,-119.2494 64.0281,-112.01 61.202,-118.4141\"/>\n<text text-anchor=\"middle\" x=\"38.4053\" y=\"-108.1731\" font-family=\"monospace\" font-size=\"8.00\" fill=\"#000000\">4.0</text>\n</g>\n<!-- 4 -->\n<g id=\"node5\" class=\"node\">\n<title>4</title>\n<ellipse fill=\"none\" stroke=\"#ff4500\" cx=\"27.0856\" cy=\"-160.9788\" rx=\"15.6129\" ry=\"12.0417\"/>\n<text text-anchor=\"middle\" x=\"27.0856\" y=\"-159.0788\" font-family=\"monospace\" font-size=\"8.00\" fill=\"#7b68ee\">d</text>\n</g>\n<!-- 3&#45;&gt;4 -->\n<g id=\"edge8\" class=\"edge\">\n<title>3&#45;&gt;4</title>\n<path fill=\"none\" stroke=\"#c0c0c0\" d=\"M23.0297,-97.7199C23.73,-108.6427 24.7784,-124.9934 25.6338,-138.3351\"/>\n<polygon fill=\"#c0c0c0\" stroke=\"#c0c0c0\" points=\"22.1623,-138.8937 26.295,-148.6493 29.148,-138.4458 22.1623,-138.8937\"/>\n<text text-anchor=\"middle\" x=\"13.3317\" y=\"-120.6275\" font-family=\"monospace\" font-size=\"8.00\" fill=\"#000000\">11.0</text>\n</g>\n<!-- 4&#45;&gt;2 -->\n<g id=\"edge9\" class=\"edge\">\n<title>4&#45;&gt;2</title>\n<path fill=\"none\" stroke=\"#c0c0c0\" d=\"M38.9547,-153.1761C46.7513,-148.0507 57.1637,-141.2057 66.3161,-135.189\"/>\n<polygon fill=\"#c0c0c0\" stroke=\"#c0c0c0\" points=\"68.4715,-137.9606 74.905,-129.5427 64.6262,-132.1114 68.4715,-137.9606\"/>\n<text text-anchor=\"middle\" x=\"44.6354\" y=\"-137.7825\" font-family=\"monospace\" font-size=\"8.00\" fill=\"#000000\">7.0</text>\n</g>\n<!-- 4&#45;&gt;5 -->\n<g id=\"edge10\" class=\"edge\">\n<title>4&#45;&gt;5</title>\n<path fill=\"none\" stroke=\"#c0c0c0\" d=\"M40.1424,-167.7573C48.9226,-172.3155 60.7183,-178.4394 70.9556,-183.7541\"/>\n<polygon fill=\"#c0c0c0\" stroke=\"#c0c0c0\" points=\"69.6559,-187.0229 80.1439,-188.5242 72.8813,-180.8102 69.6559,-187.0229\"/>\n<text text-anchor=\"middle\" x=\"47.549\" y=\"-178.3557\" font-family=\"monospace\" font-size=\"8.00\" fill=\"#000000\">4.0</text>\n</g>\n</g>\n</svg>\n"
          },
          "metadata": {},
          "execution_count": 10
        }
      ]
    },
    {
      "cell_type": "code",
      "source": [
        ""
      ],
      "metadata": {
        "id": "0IMpkx-TOCNg"
      },
      "execution_count": 10,
      "outputs": []
    }
  ]
}