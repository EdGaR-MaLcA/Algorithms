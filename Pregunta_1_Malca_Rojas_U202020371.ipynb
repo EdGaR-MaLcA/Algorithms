{
  "nbformat": 4,
  "nbformat_minor": 0,
  "metadata": {
    "colab": {
      "provenance": [],
      "authorship_tag": "ABX9TyMQ61VRfSbhyYZIsvmcmqmC",
      "include_colab_link": true
    },
    "kernelspec": {
      "name": "python3",
      "display_name": "Python 3"
    },
    "language_info": {
      "name": "python"
    }
  },
  "cells": [
    {
      "cell_type": "markdown",
      "metadata": {
        "id": "view-in-github",
        "colab_type": "text"
      },
      "source": [
        "<a href=\"https://colab.research.google.com/github/EdGaR-MaLcA/Algorithms/blob/main/Pregunta_1_Malca_Rojas_U202020371.ipynb\" target=\"_parent\"><img src=\"https://colab.research.google.com/assets/colab-badge.svg\" alt=\"Open In Colab\"/></a>"
      ]
    },
    {
      "cell_type": "markdown",
      "source": [
        "Codigo para resolver el problema de Vero y Luis"
      ],
      "metadata": {
        "id": "CIYGR5QcJS3W"
      }
    },
    {
      "cell_type": "code",
      "execution_count": 6,
      "metadata": {
        "id": "73tcCH0kGvee"
      },
      "outputs": [],
      "source": [
        "def encontrar_rutas(input_file):\n",
        "    with open(input_file, 'r') as file:\n",
        "        lines = file.readlines()\n",
        "\n",
        "    num_casos = int(lines[0].strip())\n",
        "    casos_prueba = lines[1:]\n",
        "    #guardo resultados\n",
        "    resultados = []\n",
        "\n",
        "    for i in range(0, len(casos_prueba), 2):\n",
        "        lista_vero = casos_prueba[i].strip()\n",
        "        lista_luis = casos_prueba[i + 1].strip()\n",
        "\n",
        "        rutas = generar_rutas_dp(lista_vero, lista_luis)\n",
        "        resultados.extend(rutas)\n",
        "        resultados.append('')\n",
        "\n",
        "    output = '\\n'.join(resultados)\n",
        "    return output\n",
        "\n",
        "\n",
        "def generar_rutas_dp(lista_vero, lista_luis):\n",
        "    vero_sin_duplicados = sorted(set(lista_vero))\n",
        "    luis_sin_duplicados = sorted(set(lista_luis))\n",
        "\n",
        "    rutas = []\n",
        "    generar_rutas_recursivo(vero_sin_duplicados, lista_vero, luis_sin_duplicados, lista_luis, '', rutas)\n",
        "\n",
        "    rutas.sort()\n",
        "    return rutas\n",
        "\n",
        "\n",
        "def generar_rutas_recursivo(vero_sin_duplicados, lista_vero, luis_sin_duplicados, lista_luis, ruta_actual, rutas):\n",
        "    if not lista_vero or not lista_luis:\n",
        "        rutas.append(ruta_actual)\n",
        "        return\n",
        "\n",
        "    if lista_vero[0] == lista_luis[0]:\n",
        "        ciudad = lista_vero[0]\n",
        "        resto_vero = lista_vero[1:]\n",
        "        resto_luis = lista_luis[1:]\n",
        "        generar_rutas_recursivo(vero_sin_duplicados, resto_vero, luis_sin_duplicados, resto_luis, ruta_actual + ciudad, rutas)\n",
        "    else:\n",
        "        ciudad_vero = lista_vero[0]\n",
        "        ciudad_luis = lista_luis[0]\n",
        "\n",
        "        if ciudad_vero in lista_luis:\n",
        "            indice_luis = lista_luis.index(ciudad_vero)\n",
        "            resto_luis = lista_luis[indice_luis + 1:]\n",
        "            generar_rutas_recursivo(vero_sin_duplicados, lista_vero[1:], luis_sin_duplicados, resto_luis, ruta_actual + ciudad_vero, rutas)\n",
        "\n",
        "        if ciudad_luis in lista_vero:\n",
        "            indice_vero = lista_vero.index(ciudad_luis)\n",
        "            resto_vero = lista_vero[indice_vero + 1:]\n",
        "            generar_rutas_recursivo(vero_sin_duplicados, resto_vero, luis_sin_duplicados, lista_luis[1:], ruta_actual + ciudad_luis, rutas)"
      ]
    },
    {
      "cell_type": "markdown",
      "source": [
        "Logica para leer el input:"
      ],
      "metadata": {
        "id": "6Dc4h0ZsJZZn"
      }
    },
    {
      "cell_type": "code",
      "source": [
        "def get_user_input():\n",
        "    num_cases = int(input(\"Ingrese el número de casos de prueba (<= 10): \"))\n",
        "\n",
        "    while num_cases <= 0 or num_cases > 10:\n",
        "        print(\"El número de casos de prueba debe ser mayor a 0 y menor o igual a 10.\")\n",
        "        num_cases = int(input(\"Ingrese el número de casos de prueba (<= 10): \"))\n",
        "\n",
        "    test_cases = []\n",
        "    for _ in range(num_cases):\n",
        "        veros_list = input(\"Ingrese la lista de Vero: \")\n",
        "        luis_list = input(\"Ingrese la lista de Luis: \")\n",
        "        test_cases.append((veros_list, luis_list))\n",
        "\n",
        "    return test_cases\n",
        "\n",
        "\n",
        "def write_to_file(file_path, test_cases):\n",
        "    with open(file_path, 'w') as file:\n",
        "        file.write(str(len(test_cases)) + '\\n')\n",
        "\n",
        "        for veros_list, luis_list in test_cases:\n",
        "            file.write(veros_list + '\\n')\n",
        "            file.write(luis_list + '\\n')\n",
        "\n",
        "\n",
        "# Obtener los datos ingresados por el usuario\n",
        "user_input = get_user_input()\n",
        "\n",
        "# Guardar los datos en un archivo de texto\n",
        "write_to_file('input.txt', user_input)\n",
        "filename = \"input.txt\"  # Nombre del archivo de entrada\n",
        "output = encontrar_rutas(filename)\n",
        "print(output)"
      ],
      "metadata": {
        "colab": {
          "base_uri": "https://localhost:8080/"
        },
        "id": "9X6toeW0JY9O",
        "outputId": "3943b026-6f4b-4c80-d164-708e1ff336e1"
      },
      "execution_count": 7,
      "outputs": [
        {
          "output_type": "stream",
          "name": "stdout",
          "text": [
            "Ingrese el número de casos de prueba (<= 10): 1\n",
            "Ingrese la lista de Vero: abcabcaa\n",
            "Ingrese la lista de Luis: acbacba\n",
            "ababa\n",
            "abaca\n",
            "abca\n",
            "abcba\n",
            "acaba\n",
            "acaca\n",
            "acbaa\n",
            "acbca\n",
            "\n"
          ]
        }
      ]
    },
    {
      "cell_type": "markdown",
      "source": [
        "#Sustentación de porque el enfoque aplicado a mi solución:"
      ],
      "metadata": {
        "id": "9m0U9x0lXylg"
      }
    },
    {
      "cell_type": "markdown",
      "source": [
        "El enfoque que aplique en este problema fue con el que me senti mas comodo, ya que no me especifica un enfoque o algoritmo. A un principio comencé con programación dinámica pero no me funcionaba asi que Implemente de manera libre mi solución con recursión. Llamo a la función generar rutas recursivo multiples veces para encontrar las rutas posibles de acuerdo a las restricciones del problema."
      ],
      "metadata": {
        "id": "emLcqN_PX1oo"
      }
    },
    {
      "cell_type": "markdown",
      "source": [
        "Este enfoque es óptimo con los datos actuales, pero puede que con datos más grandes ya no. Sin embargo, funciona bien y compila en corto tiempo, espero sea de su agrado mi enfoque, pues se me hizo no tan complicado de esa manera."
      ],
      "metadata": {
        "id": "ajRT8bF-YQnR"
      }
    },
    {
      "cell_type": "code",
      "source": [],
      "metadata": {
        "id": "hXW_D5z4YNr8"
      },
      "execution_count": null,
      "outputs": []
    }
  ]
}