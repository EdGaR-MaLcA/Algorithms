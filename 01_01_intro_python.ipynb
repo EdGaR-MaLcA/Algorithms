{
  "nbformat": 4,
  "nbformat_minor": 0,
  "metadata": {
    "colab": {
      "name": "01-01-intro-python.ipynb",
      "provenance": [],
      "authorship_tag": "ABX9TyP9xjez7dG2dWjirg4c+ma1",
      "include_colab_link": true
    },
    "kernelspec": {
      "name": "python3",
      "display_name": "Python 3"
    },
    "language_info": {
      "name": "python"
    }
  },
  "cells": [
    {
      "cell_type": "markdown",
      "metadata": {
        "id": "view-in-github",
        "colab_type": "text"
      },
      "source": [
        "<a href=\"https://colab.research.google.com/github/lmcanavals/acomplex/blob/main/01_01_intro_python.ipynb\" target=\"_parent\"><img src=\"https://colab.research.google.com/assets/colab-badge.svg\" alt=\"Open In Colab\"/></a>"
      ]
    },
    {
      "cell_type": "markdown",
      "source": [
        "# Intro a Colab y Python"
      ],
      "metadata": {
        "id": "3JZ2hgn6NvYr"
      }
    },
    {
      "cell_type": "markdown",
      "source": [
        "## Código no-python"
      ],
      "metadata": {
        "id": "Zw9oPg-hN5pZ"
      }
    },
    {
      "cell_type": "code",
      "execution_count": null,
      "metadata": {
        "colab": {
          "base_uri": "https://localhost:8080/",
          "height": 17
        },
        "id": "ab8LO9pdNaHt",
        "outputId": "a76cf41d-5c1d-4df4-f3b1-25de13979953"
      },
      "outputs": [
        {
          "output_type": "display_data",
          "data": {
            "text/plain": [
              "<IPython.core.display.Javascript object>"
            ],
            "application/javascript": [
              "\n",
              "(function() {\n",
              "  for (let i = 0; i < 10; i++) {\n",
              "    console.log(`Hola (${i})`)\n",
              "  }\n",
              "})()"
            ]
          },
          "metadata": {}
        }
      ],
      "source": [
        "%%javascript\n",
        "\n",
        "(function() {\n",
        "  for (let i = 0; i < 10; i++) {\n",
        "    console.log(`Hola (${i})`)\n",
        "  }\n",
        "})()"
      ]
    },
    {
      "cell_type": "code",
      "source": [
        "%%bash\n",
        "\n",
        "for i in {1..10}; do\n",
        "  echo \"Hola ($i)\"\n",
        "done"
      ],
      "metadata": {
        "colab": {
          "base_uri": "https://localhost:8080/"
        },
        "id": "St6LoXPPOPaU",
        "outputId": "b9c0878b-c516-448d-dae1-5e314f9be80a"
      },
      "execution_count": null,
      "outputs": [
        {
          "output_type": "stream",
          "name": "stdout",
          "text": [
            "Hola (1)\n",
            "Hola (2)\n",
            "Hola (3)\n",
            "Hola (4)\n",
            "Hola (5)\n",
            "Hola (6)\n",
            "Hola (7)\n",
            "Hola (8)\n",
            "Hola (9)\n",
            "Hola (10)\n"
          ]
        }
      ]
    },
    {
      "cell_type": "code",
      "source": [
        "!ls -l sample_data"
      ],
      "metadata": {
        "colab": {
          "base_uri": "https://localhost:8080/"
        },
        "id": "1Yvehn3JOjxC",
        "outputId": "e86517a6-5958-4298-d343-022e535d26c0"
      },
      "execution_count": null,
      "outputs": [
        {
          "output_type": "stream",
          "name": "stdout",
          "text": [
            "total 55504\n",
            "-rwxr-xr-x 1 root root     1697 Jan  1  2000 anscombe.json\n",
            "-rw-r--r-- 1 root root   301141 Mar 23 14:22 california_housing_test.csv\n",
            "-rw-r--r-- 1 root root  1706430 Mar 23 14:22 california_housing_train.csv\n",
            "-rw-r--r-- 1 root root 18289443 Mar 23 14:22 mnist_test.csv\n",
            "-rw-r--r-- 1 root root 36523880 Mar 23 14:22 mnist_train_small.csv\n",
            "-rwxr-xr-x 1 root root      930 Jan  1  2000 README.md\n"
          ]
        }
      ]
    },
    {
      "cell_type": "markdown",
      "source": [
        "## Datos en Python"
      ],
      "metadata": {
        "id": "gXEkXz_RO1m1"
      }
    },
    {
      "cell_type": "code",
      "source": [
        "199"
      ],
      "metadata": {
        "colab": {
          "base_uri": "https://localhost:8080/"
        },
        "id": "uHseEhv1OrJm",
        "outputId": "d2be88ad-ace8-4558-a45b-be51b0f73ad9"
      },
      "execution_count": null,
      "outputs": [
        {
          "output_type": "execute_result",
          "data": {
            "text/plain": [
              "199"
            ]
          },
          "metadata": {},
          "execution_count": 7
        }
      ]
    },
    {
      "cell_type": "code",
      "source": [
        "print(199)"
      ],
      "metadata": {
        "colab": {
          "base_uri": "https://localhost:8080/"
        },
        "id": "dNStHXZfO5GL",
        "outputId": "cacba2e9-afbb-4077-f278-16923558574a"
      },
      "execution_count": null,
      "outputs": [
        {
          "output_type": "stream",
          "name": "stdout",
          "text": [
            "199\n"
          ]
        }
      ]
    },
    {
      "cell_type": "code",
      "source": [
        "print(1)\n",
        "print(2)\n",
        "print(3)"
      ],
      "metadata": {
        "colab": {
          "base_uri": "https://localhost:8080/"
        },
        "id": "jbAGuTgyO7-8",
        "outputId": "7fd73727-ee28-4ae8-f55f-2233dff0f99f"
      },
      "execution_count": null,
      "outputs": [
        {
          "output_type": "stream",
          "name": "stdout",
          "text": [
            "1\n",
            "2\n",
            "3\n"
          ]
        }
      ]
    },
    {
      "cell_type": "code",
      "source": [
        "1\n",
        "2\n",
        "3"
      ],
      "metadata": {
        "colab": {
          "base_uri": "https://localhost:8080/"
        },
        "id": "c-EONxm9O-mO",
        "outputId": "8e53c1e5-2dc7-49e3-8038-9f3ded361e92"
      },
      "execution_count": null,
      "outputs": [
        {
          "output_type": "execute_result",
          "data": {
            "text/plain": [
              "3"
            ]
          },
          "metadata": {},
          "execution_count": 10
        }
      ]
    },
    {
      "cell_type": "code",
      "source": [
        "print(199, type(199))"
      ],
      "metadata": {
        "colab": {
          "base_uri": "https://localhost:8080/"
        },
        "id": "AXTstVBqPAfF",
        "outputId": "30533291-c26a-4c91-bba3-2dadc5023ce6"
      },
      "execution_count": null,
      "outputs": [
        {
          "output_type": "stream",
          "name": "stdout",
          "text": [
            "199 <class 'int'>\n"
          ]
        }
      ]
    },
    {
      "cell_type": "code",
      "source": [
        "print(200.065, type(200.065))\n",
        "print(\"Hola, Mundo\", type(\"Hola, Mundo\"))\n",
        "print('c', type('c'))\n",
        "print(True, type(True))"
      ],
      "metadata": {
        "colab": {
          "base_uri": "https://localhost:8080/"
        },
        "id": "og3NL1MzPKDG",
        "outputId": "2c737d64-c154-4468-e87f-02af204fb9ea"
      },
      "execution_count": null,
      "outputs": [
        {
          "output_type": "stream",
          "name": "stdout",
          "text": [
            "200.065 <class 'float'>\n",
            "Hola, Mundo <class 'str'>\n",
            "c <class 'str'>\n",
            "True <class 'bool'>\n"
          ]
        }
      ]
    },
    {
      "cell_type": "code",
      "source": [
        "x = 3486758487698348459876948576938475698374596348756871293487529034850983698459086\n",
        "print(x)\n",
        "print(type(x))"
      ],
      "metadata": {
        "colab": {
          "base_uri": "https://localhost:8080/"
        },
        "id": "ZKXh53QzPZ7r",
        "outputId": "30691091-9823-450e-f71d-465e5a442ed7"
      },
      "execution_count": null,
      "outputs": [
        {
          "output_type": "stream",
          "name": "stdout",
          "text": [
            "3486758487698348459876948576938475698374596348756871293487529034850983698459086\n",
            "<class 'int'>\n"
          ]
        }
      ]
    },
    {
      "cell_type": "markdown",
      "source": [
        "## Variables"
      ],
      "metadata": {
        "id": "ld1TcxmiP3sH"
      }
    },
    {
      "cell_type": "code",
      "source": [
        "a = 10\n",
        "b = 20\n",
        "c = a + b\n",
        "d, e = c+a, c+b\n",
        "\n",
        "print(a, type(a))\n",
        "print(b, type(b))\n",
        "print(c, type(c))\n",
        "print(d, type(d))\n",
        "print(e, type(e))"
      ],
      "metadata": {
        "colab": {
          "base_uri": "https://localhost:8080/"
        },
        "id": "FmyD2LmtPwCL",
        "outputId": "1b785384-0d73-4c12-e176-a412edd9d61c"
      },
      "execution_count": null,
      "outputs": [
        {
          "output_type": "stream",
          "name": "stdout",
          "text": [
            "10 <class 'int'>\n",
            "20 <class 'int'>\n",
            "30 <class 'int'>\n",
            "40 <class 'int'>\n",
            "50 <class 'int'>\n"
          ]
        }
      ]
    },
    {
      "cell_type": "markdown",
      "source": [
        "### Asignación múltiple"
      ],
      "metadata": {
        "id": "jFU5wROGQTJc"
      }
    },
    {
      "cell_type": "code",
      "source": [
        "a = 10\n",
        "b = \"Hola\"\n",
        "\n",
        "print(a, type(a), b, type(b))\n",
        "\n",
        "a, b = b, a\n",
        "\n",
        "print(a, type(a), b, type(b))"
      ],
      "metadata": {
        "colab": {
          "base_uri": "https://localhost:8080/"
        },
        "id": "erTERxlYQG_9",
        "outputId": "49a7c45b-011a-4dc8-e74d-9192d092e100"
      },
      "execution_count": null,
      "outputs": [
        {
          "output_type": "stream",
          "name": "stdout",
          "text": [
            "10 <class 'int'> Hola <class 'str'>\n",
            "Hola <class 'str'> 10 <class 'int'>\n"
          ]
        }
      ]
    },
    {
      "cell_type": "markdown",
      "source": [
        "## Funciones"
      ],
      "metadata": {
        "id": "zoUE2vD9Qmx4"
      }
    },
    {
      "cell_type": "code",
      "source": [
        "def func1(a, b, c, d):\n",
        "  print(a, type(a))\n",
        "  print(b, type(b))\n",
        "  print(c, type(c))\n",
        "  print(d, type(d))\n",
        "\n",
        "print(\"Definición completa\")"
      ],
      "metadata": {
        "colab": {
          "base_uri": "https://localhost:8080/"
        },
        "id": "AaRBFBIFQcg_",
        "outputId": "bb1f03f6-e721-48e0-f636-ad22e683eaf0"
      },
      "execution_count": null,
      "outputs": [
        {
          "output_type": "stream",
          "name": "stdout",
          "text": [
            "Definición completa\n"
          ]
        }
      ]
    },
    {
      "cell_type": "code",
      "source": [
        "func1(a, b, c, d)"
      ],
      "metadata": {
        "colab": {
          "base_uri": "https://localhost:8080/"
        },
        "id": "NDcbhuL9Ra8A",
        "outputId": "4f541e2e-b718-42a7-a98e-2aeebf054bd3"
      },
      "execution_count": null,
      "outputs": [
        {
          "output_type": "stream",
          "name": "stdout",
          "text": [
            "Hola <class 'str'>\n",
            "10 <class 'int'>\n",
            "30 <class 'int'>\n",
            "40 <class 'int'>\n"
          ]
        }
      ]
    },
    {
      "cell_type": "code",
      "source": [
        "func1(1, 1.1, \"uno\", True)"
      ],
      "metadata": {
        "colab": {
          "base_uri": "https://localhost:8080/"
        },
        "id": "KNP9SUuMSKnR",
        "outputId": "3c0e6a62-657e-401f-9797-81c77176ed78"
      },
      "execution_count": null,
      "outputs": [
        {
          "output_type": "stream",
          "name": "stdout",
          "text": [
            "1 <class 'int'>\n",
            "1.1 <class 'float'>\n",
            "uno <class 'str'>\n",
            "True <class 'bool'>\n"
          ]
        }
      ]
    },
    {
      "cell_type": "code",
      "source": [
        "def sumar(a, b):\n",
        "  return a + b"
      ],
      "metadata": {
        "id": "0GltciazSONJ"
      },
      "execution_count": null,
      "outputs": []
    },
    {
      "cell_type": "code",
      "source": [
        "sumar(10, 45)"
      ],
      "metadata": {
        "colab": {
          "base_uri": "https://localhost:8080/"
        },
        "id": "gnQ4PToUSaON",
        "outputId": "99eaa59e-7250-4202-dfda-d4293c2582e3"
      },
      "execution_count": null,
      "outputs": [
        {
          "output_type": "execute_result",
          "data": {
            "text/plain": [
              "55"
            ]
          },
          "metadata": {},
          "execution_count": 27
        }
      ]
    },
    {
      "cell_type": "code",
      "source": [
        "def func2(l):\n",
        "  area = l*l\n",
        "  perim = 4 * l\n",
        "  return area, perim"
      ],
      "metadata": {
        "id": "mdzl1zlMSRyj"
      },
      "execution_count": null,
      "outputs": []
    },
    {
      "cell_type": "code",
      "source": [
        "func2(11)"
      ],
      "metadata": {
        "colab": {
          "base_uri": "https://localhost:8080/"
        },
        "id": "XLA1AZ5RSX1z",
        "outputId": "b5aa37e4-cb75-4d72-e851-c9f23949f25f"
      },
      "execution_count": null,
      "outputs": [
        {
          "output_type": "execute_result",
          "data": {
            "text/plain": [
              "(121, 44)"
            ]
          },
          "metadata": {},
          "execution_count": 28
        }
      ]
    },
    {
      "cell_type": "code",
      "source": [
        "x = func2(12)"
      ],
      "metadata": {
        "id": "5WuvxSg4Sghb"
      },
      "execution_count": null,
      "outputs": []
    },
    {
      "cell_type": "code",
      "source": [
        "print(x, type(x))"
      ],
      "metadata": {
        "colab": {
          "base_uri": "https://localhost:8080/"
        },
        "id": "vIazx_QQSjh1",
        "outputId": "f5523776-b5cc-4eb7-ff4d-76aa7417606f"
      },
      "execution_count": null,
      "outputs": [
        {
          "output_type": "stream",
          "name": "stdout",
          "text": [
            "(144, 48) <class 'tuple'>\n"
          ]
        }
      ]
    },
    {
      "cell_type": "code",
      "source": [
        "a, p = func2(13)\n",
        "print(a, p)"
      ],
      "metadata": {
        "colab": {
          "base_uri": "https://localhost:8080/"
        },
        "id": "Lt39WU_9SkP7",
        "outputId": "eff750e7-4674-434e-ef15-1ab60c3a425b"
      },
      "execution_count": null,
      "outputs": [
        {
          "output_type": "stream",
          "name": "stdout",
          "text": [
            "169 52\n"
          ]
        }
      ]
    },
    {
      "cell_type": "code",
      "source": [
        "x, y, z = func2(14)"
      ],
      "metadata": {
        "colab": {
          "base_uri": "https://localhost:8080/",
          "height": 172
        },
        "id": "bGUf5DHpStuW",
        "outputId": "8355dbb1-683c-4d82-b147-3b22201cd806"
      },
      "execution_count": null,
      "outputs": [
        {
          "output_type": "error",
          "ename": "ValueError",
          "evalue": "ignored",
          "traceback": [
            "\u001b[0;31m---------------------------------------------------------------------------\u001b[0m",
            "\u001b[0;31mValueError\u001b[0m                                Traceback (most recent call last)",
            "\u001b[0;32m<ipython-input-33-6f3a249a16fd>\u001b[0m in \u001b[0;36m<module>\u001b[0;34m()\u001b[0m\n\u001b[0;32m----> 1\u001b[0;31m \u001b[0mx\u001b[0m\u001b[0;34m,\u001b[0m \u001b[0my\u001b[0m\u001b[0;34m,\u001b[0m \u001b[0mz\u001b[0m \u001b[0;34m=\u001b[0m \u001b[0mfunc2\u001b[0m\u001b[0;34m(\u001b[0m\u001b[0;36m14\u001b[0m\u001b[0;34m)\u001b[0m\u001b[0;34m\u001b[0m\u001b[0;34m\u001b[0m\u001b[0m\n\u001b[0m",
            "\u001b[0;31mValueError\u001b[0m: not enough values to unpack (expected 3, got 2)"
          ]
        }
      ]
    },
    {
      "cell_type": "markdown",
      "source": [
        "## Lists"
      ],
      "metadata": {
        "id": "n1Smz5ZaS5p4"
      }
    },
    {
      "cell_type": "code",
      "source": [
        "a = [1, 2, 3, 4, 5, 6, 7, 8, 9, 10]\n",
        "print(a, type(a))"
      ],
      "metadata": {
        "colab": {
          "base_uri": "https://localhost:8080/"
        },
        "id": "ogU7xAv-Syop",
        "outputId": "ef335b7a-f070-4d07-9871-ca6f6fdbd86a"
      },
      "execution_count": null,
      "outputs": [
        {
          "output_type": "stream",
          "name": "stdout",
          "text": [
            "[1, 2, 3, 4, 5, 6, 7, 8, 9, 10] <class 'list'>\n"
          ]
        }
      ]
    },
    {
      "cell_type": "code",
      "source": [
        "print(a[0])\n",
        "print(a[1])\n",
        "print(a[2])\n",
        "\n",
        "print(a[-1])\n",
        "print(a[-2])"
      ],
      "metadata": {
        "colab": {
          "base_uri": "https://localhost:8080/"
        },
        "id": "t5FDroDGTDoc",
        "outputId": "250a23f5-4bd4-4e46-93b4-ae5c02bbc876"
      },
      "execution_count": null,
      "outputs": [
        {
          "output_type": "stream",
          "name": "stdout",
          "text": [
            "1\n",
            "2\n",
            "3\n",
            "10\n",
            "9\n"
          ]
        }
      ]
    },
    {
      "cell_type": "code",
      "source": [
        "n = len(a)\n",
        "print(n)"
      ],
      "metadata": {
        "colab": {
          "base_uri": "https://localhost:8080/"
        },
        "id": "0goLDm_FTKYK",
        "outputId": "6ae1b5c0-6280-4b3b-966c-0b51bcd9c166"
      },
      "execution_count": null,
      "outputs": [
        {
          "output_type": "stream",
          "name": "stdout",
          "text": [
            "10\n"
          ]
        }
      ]
    },
    {
      "cell_type": "code",
      "source": [
        "print(a[-n])"
      ],
      "metadata": {
        "colab": {
          "base_uri": "https://localhost:8080/"
        },
        "id": "WzzYcFp8TV6B",
        "outputId": "65eb634f-ce6b-4b36-c257-30edff9f7ff3"
      },
      "execution_count": null,
      "outputs": [
        {
          "output_type": "stream",
          "name": "stdout",
          "text": [
            "1\n"
          ]
        }
      ]
    },
    {
      "cell_type": "markdown",
      "source": [
        "### Operaciones con listas"
      ],
      "metadata": {
        "id": "6xtSqay0TaIV"
      }
    },
    {
      "cell_type": "code",
      "source": [
        "a.append(20)\n",
        "print(a)\n",
        "\n",
        "a.remove(7)\n",
        "print(a)\n",
        "\n",
        "del a[4]\n",
        "print(a)\n",
        "\n",
        "a.pop()\n",
        "print(a)"
      ],
      "metadata": {
        "colab": {
          "base_uri": "https://localhost:8080/"
        },
        "id": "CgEZA7P0TXoj",
        "outputId": "7534e73d-c8e8-4b5f-a188-c4a91cdc00dd"
      },
      "execution_count": null,
      "outputs": [
        {
          "output_type": "stream",
          "name": "stdout",
          "text": [
            "[1, 2, 3, 4, 5, 6, 7, 8, 9, 10, 20]\n",
            "[1, 2, 3, 4, 5, 6, 8, 9, 10, 20]\n",
            "[1, 2, 3, 4, 6, 8, 9, 10, 20]\n",
            "[1, 2, 3, 4, 6, 8, 9, 10]\n"
          ]
        }
      ]
    },
    {
      "cell_type": "code",
      "source": [
        "a.insert(5, 30)\n",
        "print(a)"
      ],
      "metadata": {
        "colab": {
          "base_uri": "https://localhost:8080/"
        },
        "id": "KOqQ2Vx2Tp3I",
        "outputId": "2f11b3db-38dc-4706-ec11-a8d61f4916fb"
      },
      "execution_count": null,
      "outputs": [
        {
          "output_type": "stream",
          "name": "stdout",
          "text": [
            "[1, 2, 3, 4, 6, 30, 8, 9, 10]\n"
          ]
        }
      ]
    },
    {
      "cell_type": "code",
      "source": [
        "b = [100, 200, 300]\n",
        "c = a + b\n",
        "print(a)\n",
        "print(b)\n",
        "print(c)"
      ],
      "metadata": {
        "colab": {
          "base_uri": "https://localhost:8080/"
        },
        "id": "6GWrJr4ET2xd",
        "outputId": "d0e8ba12-0951-4acd-8c5f-0641622f6d3b"
      },
      "execution_count": null,
      "outputs": [
        {
          "output_type": "stream",
          "name": "stdout",
          "text": [
            "[1, 2, 3, 4, 6, 30, 8, 9, 10]\n",
            "[100, 200, 300]\n",
            "[1, 2, 3, 4, 6, 30, 8, 9, 10, 100, 200, 300]\n"
          ]
        }
      ]
    },
    {
      "cell_type": "markdown",
      "source": [
        "### Slices"
      ],
      "metadata": {
        "id": "KQOycUChUB8m"
      }
    },
    {
      "cell_type": "code",
      "source": [
        "print(c)\n",
        "print(c[3:8])\n",
        "print(c[:5])\n",
        "print(c[4:])\n",
        "print(c[:])"
      ],
      "metadata": {
        "colab": {
          "base_uri": "https://localhost:8080/"
        },
        "id": "8_PJL7_3T_YV",
        "outputId": "1614b405-76a9-463c-9318-051e760f692e"
      },
      "execution_count": null,
      "outputs": [
        {
          "output_type": "stream",
          "name": "stdout",
          "text": [
            "[1, 2, 3, 4, 6, 30, 8, 9, 10, 100, 200, 300]\n",
            "[4, 6, 30, 8, 9]\n",
            "[1, 2, 3, 4, 6]\n",
            "[6, 30, 8, 9, 10, 100, 200, 300]\n",
            "[1, 2, 3, 4, 6, 30, 8, 9, 10, 100, 200, 300]\n"
          ]
        }
      ]
    },
    {
      "cell_type": "markdown",
      "source": [
        "### Más slices"
      ],
      "metadata": {
        "id": "Upv8FY3bURKH"
      }
    },
    {
      "cell_type": "code",
      "source": [
        "print(c[::1])\n",
        "print(c[::2])\n",
        "print(c[::-1])\n",
        "print(c[::-2])"
      ],
      "metadata": {
        "colab": {
          "base_uri": "https://localhost:8080/"
        },
        "id": "GCWas4KrUNM1",
        "outputId": "940301b8-b03e-4d8d-ae5a-8b0c62b1a5b9"
      },
      "execution_count": null,
      "outputs": [
        {
          "output_type": "stream",
          "name": "stdout",
          "text": [
            "[1, 2, 3, 4, 6, 30, 8, 9, 10, 100, 200, 300]\n",
            "[1, 3, 6, 8, 10, 200]\n",
            "[300, 200, 100, 10, 9, 8, 30, 6, 4, 3, 2, 1]\n",
            "[300, 100, 9, 30, 4, 2]\n"
          ]
        }
      ]
    },
    {
      "cell_type": "markdown",
      "source": [
        "## For"
      ],
      "metadata": {
        "id": "H_E7K2YzU-dE"
      }
    },
    {
      "cell_type": "code",
      "source": [
        "for i in range(10):\n",
        "  print(i)"
      ],
      "metadata": {
        "colab": {
          "base_uri": "https://localhost:8080/"
        },
        "id": "l7RpNUnRUaQ8",
        "outputId": "e356b41c-a4f6-43d4-acdc-7353dbc41cdb"
      },
      "execution_count": null,
      "outputs": [
        {
          "output_type": "stream",
          "name": "stdout",
          "text": [
            "0\n",
            "1\n",
            "2\n",
            "3\n",
            "4\n",
            "5\n",
            "6\n",
            "7\n",
            "8\n",
            "9\n"
          ]
        }
      ]
    },
    {
      "cell_type": "code",
      "source": [
        "for i in range(4, 8):\n",
        "  print(i)"
      ],
      "metadata": {
        "colab": {
          "base_uri": "https://localhost:8080/"
        },
        "id": "NDBIr-5YVFsH",
        "outputId": "f2576e5b-f8fe-4de8-ffe2-b32cc753b931"
      },
      "execution_count": null,
      "outputs": [
        {
          "output_type": "stream",
          "name": "stdout",
          "text": [
            "4\n",
            "5\n",
            "6\n",
            "7\n"
          ]
        }
      ]
    },
    {
      "cell_type": "code",
      "source": [
        "for i in range(4, 100, 18):\n",
        "  print(i)"
      ],
      "metadata": {
        "colab": {
          "base_uri": "https://localhost:8080/"
        },
        "id": "dXcPzBuMVJrM",
        "outputId": "c470ca91-2e58-431b-9867-6ddae7f0b36f"
      },
      "execution_count": null,
      "outputs": [
        {
          "output_type": "stream",
          "name": "stdout",
          "text": [
            "4\n",
            "22\n",
            "40\n",
            "58\n",
            "76\n",
            "94\n"
          ]
        }
      ]
    },
    {
      "cell_type": "code",
      "source": [
        "for i in range(10, 0, -1):\n",
        "  print(i)"
      ],
      "metadata": {
        "colab": {
          "base_uri": "https://localhost:8080/"
        },
        "id": "z1C0efSbVPAQ",
        "outputId": "8606d9a0-69cf-47bb-f7ee-802c25775069"
      },
      "execution_count": null,
      "outputs": [
        {
          "output_type": "stream",
          "name": "stdout",
          "text": [
            "10\n",
            "9\n",
            "8\n",
            "7\n",
            "6\n",
            "5\n",
            "4\n",
            "3\n",
            "2\n",
            "1\n"
          ]
        }
      ]
    },
    {
      "cell_type": "code",
      "source": [
        "print(c)\n",
        "print(c[:])\n",
        "print(c[:len(c)])"
      ],
      "metadata": {
        "colab": {
          "base_uri": "https://localhost:8080/"
        },
        "id": "kweTnGx7VYae",
        "outputId": "58aa6918-5c8c-4e6a-fd83-70fa71a67676"
      },
      "execution_count": null,
      "outputs": [
        {
          "output_type": "stream",
          "name": "stdout",
          "text": [
            "[1, 2, 3, 4, 6, 30, 8, 9, 10, 100, 200, 300]\n",
            "[1, 2, 3, 4, 6, 30, 8, 9, 10, 100, 200, 300]\n",
            "[1, 2, 3, 4, 6, 30, 8, 9, 10, 100, 200, 300]\n"
          ]
        }
      ]
    },
    {
      "cell_type": "code",
      "source": [
        "for e in c:\n",
        "  print(e)"
      ],
      "metadata": {
        "colab": {
          "base_uri": "https://localhost:8080/"
        },
        "id": "vdHrmaNqVhRF",
        "outputId": "35a70584-bd9f-4c9d-a402-50ca5a2dfdb8"
      },
      "execution_count": null,
      "outputs": [
        {
          "output_type": "stream",
          "name": "stdout",
          "text": [
            "1\n",
            "2\n",
            "3\n",
            "4\n",
            "6\n",
            "30\n",
            "8\n",
            "9\n",
            "10\n",
            "100\n",
            "200\n",
            "300\n"
          ]
        }
      ]
    },
    {
      "cell_type": "code",
      "source": [
        "for i in range(len(c)):\n",
        "  print(i, c[i])"
      ],
      "metadata": {
        "colab": {
          "base_uri": "https://localhost:8080/"
        },
        "id": "EGAr1WICVm11",
        "outputId": "07d8e2e1-40aa-4306-8fdb-27cfb347f33e"
      },
      "execution_count": null,
      "outputs": [
        {
          "output_type": "stream",
          "name": "stdout",
          "text": [
            "0 1\n",
            "1 2\n",
            "2 3\n",
            "3 4\n",
            "4 6\n",
            "5 30\n",
            "6 8\n",
            "7 9\n",
            "8 10\n",
            "9 100\n",
            "10 200\n",
            "11 300\n"
          ]
        }
      ]
    },
    {
      "cell_type": "code",
      "source": [
        "print(c[4:8])\n",
        "for i in range(4, 8):\n",
        "  print(i, c[i])"
      ],
      "metadata": {
        "colab": {
          "base_uri": "https://localhost:8080/"
        },
        "id": "_HeFgg5qVr2n",
        "outputId": "313198e1-a1d9-4536-e811-f5b9211a65ce"
      },
      "execution_count": null,
      "outputs": [
        {
          "output_type": "stream",
          "name": "stdout",
          "text": [
            "[6, 30, 8, 9]\n",
            "4 6\n",
            "5 30\n",
            "6 8\n",
            "7 9\n"
          ]
        }
      ]
    },
    {
      "cell_type": "code",
      "source": [
        "print(c[5:])\n",
        "for i in range(5, len(c)):\n",
        "  print(i, c[i])"
      ],
      "metadata": {
        "colab": {
          "base_uri": "https://localhost:8080/"
        },
        "id": "IYgHiia4Vyat",
        "outputId": "6c2c9e5a-80ed-4166-c1c7-c76a679a7060"
      },
      "execution_count": null,
      "outputs": [
        {
          "output_type": "stream",
          "name": "stdout",
          "text": [
            "[30, 8, 9, 10, 100, 200, 300]\n",
            "5 30\n",
            "6 8\n",
            "7 9\n",
            "8 10\n",
            "9 100\n",
            "10 200\n",
            "11 300\n"
          ]
        }
      ]
    },
    {
      "cell_type": "code",
      "source": [
        "print(c[::2])\n",
        "for i in range(0, len(c), 2):\n",
        "  print(i, c[i])"
      ],
      "metadata": {
        "colab": {
          "base_uri": "https://localhost:8080/"
        },
        "id": "hPBPwvYQV5if",
        "outputId": "1eb037e4-41a1-4b05-bd57-37f5653574f7"
      },
      "execution_count": null,
      "outputs": [
        {
          "output_type": "stream",
          "name": "stdout",
          "text": [
            "[1, 3, 6, 8, 10, 200]\n",
            "0 1\n",
            "2 3\n",
            "4 6\n",
            "6 8\n",
            "8 10\n",
            "10 200\n"
          ]
        }
      ]
    },
    {
      "cell_type": "code",
      "source": [
        "print(c[::-1])\n",
        "for i in range(len(c)-1, -1, -1):\n",
        "  print(i, c[i])"
      ],
      "metadata": {
        "colab": {
          "base_uri": "https://localhost:8080/"
        },
        "id": "W-PsYwUzV_2s",
        "outputId": "14ab3fbd-e339-49ed-a54d-0117b3900e0d"
      },
      "execution_count": null,
      "outputs": [
        {
          "output_type": "stream",
          "name": "stdout",
          "text": [
            "[300, 200, 100, 10, 9, 8, 30, 6, 4, 3, 2, 1]\n",
            "11 300\n",
            "10 200\n",
            "9 100\n",
            "8 10\n",
            "7 9\n",
            "6 8\n",
            "5 30\n",
            "4 6\n",
            "3 4\n",
            "2 3\n",
            "1 2\n",
            "0 1\n"
          ]
        }
      ]
    },
    {
      "cell_type": "code",
      "source": [
        "print(c[::-2])\n",
        "for i in range(len(c)-1, -1, -2):\n",
        "  print(i, c[i])"
      ],
      "metadata": {
        "colab": {
          "base_uri": "https://localhost:8080/"
        },
        "id": "IbxTDMHUWI3J",
        "outputId": "ec9f2061-30f9-4560-a007-ed8e4afbbe6a"
      },
      "execution_count": null,
      "outputs": [
        {
          "output_type": "stream",
          "name": "stdout",
          "text": [
            "[300, 100, 9, 30, 4, 2]\n",
            "11 300\n",
            "9 100\n",
            "7 9\n",
            "5 30\n",
            "3 4\n",
            "1 2\n"
          ]
        }
      ]
    },
    {
      "cell_type": "markdown",
      "source": [
        "## Algunos ejercicios"
      ],
      "metadata": {
        "id": "-SL4AwL8WWhm"
      }
    },
    {
      "cell_type": "code",
      "source": [
        "\"\"\"\n",
        "n = 4\n",
        "      *\n",
        "    *   *\n",
        "  *       *\n",
        "*           *\n",
        "  *       *\n",
        "    *   *\n",
        "      *\n",
        "\"\"\"\n",
        "\n",
        "def rombus(n):\n",
        "  print(\"  \"*n, \"*\")\n",
        "  for i in range(1, n):\n",
        "    print(\"  \"*(n-i), \"*\", \"  \"*((i-1)*2), \" *\")\n",
        "  for i in range(n-2, 0, -1):\n",
        "    print(\"  \"*(n-i), \"*\", \"  \"*((i-1)*2), \" *\")\n",
        "  print(\"  \"*n, \"*\")\n",
        "\n",
        "rombus(10)"
      ],
      "metadata": {
        "colab": {
          "base_uri": "https://localhost:8080/"
        },
        "id": "gFp2hrpRWPMB",
        "outputId": "8046078b-727c-4618-a64e-e1c8c8be0efa"
      },
      "execution_count": null,
      "outputs": [
        {
          "output_type": "stream",
          "name": "stdout",
          "text": [
            "                     *\n",
            "                   *   *\n",
            "                 *       *\n",
            "               *           *\n",
            "             *               *\n",
            "           *                   *\n",
            "         *                       *\n",
            "       *                           *\n",
            "     *                               *\n",
            "   *                                   *\n",
            "     *                               *\n",
            "       *                           *\n",
            "         *                       *\n",
            "           *                   *\n",
            "             *               *\n",
            "               *           *\n",
            "                 *       *\n",
            "                   *   *\n",
            "                     *\n"
          ]
        }
      ]
    },
    {
      "cell_type": "code",
      "source": [
        "def sortchars(chars):\n",
        "  chars2 = []\n",
        "  for ch in chars:\n",
        "    chars2.append(ch)\n",
        "  chars2.sort()\n",
        "  return \"\".join(chars2)\n",
        "\n",
        "sortchars(\"habia una vez un barco chiquitito\")"
      ],
      "metadata": {
        "colab": {
          "base_uri": "https://localhost:8080/",
          "height": 35
        },
        "id": "2jBIVezfWbvn",
        "outputId": "ec4a190a-818d-4e8b-f092-49fb8cd09b41"
      },
      "execution_count": null,
      "outputs": [
        {
          "output_type": "execute_result",
          "data": {
            "text/plain": [
              "'     aaaabbccehhiiiinnooqrttuuuvz'"
            ],
            "application/vnd.google.colaboratory.intrinsic+json": {
              "type": "string"
            }
          },
          "metadata": {},
          "execution_count": 56
        }
      ]
    },
    {
      "cell_type": "code",
      "source": [
        "#import pdb\n",
        "\n",
        "def balanced(text):\n",
        "  stack = []\n",
        "  #pdb.set_trace()\n",
        "  for ch in text:\n",
        "    if ch in \"([{\":\n",
        "      stack.append(ch)\n",
        "    else:\n",
        "      if len(stack) == 0:\n",
        "        return \"NO\"\n",
        "      elif ch == \")\" and stack[-1] == \"(\" or \\\n",
        "       ch == \"]\" and stack[-1] == \"[\" or \\\n",
        "       ch == \"}\" and stack[-1] == \"{\":\n",
        "        stack.pop()\n",
        "      else:\n",
        "        return \"NO\"\n",
        "  return \"YES\" if len(stack) == 0 else \"NO\"\n",
        "\n",
        "print(balanced(\"{[()]}\"))\n",
        "print(balanced(\"{[(])}\"))\n",
        "print(balanced(\"{{[[(())]]}}\"))"
      ],
      "metadata": {
        "colab": {
          "base_uri": "https://localhost:8080/"
        },
        "id": "aY5rR3UjWg5u",
        "outputId": "0559b6c1-ab1d-4f05-ccca-56371c0a37df"
      },
      "execution_count": null,
      "outputs": [
        {
          "output_type": "stream",
          "name": "stdout",
          "text": [
            "YES\n",
            "NO\n",
            "YES\n"
          ]
        }
      ]
    },
    {
      "cell_type": "code",
      "source": [
        ""
      ],
      "metadata": {
        "id": "jHpsL9VCWqdH"
      },
      "execution_count": null,
      "outputs": []
    }
  ]
}