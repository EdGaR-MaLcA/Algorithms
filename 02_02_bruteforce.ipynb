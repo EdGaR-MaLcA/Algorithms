{
  "nbformat": 4,
  "nbformat_minor": 0,
  "metadata": {
    "colab": {
      "name": "02-02-bruteforce.ipynb",
      "provenance": [],
      "authorship_tag": "ABX9TyPCJfHqartMJaih3KSKTVPZ",
      "include_colab_link": true
    },
    "kernelspec": {
      "name": "python3",
      "display_name": "Python 3"
    },
    "language_info": {
      "name": "python"
    }
  },
  "cells": [
    {
      "cell_type": "markdown",
      "metadata": {
        "id": "view-in-github",
        "colab_type": "text"
      },
      "source": [
        "<a href=\"https://colab.research.google.com/github/lmcanavals/acomplex/blob/main/02_02_bruteforce.ipynb\" target=\"_parent\"><img src=\"https://colab.research.google.com/assets/colab-badge.svg\" alt=\"Open In Colab\"/></a>"
      ]
    },
    {
      "cell_type": "markdown",
      "source": [
        "## String Matching"
      ],
      "metadata": {
        "id": "iL6ugfHu4cNK"
      }
    },
    {
      "cell_type": "code",
      "execution_count": 1,
      "metadata": {
        "id": "0shfaOs_4SzA"
      },
      "outputs": [],
      "source": [
        "def strmatch(t, p):\n",
        "  n = len(t)\n",
        "  l = len(p)\n",
        "  results = []\n",
        "  for i in range(n - l):\n",
        "    if p == t[i:i+l]:\n",
        "      results.append(i)\n",
        "\n",
        "  return results"
      ]
    },
    {
      "cell_type": "code",
      "source": [
        "strmatch(\"abracadabracalamzoo\", \"rac\")"
      ],
      "metadata": {
        "colab": {
          "base_uri": "https://localhost:8080/"
        },
        "id": "Y-KX2Y2x4yGh",
        "outputId": "91029d05-309e-4d76-9b4a-5a557a7708ed"
      },
      "execution_count": 2,
      "outputs": [
        {
          "output_type": "execute_result",
          "data": {
            "text/plain": [
              "[2, 9]"
            ]
          },
          "metadata": {},
          "execution_count": 2
        }
      ]
    },
    {
      "cell_type": "code",
      "source": [
        ""
      ],
      "metadata": {
        "id": "l4ENJIdG41D8"
      },
      "execution_count": null,
      "outputs": []
    }
  ]
}