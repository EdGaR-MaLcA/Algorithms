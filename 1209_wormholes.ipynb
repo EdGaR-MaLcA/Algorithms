{
  "nbformat": 4,
  "nbformat_minor": 0,
  "metadata": {
    "colab": {
      "provenance": [],
      "authorship_tag": "ABX9TyNoQ4RlkUtHiT5KmX5oIKRh",
      "include_colab_link": true
    },
    "kernelspec": {
      "name": "python3",
      "display_name": "Python 3"
    },
    "language_info": {
      "name": "python"
    }
  },
  "cells": [
    {
      "cell_type": "markdown",
      "metadata": {
        "id": "view-in-github",
        "colab_type": "text"
      },
      "source": [
        "<a href=\"https://colab.research.google.com/github/lmcanavals/acomplex/blob/main/1209_wormholes.ipynb\" target=\"_parent\"><img src=\"https://colab.research.google.com/assets/colab-badge.svg\" alt=\"Open In Colab\"/></a>"
      ]
    },
    {
      "cell_type": "markdown",
      "source": [
        "# [558 - Wormholes](https://onlinejudge.org/external/5/558.pdf)"
      ],
      "metadata": {
        "id": "I3fD5SdH9zcB"
      }
    },
    {
      "cell_type": "code",
      "execution_count": 1,
      "metadata": {
        "colab": {
          "base_uri": "https://localhost:8080/"
        },
        "id": "M8zOM_SG7npL",
        "outputId": "0bc62389-feba-4f76-dede-0ce315ed23a3"
      },
      "outputs": [
        {
          "output_type": "stream",
          "name": "stdout",
          "text": [
            "Writing 1.in\n"
          ]
        }
      ],
      "source": [
        "%%file 1.in\n",
        "2\n",
        "3 3\n",
        "0 1 1000\n",
        "1 2 15\n",
        "2 1 -42\n",
        "4 4\n",
        "0 1 10\n",
        "1 2 20\n",
        "2 3 30\n",
        "3 0 -60"
      ]
    },
    {
      "cell_type": "code",
      "source": [
        "import math\n",
        "\n",
        "def bellmanFord(G, s):\n",
        "  n = len(G)\n",
        "  path = [-1]*n\n",
        "  g = [math.inf]*n\n",
        "  g[s] = 0\n",
        "  for _ in range(n-1):\n",
        "    for u in range(n):\n",
        "      for v, w in G[u]:\n",
        "        if g[u] + w < g[v]:\n",
        "          g[v] = g[u] + w\n",
        "          path[v] = u\n",
        "\n",
        "  for u in range(n):\n",
        "    for v, w in G[u]:\n",
        "      if g[u] + w < g[v]:\n",
        "        return None, None, False \n",
        "\n",
        "  return path, g, True\n",
        "\n",
        "  "
      ],
      "metadata": {
        "id": "EmmeTlkG9GCj"
      },
      "execution_count": 3,
      "outputs": []
    },
    {
      "cell_type": "code",
      "source": [
        "with open(\"1.in\") as f:\n",
        "  c = int(f.readline().strip())\n",
        "  for i in range(c):\n",
        "    n, m = map(int, f.readline().split())\n",
        "    G = [[] for _ in range(n)]\n",
        "    for _ in range(m):\n",
        "      x, y, t = map(int, f.readline().split())\n",
        "      G[x].append((y, t))\n",
        "\n",
        "    _, _, ok = bellmanFord(G, 0)\n",
        "    print(\"not possible\" if ok else \"possible\")"
      ],
      "metadata": {
        "colab": {
          "base_uri": "https://localhost:8080/"
        },
        "id": "wKV8UNBP76SD",
        "outputId": "c027789a-cca5-4eb5-d5f5-c22217313510"
      },
      "execution_count": 5,
      "outputs": [
        {
          "output_type": "stream",
          "name": "stdout",
          "text": [
            "possible\n",
            "not possible\n"
          ]
        }
      ]
    },
    {
      "cell_type": "code",
      "source": [],
      "metadata": {
        "id": "JdJQgshs8yKl"
      },
      "execution_count": null,
      "outputs": []
    }
  ]
}