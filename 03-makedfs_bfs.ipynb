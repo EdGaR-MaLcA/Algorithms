{
  "nbformat": 4,
  "nbformat_minor": 0,
  "metadata": {
    "colab": {
      "provenance": [],
      "authorship_tag": "ABX9TyOj2bP7W3QF2VcJDqJ/r4bC",
      "include_colab_link": true
    },
    "kernelspec": {
      "name": "python3",
      "display_name": "Python 3"
    },
    "language_info": {
      "name": "python"
    }
  },
  "cells": [
    {
      "cell_type": "markdown",
      "metadata": {
        "id": "view-in-github",
        "colab_type": "text"
      },
      "source": [
        "<a href=\"https://colab.research.google.com/github/lmcanavals/acomplex/blob/main/03-makedfs_bfs.ipynb\" target=\"_parent\"><img src=\"https://colab.research.google.com/assets/colab-badge.svg\" alt=\"Open In Colab\"/></a>"
      ]
    },
    {
      "cell_type": "code",
      "execution_count": 1,
      "metadata": {
        "id": "JW9s3k_8y8Pf"
      },
      "outputs": [],
      "source": [
        "rawbase = \"https://raw.githubusercontent.com/lmcanavals/algorithmic_complexity/main/\""
      ]
    },
    {
      "cell_type": "code",
      "source": [
        "ds = f\"{rawbase}disjointset.py\"\n",
        "mb = f\"{rawbase}mazebuilder.py\"\n",
        "!curl -O $ds\n",
        "!curl -O $mb"
      ],
      "metadata": {
        "colab": {
          "base_uri": "https://localhost:8080/"
        },
        "id": "nwadhMmHzu2H",
        "outputId": "fbbe06f7-909a-4f66-f8fc-e4b520259d7c"
      },
      "execution_count": 2,
      "outputs": [
        {
          "output_type": "stream",
          "name": "stdout",
          "text": [
            "  % Total    % Received % Xferd  Average Speed   Time    Time     Time  Current\n",
            "                                 Dload  Upload   Total   Spent    Left  Speed\n",
            "100   602  100   602    0     0   1813      0 --:--:-- --:--:-- --:--:--  1807\n",
            "  % Total    % Received % Xferd  Average Speed   Time    Time     Time  Current\n",
            "                                 Dload  Upload   Total   Spent    Left  Speed\n",
            "100  1130  100  1130    0     0   5594      0 --:--:-- --:--:-- --:--:--  5594\n"
          ]
        }
      ]
    },
    {
      "cell_type": "code",
      "source": [
        "import mazebuilder as mb"
      ],
      "metadata": {
        "id": "bJSCHF9M0ENS"
      },
      "execution_count": 4,
      "outputs": []
    },
    {
      "cell_type": "code",
      "source": [
        "maze = mb.makeMaze(3, 4)\n",
        "print(maze)"
      ],
      "metadata": {
        "colab": {
          "base_uri": "https://localhost:8080/"
        },
        "id": "flgEg01P0Mgz",
        "outputId": "2479a3fd-43f1-418f-d47c-a5b9e62f21bd"
      },
      "execution_count": 5,
      "outputs": [
        {
          "output_type": "stream",
          "name": "stdout",
          "text": [
            "[[0. 0. 0. 0. 0. 0. 0. 0. 0.]\n",
            " [3. 1. 0. 1. 1. 1. 1. 1. 0.]\n",
            " [0. 1. 0. 1. 0. 1. 0. 1. 0.]\n",
            " [0. 1. 1. 1. 0. 1. 0. 1. 0.]\n",
            " [0. 1. 0. 0. 0. 1. 0. 1. 0.]\n",
            " [0. 1. 1. 1. 0. 1. 0. 1. 3.]\n",
            " [0. 0. 0. 0. 0. 0. 0. 0. 0.]]\n"
          ]
        }
      ]
    },
    {
      "cell_type": "code",
      "source": [
        "import matplotlib.pyplot as plt"
      ],
      "metadata": {
        "id": "THl0lM040meE"
      },
      "execution_count": 6,
      "outputs": []
    },
    {
      "cell_type": "code",
      "source": [
        "plt.imshow(maze, cmap=\"Greys_r\")"
      ],
      "metadata": {
        "colab": {
          "base_uri": "https://localhost:8080/",
          "height": 282
        },
        "id": "EXbi4PNf0yA8",
        "outputId": "af5ce16b-a359-452f-ba9e-4000fb383224"
      },
      "execution_count": 7,
      "outputs": [
        {
          "output_type": "execute_result",
          "data": {
            "text/plain": [
              "<matplotlib.image.AxesImage at 0x7f54325d6650>"
            ]
          },
          "metadata": {},
          "execution_count": 7
        },
        {
          "output_type": "display_data",
          "data": {
            "text/plain": [
              "<Figure size 432x288 with 1 Axes>"
            ],
            "image/png": "[encoded data removed]"
          },
          "metadata": {
            "needs_background": "light"
          }
        }
      ]
    },
    {
      "cell_type": "code",
      "source": [
        "def dfs(maze, s, t):\n",
        "    n, m = maze.shape\n",
        "    \n",
        "    def _dfs(u):\n",
        "        if maze[u] == 1:\n",
        "            maze[u] = 3\n",
        "            if u == t:\n",
        "                return True\n",
        "            i, j = u\n",
        "            nbs = [(i-1, j), (i, j-1), (i, j+1), (i+1, j)]\n",
        "            for v in nbs:\n",
        "                if maze[v] == 1:\n",
        "                    if _dfs(v):\n",
        "                        return True\n",
        "            maze[u] = 2\n",
        "        return False\n",
        "\n",
        "    _dfs(s)"
      ],
      "metadata": {
        "id": "Fr38urBy0zvK"
      },
      "execution_count": 8,
      "outputs": []
    },
    {
      "cell_type": "code",
      "source": [
        "n, m = maze.shape\n",
        "dfs(maze, (1, 1), (n-2, m-2))\n",
        "plt.imshow(maze, cmap=\"inferno\")"
      ],
      "metadata": {
        "colab": {
          "base_uri": "https://localhost:8080/",
          "height": 282
        },
        "id": "_RVPlyRZ5_eG",
        "outputId": "b1f5bd3a-e90c-4522-97d8-0d94cd102903"
      },
      "execution_count": 9,
      "outputs": [
        {
          "output_type": "execute_result",
          "data": {
            "text/plain": [
              "<matplotlib.image.AxesImage at 0x7f5432557ad0>"
            ]
          },
          "metadata": {},
          "execution_count": 9
        },
        {
          "output_type": "display_data",
          "data": {
            "text/plain": [
              "<Figure size 432x288 with 1 Axes>"
            ],
            "image/png": "[encoded data removed]"
          },
          "metadata": {
            "needs_background": "light"
          }
        }
      ]
    },
    {
      "cell_type": "code",
      "source": [
        "def bfs(maze, s, t):\n",
        "    n, m = maze.shape\n",
        "    q = [s]\n",
        "    maze[s] = 3\n",
        "    while q:\n",
        "        u = q.pop(0)\n",
        "        if u == t:\n",
        "            break\n",
        "        i, j = u\n",
        "        nbs = [(i-1, j), (i, j-1), (i, j+1), (i+1, j)]\n",
        "        for v in nbs:\n",
        "            if maze[v] == 1:\n",
        "                maze[v] = 3\n",
        "                q.append(v)"
      ],
      "metadata": {
        "id": "vRId4u7r7PIX"
      },
      "execution_count": 12,
      "outputs": []
    },
    {
      "cell_type": "code",
      "source": [
        "maze = mb.makeMaze(10, 20)\n",
        "plt.imshow(maze, cmap=\"inferno\")"
      ],
      "metadata": {
        "colab": {
          "base_uri": "https://localhost:8080/",
          "height": 236
        },
        "id": "FHXosirE6J5f",
        "outputId": "d1782616-5026-4b25-e388-0db38db58b99"
      },
      "execution_count": 13,
      "outputs": [
        {
          "output_type": "execute_result",
          "data": {
            "text/plain": [
              "<matplotlib.image.AxesImage at 0x7f5429d2fb50>"
            ]
          },
          "metadata": {},
          "execution_count": 13
        },
        {
          "output_type": "display_data",
          "data": {
            "text/plain": [
              "<Figure size 432x288 with 1 Axes>"
            ],
            "image/png": "[encoded data removed]"
          },
          "metadata": {
            "needs_background": "light"
          }
        }
      ]
    },
    {
      "cell_type": "code",
      "source": [
        "n, m = maze.shape\n",
        "copy = maze.copy()\n",
        "dfs(copy, (1, 1), (n-2, m-2))\n",
        "plt.imshow(copy, cmap=\"inferno\")"
      ],
      "metadata": {
        "colab": {
          "base_uri": "https://localhost:8080/",
          "height": 236
        },
        "id": "tpgJl4_q6LY-",
        "outputId": "795a511c-f6a2-4c77-a7af-ac22cd166b70"
      },
      "execution_count": 15,
      "outputs": [
        {
          "output_type": "execute_result",
          "data": {
            "text/plain": [
              "<matplotlib.image.AxesImage at 0x7f5429d2fe90>"
            ]
          },
          "metadata": {},
          "execution_count": 15
        },
        {
          "output_type": "display_data",
          "data": {
            "text/plain": [
              "<Figure size 432x288 with 1 Axes>"
            ],
            "image/png": "[encoded data removed]"
          },
          "metadata": {
            "needs_background": "light"
          }
        }
      ]
    },
    {
      "cell_type": "code",
      "source": [
        "n, m = maze.shape\n",
        "copy = maze.copy()\n",
        "bfs(copy, (1, 1), (n-2, m-2))\n",
        "plt.imshow(copy, cmap=\"inferno\")"
      ],
      "metadata": {
        "colab": {
          "base_uri": "https://localhost:8080/",
          "height": 236
        },
        "id": "QXTf41Umd6qx",
        "outputId": "6889daa7-e6f0-400c-af00-5a6beb4ea05a"
      },
      "execution_count": 16,
      "outputs": [
        {
          "output_type": "execute_result",
          "data": {
            "text/plain": [
              "<matplotlib.image.AxesImage at 0x7f5429d27190>"
            ]
          },
          "metadata": {},
          "execution_count": 16
        },
        {
          "output_type": "display_data",
          "data": {
            "text/plain": [
              "<Figure size 432x288 with 1 Axes>"
            ],
            "image/png": "[encoded data removed]"
          },
          "metadata": {
            "needs_background": "light"
          }
        }
      ]
    },
    {
      "cell_type": "code",
      "source": [],
      "metadata": {
        "id": "doFA7NLEeZS8"
      },
      "execution_count": null,
      "outputs": []
    }
  ]
}