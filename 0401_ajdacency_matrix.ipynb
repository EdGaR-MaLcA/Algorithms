{
  "nbformat": 4,
  "nbformat_minor": 0,
  "metadata": {
    "colab": {
      "name": "0401-ajdacency_matrix.ipynb",
      "provenance": [],
      "authorship_tag": "ABX9TyNpLvqwEQX1QZEPsKF5niXZ",
      "include_colab_link": true
    },
    "kernelspec": {
      "name": "python3",
      "display_name": "Python 3"
    },
    "language_info": {
      "name": "python"
    }
  },
  "cells": [
    {
      "cell_type": "markdown",
      "metadata": {
        "id": "view-in-github",
        "colab_type": "text"
      },
      "source": [
        "<a href=\"https://colab.research.google.com/github/lmcanavals/acomplex/blob/main/0401_ajdacency_matrix.ipynb\" target=\"_parent\"><img src=\"https://colab.research.google.com/assets/colab-badge.svg\" alt=\"Open In Colab\"/></a>"
      ]
    },
    {
      "cell_type": "code",
      "execution_count": 1,
      "metadata": {
        "id": "MUAJ39vRhR39"
      },
      "outputs": [],
      "source": [
        "import numpy as np"
      ]
    },
    {
      "cell_type": "code",
      "source": [
        "m = [[1, 0, 1, 0],\n",
        "     [1, 0, 1, 1],\n",
        "     [0, 1, 1, 0],\n",
        "     [1, 0, 0, 0]]\n",
        "print(m)\n",
        "m = np.array(m)"
      ],
      "metadata": {
        "colab": {
          "base_uri": "https://localhost:8080/"
        },
        "id": "3KIzZG9DhY85",
        "outputId": "e0b1535b-ebf7-4fb5-acdd-65617e3d9cb9"
      },
      "execution_count": 5,
      "outputs": [
        {
          "output_type": "stream",
          "name": "stdout",
          "text": [
            "[[1, 0, 1, 0], [1, 0, 1, 1], [0, 1, 1, 0], [1, 0, 0, 0]]\n"
          ]
        }
      ]
    },
    {
      "cell_type": "code",
      "source": [
        "print(m)"
      ],
      "metadata": {
        "colab": {
          "base_uri": "https://localhost:8080/"
        },
        "id": "jEqM4eK4hs-q",
        "outputId": "a67c368e-5d67-49ee-a3ad-25749b90d74c"
      },
      "execution_count": 6,
      "outputs": [
        {
          "output_type": "stream",
          "name": "stdout",
          "text": [
            "[[1 0 1 0]\n",
            " [1 0 1 1]\n",
            " [0 1 1 0]\n",
            " [1 0 0 0]]\n"
          ]
        }
      ]
    },
    {
      "cell_type": "code",
      "source": [
        "%%file 1.am\n",
        "1 0 1 0\n",
        "1 0 1 1\n",
        "0 1 1 0\n",
        "1 0 0 0"
      ],
      "metadata": {
        "colab": {
          "base_uri": "https://localhost:8080/"
        },
        "id": "PxMKTiqzhzBh",
        "outputId": "3dbb3607-27c2-4d06-b3d6-3cd1fd8dd2b3"
      },
      "execution_count": 7,
      "outputs": [
        {
          "output_type": "stream",
          "name": "stdout",
          "text": [
            "Writing 1.am\n"
          ]
        }
      ]
    },
    {
      "cell_type": "code",
      "source": [
        "m2 = np.loadtxt(\"1.am\", dtype=int)\n",
        "print(m2)"
      ],
      "metadata": {
        "colab": {
          "base_uri": "https://localhost:8080/"
        },
        "id": "POYPWX0xiDoI",
        "outputId": "3c02b509-d405-45e4-d732-34ff6a906c62"
      },
      "execution_count": 11,
      "outputs": [
        {
          "output_type": "stream",
          "name": "stdout",
          "text": [
            "[[1 0 1 0]\n",
            " [1 0 1 1]\n",
            " [0 1 1 0]\n",
            " [1 0 0 0]]\n"
          ]
        }
      ]
    },
    {
      "cell_type": "code",
      "source": [
        "n = len(m)\n",
        "for i in range(n):\n",
        "  for j in range(n):\n",
        "    if m[i, j] == 1:\n",
        "      print(f\"There is an EDGE from node {i} to node {j}\")"
      ],
      "metadata": {
        "colab": {
          "base_uri": "https://localhost:8080/"
        },
        "id": "nlQlCp8_kHwv",
        "outputId": "1cbf4676-505e-4d17-a056-04c8729cb14f"
      },
      "execution_count": 16,
      "outputs": [
        {
          "output_type": "stream",
          "name": "stdout",
          "text": [
            "There is an EDGE from node 0 to node 0\n",
            "There is an EDGE from node 0 to node 2\n",
            "There is an EDGE from node 1 to node 0\n",
            "There is an EDGE from node 1 to node 2\n",
            "There is an EDGE from node 1 to node 3\n",
            "There is an EDGE from node 2 to node 1\n",
            "There is an EDGE from node 2 to node 2\n",
            "There is an EDGE from node 3 to node 0\n"
          ]
        }
      ]
    },
    {
      "cell_type": "code",
      "source": [
        "import graphviz as gv"
      ],
      "metadata": {
        "id": "dcJQJ61_iVhA"
      },
      "execution_count": 12,
      "outputs": []
    },
    {
      "cell_type": "code",
      "source": [
        "gv.Source(\"\"\"\n",
        "digraph regexp {\n",
        " n0 -> n1;\n",
        " n0 -> n2;\n",
        " n0 -> n3;\n",
        " n1 -> n4;\n",
        " n1 -> n9;\n",
        " n4 -> n2;\n",
        "}\n",
        "\"\"\")"
      ],
      "metadata": {
        "colab": {
          "base_uri": "https://localhost:8080/",
          "height": 367
        },
        "id": "lRrN47pfir4d",
        "outputId": "9aa678a4-d143-49c1-8acf-de2685fe8c1c"
      },
      "execution_count": 21,
      "outputs": [
        {
          "output_type": "execute_result",
          "data": {
            "text/plain": [
              "<graphviz.files.Source at 0x7fa51854dd50>"
            ],
            "image/svg+xml": "<?xml version=\"1.0\" encoding=\"UTF-8\" standalone=\"no\"?>\n<!DOCTYPE svg PUBLIC \"-//W3C//DTD SVG 1.1//EN\"\n \"http://www.w3.org/Graphics/SVG/1.1/DTD/svg11.dtd\">\n<!-- Generated by graphviz version 2.40.1 (20161225.0304)\n -->\n<!-- Title: regexp Pages: 1 -->\n<svg width=\"244pt\" height=\"260pt\"\n viewBox=\"0.00 0.00 244.00 260.00\" xmlns=\"http://www.w3.org/2000/svg\" xmlns:xlink=\"http://www.w3.org/1999/xlink\">\n<g id=\"graph0\" class=\"graph\" transform=\"scale(1 1) rotate(0) translate(4 256)\">\n<title>regexp</title>\n<polygon fill=\"#ffffff\" stroke=\"transparent\" points=\"-4,4 -4,-256 240,-256 240,4 -4,4\"/>\n<!-- n0 -->\n<g id=\"node1\" class=\"node\">\n<title>n0</title>\n<ellipse fill=\"none\" stroke=\"#000000\" cx=\"154\" cy=\"-234\" rx=\"27\" ry=\"18\"/>\n<text text-anchor=\"middle\" x=\"154\" y=\"-230.3\" font-family=\"Times,serif\" font-size=\"14.00\" fill=\"#000000\">n0</text>\n</g>\n<!-- n1 -->\n<g id=\"node2\" class=\"node\">\n<title>n1</title>\n<ellipse fill=\"none\" stroke=\"#000000\" cx=\"99\" cy=\"-162\" rx=\"27\" ry=\"18\"/>\n<text text-anchor=\"middle\" x=\"99\" y=\"-158.3\" font-family=\"Times,serif\" font-size=\"14.00\" fill=\"#000000\">n1</text>\n</g>\n<!-- n0&#45;&gt;n1 -->\n<g id=\"edge1\" class=\"edge\">\n<title>n0&#45;&gt;n1</title>\n<path fill=\"none\" stroke=\"#000000\" d=\"M141.5196,-217.6621C134.4876,-208.4564 125.5653,-196.7764 117.7117,-186.4953\"/>\n<polygon fill=\"#000000\" stroke=\"#000000\" points=\"120.2828,-184.0953 111.431,-178.2733 114.72,-188.3446 120.2828,-184.0953\"/>\n</g>\n<!-- n2 -->\n<g id=\"node3\" class=\"node\">\n<title>n2</title>\n<ellipse fill=\"none\" stroke=\"#000000\" cx=\"90\" cy=\"-18\" rx=\"27\" ry=\"18\"/>\n<text text-anchor=\"middle\" x=\"90\" y=\"-14.3\" font-family=\"Times,serif\" font-size=\"14.00\" fill=\"#000000\">n2</text>\n</g>\n<!-- n0&#45;&gt;n2 -->\n<g id=\"edge2\" class=\"edge\">\n<title>n0&#45;&gt;n2</title>\n<path fill=\"none\" stroke=\"#000000\" d=\"M155.1584,-215.6415C156.4052,-184.6687 155.9012,-120.6548 135,-72 130.0079,-60.3791 121.6823,-49.3169 113.5406,-40.2658\"/>\n<polygon fill=\"#000000\" stroke=\"#000000\" points=\"115.9428,-37.7125 106.5215,-32.8659 110.8641,-42.5299 115.9428,-37.7125\"/>\n</g>\n<!-- n3 -->\n<g id=\"node4\" class=\"node\">\n<title>n3</title>\n<ellipse fill=\"none\" stroke=\"#000000\" cx=\"209\" cy=\"-162\" rx=\"27\" ry=\"18\"/>\n<text text-anchor=\"middle\" x=\"209\" y=\"-158.3\" font-family=\"Times,serif\" font-size=\"14.00\" fill=\"#000000\">n3</text>\n</g>\n<!-- n0&#45;&gt;n3 -->\n<g id=\"edge3\" class=\"edge\">\n<title>n0&#45;&gt;n3</title>\n<path fill=\"none\" stroke=\"#000000\" d=\"M166.4804,-217.6621C173.5124,-208.4564 182.4347,-196.7764 190.2883,-186.4953\"/>\n<polygon fill=\"#000000\" stroke=\"#000000\" points=\"193.28,-188.3446 196.569,-178.2733 187.7172,-184.0953 193.28,-188.3446\"/>\n</g>\n<!-- n4 -->\n<g id=\"node5\" class=\"node\">\n<title>n4</title>\n<ellipse fill=\"none\" stroke=\"#000000\" cx=\"27\" cy=\"-90\" rx=\"27\" ry=\"18\"/>\n<text text-anchor=\"middle\" x=\"27\" y=\"-86.3\" font-family=\"Times,serif\" font-size=\"14.00\" fill=\"#000000\">n4</text>\n</g>\n<!-- n1&#45;&gt;n4 -->\n<g id=\"edge4\" class=\"edge\">\n<title>n1&#45;&gt;n4</title>\n<path fill=\"none\" stroke=\"#000000\" d=\"M83.7307,-146.7307C73.803,-136.803 60.6847,-123.6847 49.5637,-112.5637\"/>\n<polygon fill=\"#000000\" stroke=\"#000000\" points=\"51.7933,-109.8436 42.2473,-105.2473 46.8436,-114.7933 51.7933,-109.8436\"/>\n</g>\n<!-- n9 -->\n<g id=\"node6\" class=\"node\">\n<title>n9</title>\n<ellipse fill=\"none\" stroke=\"#000000\" cx=\"99\" cy=\"-90\" rx=\"27\" ry=\"18\"/>\n<text text-anchor=\"middle\" x=\"99\" y=\"-86.3\" font-family=\"Times,serif\" font-size=\"14.00\" fill=\"#000000\">n9</text>\n</g>\n<!-- n1&#45;&gt;n9 -->\n<g id=\"edge5\" class=\"edge\">\n<title>n1&#45;&gt;n9</title>\n<path fill=\"none\" stroke=\"#000000\" d=\"M99,-143.8314C99,-136.131 99,-126.9743 99,-118.4166\"/>\n<polygon fill=\"#000000\" stroke=\"#000000\" points=\"102.5001,-118.4132 99,-108.4133 95.5001,-118.4133 102.5001,-118.4132\"/>\n</g>\n<!-- n4&#45;&gt;n2 -->\n<g id=\"edge6\" class=\"edge\">\n<title>n4&#45;&gt;n2</title>\n<path fill=\"none\" stroke=\"#000000\" d=\"M40.6701,-74.3771C49.1734,-64.659 60.2613,-51.987 69.7708,-41.1191\"/>\n<polygon fill=\"#000000\" stroke=\"#000000\" points=\"72.4056,-43.423 76.3566,-33.5924 67.1375,-38.8135 72.4056,-43.423\"/>\n</g>\n</g>\n</svg>\n"
          },
          "metadata": {},
          "execution_count": 21
        }
      ]
    },
    {
      "cell_type": "code",
      "source": [
        "graph = gv.Digraph(\"Roberto\")\n",
        "\n",
        "graph.graph_attr[\"layout\"] = \"circo\"\n",
        "graph.node_attr[\"color\"] = \"orangered\"\n",
        "graph.node_attr[\"fontcolor\"] = \"red\"\n",
        "graph.edge_attr[\"color\"] = \"orangered\"\n",
        "for i in range(n):\n",
        "  graph.node(str(i), f\"Nodo {i}\")\n",
        "\n",
        "for i in range(n):\n",
        "  for j in range(n):\n",
        "    if m[i, j] == 1:\n",
        "      graph.edge(str(i), str(j))\n",
        "print(graph)\n",
        "graph"
      ],
      "metadata": {
        "colab": {
          "base_uri": "https://localhost:8080/",
          "height": 648
        },
        "id": "KPeiUblRj86r",
        "outputId": "d8850d00-60b9-4a47-b9cf-6d466981ae5b"
      },
      "execution_count": 35,
      "outputs": [
        {
          "output_type": "stream",
          "name": "stdout",
          "text": [
            "digraph Roberto {\n",
            "\tgraph [layout=circo]\n",
            "\tnode [color=orangered fontcolor=red]\n",
            "\tedge [color=orangered]\n",
            "\t0 [label=\"Nodo 0\"]\n",
            "\t1 [label=\"Nodo 1\"]\n",
            "\t2 [label=\"Nodo 2\"]\n",
            "\t3 [label=\"Nodo 3\"]\n",
            "\t0 -> 0\n",
            "\t0 -> 2\n",
            "\t1 -> 0\n",
            "\t1 -> 2\n",
            "\t1 -> 3\n",
            "\t2 -> 1\n",
            "\t2 -> 2\n",
            "\t3 -> 0\n",
            "}\n"
          ]
        },
        {
          "output_type": "execute_result",
          "data": {
            "text/plain": [
              "<graphviz.dot.Digraph at 0x7fa51859be10>"
            ],
            "image/svg+xml": "<?xml version=\"1.0\" encoding=\"UTF-8\" standalone=\"no\"?>\n<!DOCTYPE svg PUBLIC \"-//W3C//DTD SVG 1.1//EN\"\n \"http://www.w3.org/Graphics/SVG/1.1/DTD/svg11.dtd\">\n<!-- Generated by graphviz version 2.40.1 (20161225.0304)\n -->\n<!-- Title: Roberto Pages: 1 -->\n<svg width=\"280pt\" height=\"237pt\"\n viewBox=\"0.00 0.00 279.93 236.63\" xmlns=\"http://www.w3.org/2000/svg\" xmlns:xlink=\"http://www.w3.org/1999/xlink\">\n<g id=\"graph0\" class=\"graph\" transform=\"scale(1 1) rotate(0) translate(4 232.6322)\">\n<title>Roberto</title>\n<polygon fill=\"#ffffff\" stroke=\"transparent\" points=\"-4,4 -4,-232.6322 275.9251,-232.6322 275.9251,4 -4,4\"/>\n<!-- 0 -->\n<g id=\"node1\" class=\"node\">\n<title>0</title>\n<ellipse fill=\"none\" stroke=\"#ff4500\" cx=\"135.9626\" cy=\"-18\" rx=\"39.7935\" ry=\"18\"/>\n<text text-anchor=\"middle\" x=\"135.9626\" y=\"-14.3\" font-family=\"Times,serif\" font-size=\"14.00\" fill=\"#ff0000\">Nodo 0</text>\n</g>\n<!-- 0&#45;&gt;0 -->\n<g id=\"edge1\" class=\"edge\">\n<title>0&#45;&gt;0</title>\n<path fill=\"none\" stroke=\"#ff4500\" d=\"M172.832,-24.7463C184.4464,-24.6433 193.6091,-22.3945 193.6091,-18 193.6091,-15.0474 189.4729,-13.0635 183.2359,-12.0482\"/>\n<polygon fill=\"#ff4500\" stroke=\"#ff4500\" points=\"183.0695,-8.5254 172.832,-11.2537 182.5365,-15.505 183.0695,-8.5254\"/>\n</g>\n<!-- 2 -->\n<g id=\"node3\" class=\"node\">\n<title>2</title>\n<ellipse fill=\"none\" stroke=\"#ff4500\" cx=\"39.6465\" cy=\"-114.3161\" rx=\"39.7935\" ry=\"18\"/>\n<text text-anchor=\"middle\" x=\"39.6465\" y=\"-110.6161\" font-family=\"Times,serif\" font-size=\"14.00\" fill=\"#ff0000\">Nodo 2</text>\n</g>\n<!-- 0&#45;&gt;2 -->\n<g id=\"edge2\" class=\"edge\">\n<title>0&#45;&gt;2</title>\n<path fill=\"none\" stroke=\"#ff4500\" d=\"M119.1856,-34.777C103.8553,-50.1073 81.0103,-72.9522 63.7315,-90.2311\"/>\n<polygon fill=\"#ff4500\" stroke=\"#ff4500\" points=\"60.8274,-88.1854 56.2312,-97.7314 65.7772,-93.1352 60.8274,-88.1854\"/>\n</g>\n<!-- 1 -->\n<g id=\"node2\" class=\"node\">\n<title>1</title>\n<ellipse fill=\"none\" stroke=\"#ff4500\" cx=\"135.9626\" cy=\"-210.6322\" rx=\"39.7935\" ry=\"18\"/>\n<text text-anchor=\"middle\" x=\"135.9626\" y=\"-206.9322\" font-family=\"Times,serif\" font-size=\"14.00\" fill=\"#ff0000\">Nodo 1</text>\n</g>\n<!-- 1&#45;&gt;0 -->\n<g id=\"edge3\" class=\"edge\">\n<title>1&#45;&gt;0</title>\n<path fill=\"none\" stroke=\"#ff4500\" d=\"M135.9626,-192.5098C135.9626,-158.8791 135.9626,-86.5868 135.9626,-46.403\"/>\n<polygon fill=\"#ff4500\" stroke=\"#ff4500\" points=\"139.4627,-46.2145 135.9626,-36.2145 132.4627,-46.2146 139.4627,-46.2145\"/>\n</g>\n<!-- 1&#45;&gt;2 -->\n<g id=\"edge4\" class=\"edge\">\n<title>1&#45;&gt;2</title>\n<path fill=\"none\" stroke=\"#ff4500\" d=\"M125.2548,-192.9164C111.9035,-176.8332 88.8435,-153.2468 69.9703,-136.0529\"/>\n<polygon fill=\"#ff4500\" stroke=\"#ff4500\" points=\"72.2387,-133.3862 62.4442,-129.3464 67.5817,-138.6124 72.2387,-133.3862\"/>\n</g>\n<!-- 3 -->\n<g id=\"node4\" class=\"node\">\n<title>3</title>\n<ellipse fill=\"none\" stroke=\"#ff4500\" cx=\"232.2787\" cy=\"-114.3161\" rx=\"39.7935\" ry=\"18\"/>\n<text text-anchor=\"middle\" x=\"232.2787\" y=\"-110.6161\" font-family=\"Times,serif\" font-size=\"14.00\" fill=\"#ff0000\">Nodo 3</text>\n</g>\n<!-- 1&#45;&gt;3 -->\n<g id=\"edge5\" class=\"edge\">\n<title>1&#45;&gt;3</title>\n<path fill=\"none\" stroke=\"#ff4500\" d=\"M152.7396,-193.8552C168.0699,-178.5249 190.9148,-155.6799 208.1937,-138.4011\"/>\n<polygon fill=\"#ff4500\" stroke=\"#ff4500\" points=\"211.0977,-140.4468 215.6939,-130.9008 206.148,-135.497 211.0977,-140.4468\"/>\n</g>\n<!-- 2&#45;&gt;1 -->\n<g id=\"edge6\" class=\"edge\">\n<title>2&#45;&gt;1</title>\n<path fill=\"none\" stroke=\"#ff4500\" d=\"M50.3543,-132.0318C63.7055,-148.1151 86.7656,-171.7015 105.6387,-188.8954\"/>\n<polygon fill=\"#ff4500\" stroke=\"#ff4500\" points=\"103.3704,-191.5621 113.1648,-195.6018 108.0274,-186.3359 103.3704,-191.5621\"/>\n</g>\n<!-- 2&#45;&gt;2 -->\n<g id=\"edge7\" class=\"edge\">\n<title>2&#45;&gt;2</title>\n<path fill=\"none\" stroke=\"#ff4500\" d=\"M76.5159,-121.0624C88.1303,-120.9594 97.293,-118.7106 97.293,-114.3161 97.293,-111.3635 93.1568,-109.3796 86.9198,-108.3643\"/>\n<polygon fill=\"#ff4500\" stroke=\"#ff4500\" points=\"86.7534,-104.8415 76.5159,-107.5698 86.2204,-111.8211 86.7534,-104.8415\"/>\n</g>\n<!-- 3&#45;&gt;0 -->\n<g id=\"edge8\" class=\"edge\">\n<title>3&#45;&gt;0</title>\n<path fill=\"none\" stroke=\"#ff4500\" d=\"M215.5017,-97.5391C200.1714,-82.2088 177.3264,-59.3639 160.0476,-42.085\"/>\n<polygon fill=\"#ff4500\" stroke=\"#ff4500\" points=\"162.0933,-39.1809 152.5473,-34.5847 157.1435,-44.1307 162.0933,-39.1809\"/>\n</g>\n</g>\n</svg>\n"
          },
          "metadata": {},
          "execution_count": 35
        }
      ]
    },
    {
      "cell_type": "code",
      "source": [
        ""
      ],
      "metadata": {
        "id": "jAaNRvURk-jC"
      },
      "execution_count": null,
      "outputs": []
    }
  ]
}