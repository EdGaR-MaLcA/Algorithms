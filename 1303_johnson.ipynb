{
  "nbformat": 4,
  "nbformat_minor": 0,
  "metadata": {
    "colab": {
      "provenance": [],
      "authorship_tag": "ABX9TyOvL/CioruL2pFfq5sjFx/b",
      "include_colab_link": true
    },
    "kernelspec": {
      "name": "python3",
      "display_name": "Python 3"
    },
    "language_info": {
      "name": "python"
    }
  },
  "cells": [
    {
      "cell_type": "markdown",
      "metadata": {
        "id": "view-in-github",
        "colab_type": "text"
      },
      "source": [
        "<a href=\"https://colab.research.google.com/github/lmcanavals/acomplex/blob/main/1303_johnson.ipynb\" target=\"_parent\"><img src=\"https://colab.research.google.com/assets/colab-badge.svg\" alt=\"Open In Colab\"/></a>"
      ]
    },
    {
      "cell_type": "code",
      "execution_count": 2,
      "metadata": {
        "id": "uXPTTsiA7QID"
      },
      "outputs": [],
      "source": [
        "import math\n",
        "\n",
        "def bellmanFord(G, s): # returns the path π and and whether or not a negative cycle exists\n",
        "    n = len(G)                      # |V|\n",
        "    π = [-1]*n                      # path\n",
        "    g = [math.inf]*n                # cost\n",
        "    g[s] = 0\n",
        "\n",
        "    for _ in range(n-1):            # repetir |V| - 1 veces\n",
        "        for u in range(n):\n",
        "            for v, w in G[u]:       # para cada arco (u, v, con peso w) de E\n",
        "                f = g[u] + w\n",
        "                if f < g[v]:        # relax(u, v, w)\n",
        "                    g[v] = f\n",
        "                    π[v] = u\n",
        "\n",
        "    \n",
        "    for u in range(n):              # para cada arco (u, v, con peso w) de E\n",
        "        for v, w in G[u]:\n",
        "            f = g[u] + w\n",
        "            if f < g[v]:            # se puede relajar?\n",
        "                return None         # existe ciclo negativo\n",
        "\n",
        "    return g                        # no existe ciclo negativo"
      ]
    },
    {
      "cell_type": "code",
      "source": [
        "import heapq as hq\n",
        "\n",
        "def dijkstra(G, s, path, cost):\n",
        "  n = len(G)\n",
        "  visited = [False]*n\n",
        "\n",
        "  cost[s] = 0\n",
        "  pqueue = [(0, s)]\n",
        "  while pqueue:\n",
        "    g, u = hq.heappop(pqueue)\n",
        "    if not visited[u]:\n",
        "      visited[u] = True\n",
        "      for v, w in G[u]:\n",
        "        if not visited[v]:\n",
        "          f = g + w\n",
        "          if f < cost[v]:\n",
        "            cost[v] = f\n",
        "            path[v] = u\n",
        "            hq.heappush(pqueue, (f, v))\n",
        "\n",
        "  return path, cost"
      ],
      "metadata": {
        "id": "UAyTDQ2K7RZ7"
      },
      "execution_count": 3,
      "outputs": []
    },
    {
      "cell_type": "code",
      "source": [
        "import numpy as np\n",
        "\n",
        "def johnson(G):\n",
        "    n = len(G)\n",
        "    G.append([(0, 0)])\n",
        "    g = bellmanFord(G, n)\n",
        "    if g == None: return None\n",
        "    del G[n]\n",
        "    for u in range(n):\n",
        "        for i in range(len(G[u])):\n",
        "            v, w = G[u][i]\n",
        "            w = w + g[u] - g[v]\n",
        "            G[u][i] = (v, w)\n",
        "\n",
        "    path = np.full((n, n), -1, dtype=int)\n",
        "    cost = np.full((n, n), math.inf)\n",
        "    for u in range(n):\n",
        "        dijkstra(G, u, path[u], cost[u])\n",
        "\n",
        "    return path, cost\n"
      ],
      "metadata": {
        "id": "vs_-GvkZ7il2"
      },
      "execution_count": 5,
      "outputs": []
    },
    {
      "cell_type": "code",
      "source": [
        "%%file g.g\n",
        "1 2\n",
        "2 -1\n",
        "0 4 3 2 4 -4\n",
        "-\n",
        "-\n",
        "3 1 4 -4"
      ],
      "metadata": {
        "colab": {
          "base_uri": "https://localhost:8080/"
        },
        "id": "Xh7EIIuj88GP",
        "outputId": "07b530ed-d18a-4875-de4c-a1449d240faa"
      },
      "execution_count": 6,
      "outputs": [
        {
          "output_type": "stream",
          "name": "stdout",
          "text": [
            "Writing g.g\n"
          ]
        }
      ]
    },
    {
      "cell_type": "code",
      "source": [
        "with open(\"g.g\") as f:\n",
        "    G = []\n",
        "    for line in f:\n",
        "        if line.startswith('-'):\n",
        "            G.append([])\n",
        "        else:\n",
        "            nums = [int(x) for x in line.split()]\n",
        "            G.append([(nums[i], nums[i+1]) for i in range(0, len(nums), 2)])\n",
        "\n",
        "for x in G:\n",
        "  print(x)"
      ],
      "metadata": {
        "colab": {
          "base_uri": "https://localhost:8080/"
        },
        "id": "BpELoa189iST",
        "outputId": "3c7b5824-cf61-406e-a7ee-a82133412951"
      },
      "execution_count": 7,
      "outputs": [
        {
          "output_type": "stream",
          "name": "stdout",
          "text": [
            "[(1, 2)]\n",
            "[(2, -1)]\n",
            "[(0, 4), (3, 2), (4, -4)]\n",
            "[]\n",
            "[]\n",
            "[(3, 1), (4, -4)]\n"
          ]
        }
      ]
    },
    {
      "cell_type": "code",
      "source": [
        "path, cost = johnson(G)\n",
        "print(path)\n",
        "print(cost)"
      ],
      "metadata": {
        "colab": {
          "base_uri": "https://localhost:8080/"
        },
        "id": "YRopPo16-eZV",
        "outputId": "bba66daa-962a-4d26-d653-b80f03eb9dce"
      },
      "execution_count": 8,
      "outputs": [
        {
          "output_type": "stream",
          "name": "stdout",
          "text": [
            "[[-1  0  1  2  2 -1]\n",
            " [ 2 -1  1  2  2 -1]\n",
            " [ 2  0 -1  2  2 -1]\n",
            " [-1 -1 -1 -1 -1 -1]\n",
            " [-1 -1 -1 -1 -1 -1]\n",
            " [-1 -1 -1 -1 -1 -1]]\n",
            "[[ 0.  0.  0.  0.  0. inf]\n",
            " [ 5.  0.  0.  0.  0. inf]\n",
            " [ 5.  5.  0.  0.  0. inf]\n",
            " [inf inf inf  0. inf inf]\n",
            " [inf inf inf inf  0. inf]\n",
            " [inf inf inf inf inf  0.]]\n"
          ]
        }
      ]
    },
    {
      "cell_type": "code",
      "source": [],
      "metadata": {
        "id": "XUCyybOP-lwN"
      },
      "execution_count": null,
      "outputs": []
    }
  ]
}