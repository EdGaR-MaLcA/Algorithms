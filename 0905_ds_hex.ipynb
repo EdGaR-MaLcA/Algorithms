{
  "nbformat": 4,
  "nbformat_minor": 0,
  "metadata": {
    "colab": {
      "name": "0905-ds-hex.ipynb",
      "provenance": [],
      "authorship_tag": "ABX9TyPLBsvsu+5tOlfggiTWvt0L",
      "include_colab_link": true
    },
    "kernelspec": {
      "name": "python3",
      "display_name": "Python 3"
    },
    "language_info": {
      "name": "python"
    }
  },
  "cells": [
    {
      "cell_type": "markdown",
      "metadata": {
        "id": "view-in-github",
        "colab_type": "text"
      },
      "source": [
        "<a href=\"https://colab.research.google.com/github/lmcanavals/acomplex/blob/main/0905_ds_hex.ipynb\" target=\"_parent\"><img src=\"https://colab.research.google.com/assets/colab-badge.svg\" alt=\"Open In Colab\"/></a>"
      ]
    },
    {
      "cell_type": "code",
      "source": [
        "#@title\n",
        "import graphviz as gv"
      ],
      "metadata": {
        "id": "3Ji-nJEUEL9k",
        "cellView": "form"
      },
      "execution_count": null,
      "outputs": []
    },
    {
      "cell_type": "code",
      "source": [
        "#@title\n",
        "def drawDS(ds):\n",
        "  graph = gv.Digraph(\"DisjointSet\")\n",
        "  graph.graph_attr['rankdir'] = \"BT\"\n",
        "  for e, p in enumerate(ds):\n",
        "    graph.node(str(e))\n",
        "    if p >= 0:\n",
        "      graph.edge(str(e), str(p))\n",
        "  return graph"
      ],
      "metadata": {
        "id": "DTDS5teOEOMb",
        "cellView": "form"
      },
      "execution_count": null,
      "outputs": []
    },
    {
      "cell_type": "code",
      "source": [
        "import numpy as np\n",
        "\n",
        "EMPTY = 0\n",
        "BLACK = 1\n",
        "WHITE = 2\n",
        "\n",
        "class Hex:\n",
        "  def __init__(self, n):\n",
        "    self.n = n\n",
        "    self.board = np.zeros((n, n), dtype=int)\n",
        "    self.blackds = [-1]*(n**2 + 2)\n",
        "    for i in range(n):\n",
        "      self.__union(self.blackds, i, n**2)\n",
        "      self.__union(self.blackds, (n - 1) * n + i, n**2 + 1)\n",
        "    self.whiteds = [-1]*(n**2 + 2)\n",
        "    for i in range(n):\n",
        "      self.__union(self.whiteds, i * n, n**2)\n",
        "      self.__union(self.whiteds, i * n + n - 1, n**2 + 1)\n",
        "\n",
        "  def __find(self, ds, e):\n",
        "    if ds[e] < 0:\n",
        "      return e\n",
        "    else:\n",
        "      ancestor = self.__find(ds, ds[e])\n",
        "      ds[e] = ancestor\n",
        "      return ancestor\n",
        "      \n",
        "  def __union(self, ds, a, b):\n",
        "    a = self.__find(ds,  a)\n",
        "    b = self.__find(ds, b)\n",
        "\n",
        "    if a == b: return\n",
        "\n",
        "    if ds[a] <= ds[b]:\n",
        "      ds[a] += ds[b]\n",
        "      ds[b] = a\n",
        "    else:\n",
        "      ds[b] += ds[a]\n",
        "      ds[a] = b\n",
        "\n",
        "  def move(self, i, j, piece):\n",
        "    if self.board[i, j] != EMPTY: return -1\n",
        "    self.board[i, j] = piece\n",
        "    ds = self.whiteds if piece == WHITE else self.blackds\n",
        "    I = i * self.n + j\n",
        "    adj = [(i-1, j), (i-1, j+1), (i, j-1), (i, j+1), (i+1, j-1), (i+1, j)]\n",
        "    for ii, jj in adj:\n",
        "      if ii < 0 or ii >= self.n or jj < 0 or jj >= self.n: continue\n",
        "      if self.board[ii, jj] == piece:\n",
        "        II = ii * self.n + jj\n",
        "        self.__union(ds, I, II)\n",
        "    N = self.n\n",
        "    N = N*N\n",
        "    return piece if self.__find(ds, N) == self.__find(ds, N + 1) else EMPTY"
      ],
      "metadata": {
        "id": "55GySBVAFV-9"
      },
      "execution_count": 14,
      "outputs": []
    },
    {
      "cell_type": "code",
      "source": [
        "hex = Hex(5)\n",
        "print(hex.board)"
      ],
      "metadata": {
        "colab": {
          "base_uri": "https://localhost:8080/"
        },
        "id": "KZ0vzXEjqmEs",
        "outputId": "0ca8a140-8c41-49dd-97a6-1a182b5e07a0"
      },
      "execution_count": 35,
      "outputs": [
        {
          "output_type": "stream",
          "name": "stdout",
          "text": [
            "[[0 0 0 0 0]\n",
            " [0 0 0 0 0]\n",
            " [0 0 0 0 0]\n",
            " [0 0 0 0 0]\n",
            " [0 0 0 0 0]]\n"
          ]
        }
      ]
    },
    {
      "cell_type": "code",
      "source": [
        "hex.move(0, 2, WHITE)"
      ],
      "metadata": {
        "colab": {
          "base_uri": "https://localhost:8080/"
        },
        "id": "hJqoiWKfzwIk",
        "outputId": "01e402b5-e938-495d-c027-13bb470d0a38"
      },
      "execution_count": 36,
      "outputs": [
        {
          "output_type": "execute_result",
          "data": {
            "text/plain": [
              "0"
            ]
          },
          "metadata": {},
          "execution_count": 36
        }
      ]
    },
    {
      "cell_type": "code",
      "source": [
        "hex.move(1, 0, WHITE)\n",
        "hex.move(0, 1, WHITE)\n",
        "hex.move(0, 3, WHITE)\n",
        "hex.move(0, 4, WHITE)"
      ],
      "metadata": {
        "colab": {
          "base_uri": "https://localhost:8080/"
        },
        "id": "V6760Xdzz3uN",
        "outputId": "086a8cf0-b33a-4dce-d397-19712ea822eb"
      },
      "execution_count": 37,
      "outputs": [
        {
          "output_type": "execute_result",
          "data": {
            "text/plain": [
              "2"
            ]
          },
          "metadata": {},
          "execution_count": 37
        }
      ]
    },
    {
      "cell_type": "code",
      "source": [
        "print(hex.board)"
      ],
      "metadata": {
        "colab": {
          "base_uri": "https://localhost:8080/"
        },
        "id": "Av6_AKGk0A4K",
        "outputId": "4a6d6459-d986-4137-c5c9-8fc3f3aa7d51"
      },
      "execution_count": 38,
      "outputs": [
        {
          "output_type": "stream",
          "name": "stdout",
          "text": [
            "[[0 2 2 2 2]\n",
            " [2 0 0 0 0]\n",
            " [0 0 0 0 0]\n",
            " [0 0 0 0 0]\n",
            " [0 0 0 0 0]]\n"
          ]
        }
      ]
    },
    {
      "cell_type": "code",
      "source": [
        ""
      ],
      "metadata": {
        "id": "hYs9kcvI0eWj"
      },
      "execution_count": null,
      "outputs": []
    }
  ]
}