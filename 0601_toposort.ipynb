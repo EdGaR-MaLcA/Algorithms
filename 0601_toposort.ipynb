{
  "nbformat": 4,
  "nbformat_minor": 0,
  "metadata": {
    "colab": {
      "name": "0601-toposort.ipynb",
      "provenance": [],
      "authorship_tag": "ABX9TyPLQJB7oQ9/j9ZlltP0YcrI",
      "include_colab_link": true
    },
    "kernelspec": {
      "name": "python3",
      "display_name": "Python 3"
    },
    "language_info": {
      "name": "python"
    }
  },
  "cells": [
    {
      "cell_type": "markdown",
      "metadata": {
        "id": "view-in-github",
        "colab_type": "text"
      },
      "source": [
        "<a href=\"https://colab.research.google.com/github/lmcanavals/acomplex/blob/main/0601_toposort.ipynb\" target=\"_parent\"><img src=\"https://colab.research.google.com/assets/colab-badge.svg\" alt=\"Open In Colab\"/></a>"
      ]
    },
    {
      "cell_type": "code",
      "execution_count": 20,
      "metadata": {
        "id": "uOR8h7vhuBxR"
      },
      "outputs": [],
      "source": [
        "import graphviz as gv"
      ]
    },
    {
      "cell_type": "code",
      "source": [
        "%%file 06dressing.txt\n",
        "watch:\n",
        "undies: pants shoes\n",
        "socks: shoes\n",
        "pants: shoes belt\n",
        "shirt: belt tie\n",
        "shoes:\n",
        "belt: jacket\n",
        "tie: jacket\n",
        "jacket:"
      ],
      "metadata": {
        "colab": {
          "base_uri": "https://localhost:8080/"
        },
        "id": "Wge0-LheuEpi",
        "outputId": "e9599317-7662-4ef1-8bcd-dc89d526ed2d"
      },
      "execution_count": 21,
      "outputs": [
        {
          "output_type": "stream",
          "name": "stdout",
          "text": [
            "Overwriting 06dressing.txt\n"
          ]
        }
      ]
    },
    {
      "cell_type": "code",
      "source": [
        "with open(\"06dressing.txt\") as f:\n",
        "  labels = []\n",
        "  w2i = dict()\n",
        "  info = []\n",
        "  for line in f:\n",
        "    node, neighbours = [elem.strip() for elem in line.split(\":\")]\n",
        "    neighbours = neighbours.split()\n",
        "    w2i[node] = len(labels)\n",
        "    labels.append(node)\n",
        "    info.append(neighbours)\n",
        "\n",
        "  G = []\n",
        "  for neighbours in info:\n",
        "    G.append([w2i[node] for node in neighbours])\n",
        "    \n",
        "  print(w2i)\n",
        "  print(labels)\n",
        "  print(G)"
      ],
      "metadata": {
        "colab": {
          "base_uri": "https://localhost:8080/"
        },
        "id": "6rezppVsuNRD",
        "outputId": "545917d7-aa52-43f6-c5a1-1c89d6964743"
      },
      "execution_count": 22,
      "outputs": [
        {
          "output_type": "stream",
          "name": "stdout",
          "text": [
            "{'watch': 0, 'undies': 1, 'socks': 2, 'pants': 3, 'shirt': 4, 'shoes': 5, 'belt': 6, 'tie': 7, 'jacket': 8}\n",
            "['watch', 'undies', 'socks', 'pants', 'shirt', 'shoes', 'belt', 'tie', 'jacket']\n",
            "[[], [3, 5], [5], [5, 6], [6, 7], [], [8], [8], []]\n"
          ]
        }
      ]
    },
    {
      "cell_type": "code",
      "source": [
        "def show(G, labels=None, directed=False, weighted=False, path=[], layout=\"sfdp\"):\n",
        "  g = gv.Digraph(\"alegria\") if directed else gv.Graph(\"felicidad\")\n",
        "  g.graph_attr[\"layout\"] = layout\n",
        "  g.edge_attr[\"color\"] = \"gray\"\n",
        "  g.edge_attr[\"fontsize\"] = \"8\"\n",
        "  g.node_attr[\"color\"] = \"orangered\"\n",
        "  g.node_attr[\"width\"] = \"0.1\"\n",
        "  g.node_attr[\"height\"] = \"0.1\"\n",
        "  g.node_attr[\"fontsize\"] = \"8\"\n",
        "  g.node_attr[\"fontcolor\"] = \"mediumslateblue\"\n",
        "  n = len(G)\n",
        "\n",
        "  for u in range(n):\n",
        "    g.node(str(u), labels[u] if labels else str(u))\n",
        "\n",
        "  added = set()\n",
        "  for v, u in enumerate(path):\n",
        "    if u >= 0:\n",
        "      if weighted:\n",
        "        for vi, w in G[u]:\n",
        "          if vi == v:\n",
        "            break\n",
        "\n",
        "        g.edge(str(u), str(v), str(w), dir=\"forward\", penwidt=\"2\", color=\"orange\")\n",
        "      else:\n",
        "        g.edge(str(u), str(v), dir=\"forward\", penwidt=\"2\", color=\"orange\")\n",
        "\n",
        "      added.add(f\"{u}->{v}\")\n",
        "      added.add(f\"{v}->{u}\")\n",
        "  if weighted:\n",
        "    for u in range(n):\n",
        "      for v, w in G[u]:\n",
        "        if not directed and not f\"{u}->{v}\" in added:\n",
        "          added.add(f\"{u}->{v}\")\n",
        "          added.add(f\"{v}->{u}\")\n",
        "          g.edge(str(u), str(v), str(w))\n",
        "        elif directed:\n",
        "          g.edge(str(u), str(v), str(w))\n",
        "  else:\n",
        "    for u in range(n):\n",
        "      for v in G[u]:\n",
        "        if not directed and not f\"{u}->{v}\" in added:\n",
        "          added.add(f\"{u}->{v}\")\n",
        "          added.add(f\"{v}->{u}\")\n",
        "          g.edge(str(u), str(v))\n",
        "        elif directed:\n",
        "          g.edge(str(u), str(v))\n",
        "  return g\n"
      ],
      "metadata": {
        "id": "9F-Dv86tuSGd"
      },
      "execution_count": 23,
      "outputs": []
    },
    {
      "cell_type": "code",
      "source": [
        "show(G, directed=True, labels=labels, layout=\"dot\")"
      ],
      "metadata": {
        "colab": {
          "base_uri": "https://localhost:8080/",
          "height": 303
        },
        "id": "diWgpjkCy7qQ",
        "outputId": "789ce687-045e-4e91-c898-b00f83abd202"
      },
      "execution_count": 24,
      "outputs": [
        {
          "output_type": "execute_result",
          "data": {
            "text/plain": [
              "<graphviz.dot.Digraph at 0x7fc8fd2ac0d0>"
            ],
            "image/svg+xml": "<?xml version=\"1.0\" encoding=\"UTF-8\" standalone=\"no\"?>\n<!DOCTYPE svg PUBLIC \"-//W3C//DTD SVG 1.1//EN\"\n \"http://www.w3.org/Graphics/SVG/1.1/DTD/svg11.dtd\">\n<!-- Generated by graphviz version 2.40.1 (20161225.0304)\n -->\n<!-- Title: alegria Pages: 1 -->\n<svg width=\"254pt\" height=\"212pt\"\n viewBox=\"0.00 0.00 253.79 212.17\" xmlns=\"http://www.w3.org/2000/svg\" xmlns:xlink=\"http://www.w3.org/1999/xlink\">\n<g id=\"graph0\" class=\"graph\" transform=\"scale(1 1) rotate(0) translate(4 208.1665)\">\n<title>alegria</title>\n<polygon fill=\"#ffffff\" stroke=\"transparent\" points=\"-4,4 -4,-208.1665 249.7904,-208.1665 249.7904,4 -4,4\"/>\n<!-- 0 -->\n<g id=\"node1\" class=\"node\">\n<title>0</title>\n<ellipse fill=\"none\" stroke=\"#ff4500\" cx=\"26.163\" cy=\"-192.1457\" rx=\"26.3269\" ry=\"12.0417\"/>\n<text text-anchor=\"middle\" x=\"26.163\" y=\"-190.2457\" font-family=\"Times,serif\" font-size=\"8.00\" fill=\"#7b68ee\">watch</text>\n</g>\n<!-- 1 -->\n<g id=\"node2\" class=\"node\">\n<title>1</title>\n<ellipse fill=\"none\" stroke=\"#ff4500\" cx=\"98.163\" cy=\"-192.1457\" rx=\"27.6545\" ry=\"12.0417\"/>\n<text text-anchor=\"middle\" x=\"98.163\" y=\"-190.2457\" font-family=\"Times,serif\" font-size=\"8.00\" fill=\"#7b68ee\">undies</text>\n</g>\n<!-- 3 -->\n<g id=\"node4\" class=\"node\">\n<title>3</title>\n<ellipse fill=\"none\" stroke=\"#ff4500\" cx=\"158.163\" cy=\"-132.1041\" rx=\"25\" ry=\"12.0417\"/>\n<text text-anchor=\"middle\" x=\"158.163\" y=\"-130.2041\" font-family=\"Times,serif\" font-size=\"8.00\" fill=\"#7b68ee\">pants</text>\n</g>\n<!-- 1&#45;&gt;3 -->\n<g id=\"edge1\" class=\"edge\">\n<title>1&#45;&gt;3</title>\n<path fill=\"none\" stroke=\"#c0c0c0\" d=\"M109.4485,-180.8523C118.1048,-172.19 130.2223,-160.0641 140.2061,-150.0734\"/>\n<polygon fill=\"#c0c0c0\" stroke=\"#c0c0c0\" points=\"142.7392,-152.49 147.3322,-142.9424 137.7878,-147.5419 142.7392,-152.49\"/>\n</g>\n<!-- 5 -->\n<g id=\"node6\" class=\"node\">\n<title>5</title>\n<ellipse fill=\"none\" stroke=\"#ff4500\" cx=\"91.163\" cy=\"-72.0624\" rx=\"25\" ry=\"12.0417\"/>\n<text text-anchor=\"middle\" x=\"91.163\" y=\"-70.1624\" font-family=\"Times,serif\" font-size=\"8.00\" fill=\"#7b68ee\">shoes</text>\n</g>\n<!-- 1&#45;&gt;5 -->\n<g id=\"edge2\" class=\"edge\">\n<title>1&#45;&gt;5</title>\n<path fill=\"none\" stroke=\"#c0c0c0\" d=\"M85.0263,-181.484C75.258,-172.6485 62.7013,-159.141 57.163,-144.1249 50.2803,-125.4638 61.854,-105.0328 73.3233,-90.7065\"/>\n<polygon fill=\"#c0c0c0\" stroke=\"#c0c0c0\" points=\"76.054,-92.8992 79.9239,-83.0364 70.7481,-88.3332 76.054,-92.8992\"/>\n</g>\n<!-- 2 -->\n<g id=\"node3\" class=\"node\">\n<title>2</title>\n<ellipse fill=\"none\" stroke=\"#ff4500\" cx=\"91.163\" cy=\"-132.1041\" rx=\"25\" ry=\"12.0417\"/>\n<text text-anchor=\"middle\" x=\"91.163\" y=\"-130.2041\" font-family=\"Times,serif\" font-size=\"8.00\" fill=\"#7b68ee\">socks</text>\n</g>\n<!-- 2&#45;&gt;5 -->\n<g id=\"edge3\" class=\"edge\">\n<title>2&#45;&gt;5</title>\n<path fill=\"none\" stroke=\"#c0c0c0\" d=\"M91.163,-119.9538C91.163,-112.6293 91.163,-103.0735 91.163,-94.4261\"/>\n<polygon fill=\"#c0c0c0\" stroke=\"#c0c0c0\" points=\"94.663,-94.1947 91.163,-84.1947 87.663,-94.1947 94.663,-94.1947\"/>\n</g>\n<!-- 3&#45;&gt;5 -->\n<g id=\"edge4\" class=\"edge\">\n<title>3&#45;&gt;5</title>\n<path fill=\"none\" stroke=\"#c0c0c0\" d=\"M146.1847,-121.3698C136.276,-112.4902 122.011,-99.7068 110.4889,-89.3813\"/>\n<polygon fill=\"#c0c0c0\" stroke=\"#c0c0c0\" points=\"112.8206,-86.771 103.0375,-82.7038 108.1489,-91.9841 112.8206,-86.771\"/>\n</g>\n<!-- 6 -->\n<g id=\"node7\" class=\"node\">\n<title>6</title>\n<ellipse fill=\"none\" stroke=\"#ff4500\" cx=\"167.163\" cy=\"-72.0624\" rx=\"20.5122\" ry=\"12.0417\"/>\n<text text-anchor=\"middle\" x=\"167.163\" y=\"-70.1624\" font-family=\"Times,serif\" font-size=\"8.00\" fill=\"#7b68ee\">belt</text>\n</g>\n<!-- 3&#45;&gt;6 -->\n<g id=\"edge5\" class=\"edge\">\n<title>3&#45;&gt;6</title>\n<path fill=\"none\" stroke=\"#c0c0c0\" d=\"M159.9842,-119.9538C161.0943,-112.548 162.5464,-102.8609 163.8539,-94.1382\"/>\n<polygon fill=\"#c0c0c0\" stroke=\"#c0c0c0\" points=\"167.3232,-94.6031 165.3444,-84.1947 160.4006,-93.5653 167.3232,-94.6031\"/>\n</g>\n<!-- 4 -->\n<g id=\"node5\" class=\"node\">\n<title>4</title>\n<ellipse fill=\"none\" stroke=\"#ff4500\" cx=\"223.163\" cy=\"-132.1041\" rx=\"22.7556\" ry=\"12.0417\"/>\n<text text-anchor=\"middle\" x=\"223.163\" y=\"-130.2041\" font-family=\"Times,serif\" font-size=\"8.00\" fill=\"#7b68ee\">shirt</text>\n</g>\n<!-- 4&#45;&gt;6 -->\n<g id=\"edge6\" class=\"edge\">\n<title>4&#45;&gt;6</title>\n<path fill=\"none\" stroke=\"#c0c0c0\" d=\"M212.8917,-121.0915C204.9188,-112.5433 193.6881,-100.502 184.3519,-90.492\"/>\n<polygon fill=\"#c0c0c0\" stroke=\"#c0c0c0\" points=\"186.7493,-87.9309 177.3691,-83.0052 181.6303,-92.7054 186.7493,-87.9309\"/>\n</g>\n<!-- 7 -->\n<g id=\"node8\" class=\"node\">\n<title>7</title>\n<ellipse fill=\"none\" stroke=\"#ff4500\" cx=\"223.163\" cy=\"-72.0624\" rx=\"17.8571\" ry=\"12.0417\"/>\n<text text-anchor=\"middle\" x=\"223.163\" y=\"-70.1624\" font-family=\"Times,serif\" font-size=\"8.00\" fill=\"#7b68ee\">tie</text>\n</g>\n<!-- 4&#45;&gt;7 -->\n<g id=\"edge7\" class=\"edge\">\n<title>4&#45;&gt;7</title>\n<path fill=\"none\" stroke=\"#c0c0c0\" d=\"M223.163,-119.9538C223.163,-112.6293 223.163,-103.0735 223.163,-94.4261\"/>\n<polygon fill=\"#c0c0c0\" stroke=\"#c0c0c0\" points=\"226.663,-94.1947 223.163,-84.1947 219.663,-94.1947 226.663,-94.1947\"/>\n</g>\n<!-- 8 -->\n<g id=\"node9\" class=\"node\">\n<title>8</title>\n<ellipse fill=\"none\" stroke=\"#ff4500\" cx=\"195.163\" cy=\"-12.0208\" rx=\"26.3269\" ry=\"12.0417\"/>\n<text text-anchor=\"middle\" x=\"195.163\" y=\"-10.1208\" font-family=\"Times,serif\" font-size=\"8.00\" fill=\"#7b68ee\">jacket</text>\n</g>\n<!-- 6&#45;&gt;8 -->\n<g id=\"edge8\" class=\"edge\">\n<title>6&#45;&gt;8</title>\n<path fill=\"none\" stroke=\"#c0c0c0\" d=\"M172.6948,-60.2002C176.2997,-52.47 181.1045,-42.167 185.3454,-33.073\"/>\n<polygon fill=\"#c0c0c0\" stroke=\"#c0c0c0\" points=\"188.5881,-34.4007 189.6425,-23.8585 182.244,-31.4422 188.5881,-34.4007\"/>\n</g>\n<!-- 7&#45;&gt;8 -->\n<g id=\"edge9\" class=\"edge\">\n<title>7&#45;&gt;8</title>\n<path fill=\"none\" stroke=\"#c0c0c0\" d=\"M217.7643,-60.4858C214.1698,-52.778 209.3403,-42.4219 205.0684,-33.2615\"/>\n<polygon fill=\"#c0c0c0\" stroke=\"#c0c0c0\" points=\"208.1352,-31.5566 200.7367,-23.9729 201.7912,-34.5151 208.1352,-31.5566\"/>\n</g>\n</g>\n</svg>\n"
          },
          "metadata": {},
          "execution_count": 24
        }
      ]
    },
    {
      "cell_type": "code",
      "source": [
        "def toposort(G):\n",
        "  n = len(G)\n",
        "  visited = [False]*n\n",
        "  ts = []\n",
        "\n",
        "  def dfs(u):\n",
        "    if not visited[u]:\n",
        "      visited[u] = True\n",
        "      for v in G[u]:\n",
        "        if not visited[v]:\n",
        "          dfs(v)\n",
        "      ts.append(u)\n",
        "\n",
        "  for u in range(n):\n",
        "    dfs(u)\n",
        "\n",
        "  return ts"
      ],
      "metadata": {
        "id": "YMoupRG3y-ZM"
      },
      "execution_count": 22,
      "outputs": []
    },
    {
      "cell_type": "code",
      "source": [
        "ts = toposort(G)\n",
        "print([labels[u] for u in reversed(ts)])"
      ],
      "metadata": {
        "colab": {
          "base_uri": "https://localhost:8080/"
        },
        "id": "Nziw1SQozxdI",
        "outputId": "d4c75a2c-335a-4faf-df9b-aaf007ab7686"
      },
      "execution_count": 25,
      "outputs": [
        {
          "output_type": "stream",
          "name": "stdout",
          "text": [
            "['shirt', 'tie', 'socks', 'undies', 'pants', 'belt', 'jacket', 'shoes', 'watch']\n"
          ]
        }
      ]
    },
    {
      "cell_type": "code",
      "source": [
        "def toposort1(G):\n",
        "  n = len(G)\n",
        "  gradoin = [0]*n\n",
        "  queue = []\n",
        "\n",
        "  for u in range(n):\n",
        "    for v in G[u]:\n",
        "      gradoin[v] += 1\n",
        "\n",
        "  for u, grado in enumerate(gradoin):\n",
        "    if grado == 0:\n",
        "      queue.append(u)\n",
        "\n",
        "  ts = []\n",
        "  while queue:\n",
        "    u = queue.pop()\n",
        "    ts.append(u)\n",
        "    for v in G[u]:\n",
        "      gradoin[v] -= 1\n",
        "      if gradoin[v] == 0:\n",
        "        queue.append(v)\n",
        "\n",
        "  return ts"
      ],
      "metadata": {
        "id": "_hNpOTlWz2kU"
      },
      "execution_count": 29,
      "outputs": []
    },
    {
      "cell_type": "code",
      "source": [
        "ts = toposort1(G)\n",
        "print([labels[u] for u in ts])"
      ],
      "metadata": {
        "colab": {
          "base_uri": "https://localhost:8080/"
        },
        "id": "qXOMZvkImste",
        "outputId": "796aa7a5-4d17-49ad-ba95-b949545400d1"
      },
      "execution_count": 30,
      "outputs": [
        {
          "output_type": "stream",
          "name": "stdout",
          "text": [
            "['shirt', 'tie', 'socks', 'undies', 'pants', 'belt', 'jacket', 'shoes', 'watch']\n"
          ]
        }
      ]
    },
    {
      "cell_type": "code",
      "source": [
        ""
      ],
      "metadata": {
        "id": "FQQQiYIKmuBW"
      },
      "execution_count": null,
      "outputs": []
    }
  ]
}