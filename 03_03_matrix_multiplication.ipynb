{
  "nbformat": 4,
  "nbformat_minor": 0,
  "metadata": {
    "colab": {
      "name": "03-03-matrix-multiplication.ipynb",
      "provenance": [],
      "authorship_tag": "ABX9TyNXplcNm5SEpop1IVViX2ur",
      "include_colab_link": true
    },
    "kernelspec": {
      "name": "python3",
      "display_name": "Python 3"
    },
    "language_info": {
      "name": "python"
    }
  },
  "cells": [
    {
      "cell_type": "markdown",
      "metadata": {
        "id": "view-in-github",
        "colab_type": "text"
      },
      "source": [
        "<a href=\"https://colab.research.google.com/github/lmcanavals/acomplex/blob/main/03_03_matrix_multiplication.ipynb\" target=\"_parent\"><img src=\"https://colab.research.google.com/assets/colab-badge.svg\" alt=\"Open In Colab\"/></a>"
      ]
    },
    {
      "cell_type": "code",
      "execution_count": 1,
      "metadata": {
        "id": "r0wTbevEKbpd"
      },
      "outputs": [],
      "source": [
        "import numpy as np"
      ]
    },
    {
      "cell_type": "code",
      "source": [
        "def matmul(a, b):\n",
        "  aRows, aCols = a.shape\n",
        "  bRows, bCols = b.shape\n",
        "  if aCols != bRows:\n",
        "    return None\n",
        "\n",
        "  c = np.zeros((aRows, bCols))\n",
        "\n",
        "  for i in range(aRows):\n",
        "    for j in range(bCols):\n",
        "      temp = 0\n",
        "      for k in range(aCols):\n",
        "        temp += a[i, k] * b[k, j]\n",
        "\n",
        "      c[i, j] = temp\n",
        "\n",
        "  return c"
      ],
      "metadata": {
        "id": "FyFU7jyYKlBD"
      },
      "execution_count": 4,
      "outputs": []
    },
    {
      "cell_type": "code",
      "source": [
        "a = np.random.randint(10, size=(3, 4))\n",
        "b = np.random.randint(10, size=(4, 2))\n",
        "c = matmul(a, b)\n",
        "\n",
        "assert c.all() == np.matmul(a, b).all()\n",
        "\n",
        "print(a)\n",
        "print(b)\n",
        "print(c)"
      ],
      "metadata": {
        "colab": {
          "base_uri": "https://localhost:8080/"
        },
        "id": "JOp1EUR2LLyN",
        "outputId": "b48dfb4a-d09c-41a1-8e14-07185e2574a1"
      },
      "execution_count": 5,
      "outputs": [
        {
          "output_type": "stream",
          "name": "stdout",
          "text": [
            "[[1 8 4 3]\n",
            " [3 9 5 3]\n",
            " [0 9 8 7]]\n",
            "[[9 2]\n",
            " [4 3]\n",
            " [1 2]\n",
            " [5 7]]\n",
            "[[60. 55.]\n",
            " [83. 64.]\n",
            " [79. 92.]]\n"
          ]
        }
      ]
    },
    {
      "cell_type": "code",
      "source": [
        "def mm1(a, b, c, rowi, rowf, coli, colf):\n",
        "  n = len(a)\n",
        "  if rowi == rowf:\n",
        "    temp = 0\n",
        "    for k in range(n):\n",
        "      temp += a[rowi, k] * b[k, coli]\n",
        "    c[rowi, coli] = temp\n",
        "  else:\n",
        "    rowmid = (rowi + rowf) // 2\n",
        "    colmid = (coli + colf) // 2\n",
        "    mm1(a, b, c, rowi, rowmid, coli, colmid)\n",
        "    mm1(a, b, c, rowi, rowmid, colmid + 1, colf)\n",
        "    mm1(a, b, c, rowmid + 1, rowf, coli, colmid)\n",
        "    mm1(a, b, c, rowmid + 1, rowf, colmid + 1, colf)"
      ],
      "metadata": {
        "id": "RKeQPAvkMxuB"
      },
      "execution_count": 8,
      "outputs": []
    },
    {
      "cell_type": "code",
      "source": [
        "def dvmatmul1(a, b):\n",
        "  n = len(a)\n",
        "  c = np.zeros((n, n))\n",
        "  mm1(a, b, c, 0, n-1, 0, n-1)\n",
        "  return c"
      ],
      "metadata": {
        "id": "WlostFtLLnAy"
      },
      "execution_count": 9,
      "outputs": []
    },
    {
      "cell_type": "code",
      "source": [
        "a = np.random.randint(10, size=(8, 8))\n",
        "b = np.random.randint(10, size=(8, 8))\n",
        "c = dvmatmul1(a, b)\n",
        "\n",
        "assert c.all() == np.matmul(a, b).all()\n",
        "\n",
        "print(a)\n",
        "print(b)\n",
        "print(c)"
      ],
      "metadata": {
        "colab": {
          "base_uri": "https://localhost:8080/"
        },
        "id": "VySbNp9AMsS6",
        "outputId": "ba5954c9-a4e5-49dd-93ec-a011a1085325"
      },
      "execution_count": 11,
      "outputs": [
        {
          "output_type": "stream",
          "name": "stdout",
          "text": [
            "[[0 0 0 9 7 5 2 4]\n",
            " [1 3 3 6 9 8 6 1]\n",
            " [2 4 0 9 2 0 4 2]\n",
            " [6 3 6 3 6 2 1 5]\n",
            " [6 1 6 4 7 1 3 7]\n",
            " [6 9 9 1 0 5 0 2]\n",
            " [9 5 7 6 3 6 4 1]\n",
            " [7 8 0 7 0 8 0 2]]\n",
            "[[1 5 6 7 0 9 3 8]\n",
            " [6 5 9 5 5 4 2 7]\n",
            " [9 9 9 4 0 1 7 6]\n",
            " [2 9 6 7 5 0 0 1]\n",
            " [9 5 7 3 0 1 8 2]\n",
            " [4 2 6 1 7 1 3 9]\n",
            " [6 8 2 2 8 2 8 9]\n",
            " [1 3 6 2 1 5 3 4]]\n",
            "[[117. 154. 161. 101. 100.  36.  99. 102.]\n",
            " [208. 213. 225. 125. 150.  58. 177. 201.]\n",
            " [ 88. 159. 136. 115.  99.  54.  68. 101.]\n",
            " [157. 183. 221. 134.  57. 107. 143. 167.]\n",
            " [166. 207. 226. 141.  63. 113. 166. 173.]\n",
            " [165. 181. 246. 139.  87. 114. 120. 219.]\n",
            " [190. 249. 269. 183. 130. 130. 163. 255.]\n",
            " [103. 160. 216. 150. 133. 113.  67. 199.]]\n"
          ]
        }
      ]
    },
    {
      "cell_type": "code",
      "source": [
        "def mm2(a, b, c, rowi, rowf, coli, colf):\n",
        "  aRows, aCols = a.shape\n",
        "  bRows, bCols = b.shape\n",
        "  if rowi == rowf and coli == colf:\n",
        "    temp = 0\n",
        "    for k in range(aCols):\n",
        "      temp += a[rowi, k] * b[k, coli]\n",
        "    c[rowi, coli] = temp\n",
        "  elif rowi == rowf:\n",
        "    colmid = (coli + colf) // 2\n",
        "    mm2(a, b, c, rowi, rowf, coli, colmid)\n",
        "    mm2(a, b, c, rowi, rowf, colmid + 1, colf)\n",
        "  elif coli == colf:\n",
        "    rowmid = (rowi + rowf) // 2\n",
        "    mm2(a, b, c, rowi, rowmid, coli, colf)\n",
        "    mm2(a, b, c, rowmid + 1, rowf, coli, colf)\n",
        "  else:\n",
        "    rowmid = (rowi + rowf) // 2\n",
        "    colmid = (coli + colf) // 2\n",
        "    mm2(a, b, c, rowi, rowmid, coli, colmid)\n",
        "    mm2(a, b, c, rowi, rowmid, colmid + 1, colf)\n",
        "    mm2(a, b, c, rowmid + 1, rowf, coli, colmid)\n",
        "    mm2(a, b, c, rowmid + 1, rowf, colmid + 1, colf)"
      ],
      "metadata": {
        "id": "VUR0m7LkN1IZ"
      },
      "execution_count": 12,
      "outputs": []
    },
    {
      "cell_type": "code",
      "source": [
        "def dvmatmul2(a, b):\n",
        "  aRows, aCols = a.shape\n",
        "  bRows, bCols = b.shape\n",
        "  if aCols != bRows:\n",
        "    return None\n",
        "\n",
        "  c = np.zeros((aRows, bCols))\n",
        "  mm2(a, b, c, 0, aRows-1, 0, bCols-1)\n",
        "  return c"
      ],
      "metadata": {
        "id": "dwl0S9U1RU60"
      },
      "execution_count": 14,
      "outputs": []
    },
    {
      "cell_type": "code",
      "source": [
        "a = np.random.randint(10, size=(4, 8))\n",
        "b = np.random.randint(10, size=(8, 3))\n",
        "c = dvmatmul2(a, b)\n",
        "\n",
        "assert c.all() == np.matmul(a, b).all()\n",
        "\n",
        "print(a)\n",
        "print(b)\n",
        "print(c)"
      ],
      "metadata": {
        "colab": {
          "base_uri": "https://localhost:8080/"
        },
        "id": "ojdXIqyaSHlY",
        "outputId": "6990b861-b4e8-4ffd-be82-e8b8146afa70"
      },
      "execution_count": 16,
      "outputs": [
        {
          "output_type": "stream",
          "name": "stdout",
          "text": [
            "[[5 5 7 9 5 4 8 4]\n",
            " [6 3 9 8 9 5 3 3]\n",
            " [3 0 5 7 9 1 3 6]\n",
            " [7 8 4 4 8 5 8 4]]\n",
            "[[9 8 1]\n",
            " [3 8 2]\n",
            " [4 5 4]\n",
            " [8 8 7]\n",
            " [3 7 3]\n",
            " [2 3 4]\n",
            " [6 2 1]\n",
            " [3 3 5]]\n",
            "[[243. 262. 165.]\n",
            " [227. 274. 169.]\n",
            " [168. 195. 136.]\n",
            " [229. 271. 139.]]\n"
          ]
        }
      ]
    },
    {
      "cell_type": "code",
      "source": [
        ""
      ],
      "metadata": {
        "id": "VABRKyt3SNTv"
      },
      "execution_count": null,
      "outputs": []
    }
  ]
}