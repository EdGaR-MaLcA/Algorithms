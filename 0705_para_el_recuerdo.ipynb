{
  "nbformat": 4,
  "nbformat_minor": 0,
  "metadata": {
    "colab": {
      "provenance": [],
      "authorship_tag": "ABX9TyMLRncFrVNzYyPaYnZBBwlr",
      "include_colab_link": true
    },
    "kernelspec": {
      "name": "python3",
      "display_name": "Python 3"
    },
    "language_info": {
      "name": "python"
    }
  },
  "cells": [
    {
      "cell_type": "markdown",
      "metadata": {
        "id": "view-in-github",
        "colab_type": "text"
      },
      "source": [
        "<a href=\"https://colab.research.google.com/github/lmcanavals/acomplex/blob/main/0705_para_el_recuerdo.ipynb\" target=\"_parent\"><img src=\"https://colab.research.google.com/assets/colab-badge.svg\" alt=\"Open In Colab\"/></a>"
      ]
    },
    {
      "cell_type": "markdown",
      "source": [
        "# [10305 Ordering Tasks](https://onlinejudge.org/external/103/10305.pdf)"
      ],
      "metadata": {
        "id": "_oCeU-K-3c4H"
      }
    },
    {
      "cell_type": "code",
      "execution_count": 8,
      "metadata": {
        "id": "r0yw_faY0CAF"
      },
      "outputs": [],
      "source": [
        "def toposort(G):\n",
        "  n = len(G)\n",
        "  visited = [False]*n\n",
        "  ts = []\n",
        "\n",
        "  def dfs(u):\n",
        "    visited[u] = True\n",
        "    for v in G[u]:\n",
        "      if not visited[v]:\n",
        "        dfs(v)\n",
        "    ts.append(u)\n",
        "\n",
        "  for u in range(n):\n",
        "    if not visited[u]:\n",
        "      dfs(u)\n",
        "\n",
        "  return list(reversed(ts))"
      ]
    },
    {
      "cell_type": "code",
      "source": [
        "%%file 1.in\n",
        "5 4\n",
        "1 2\n",
        "2 3\n",
        "1 3\n",
        "1 5\n",
        "0 0"
      ],
      "metadata": {
        "colab": {
          "base_uri": "https://localhost:8080/"
        },
        "id": "Kt7snnWx0RHS",
        "outputId": "3171ba44-395e-419f-f278-0767633872c3"
      },
      "execution_count": 9,
      "outputs": [
        {
          "output_type": "stream",
          "name": "stdout",
          "text": [
            "Overwriting 1.in\n"
          ]
        }
      ]
    },
    {
      "cell_type": "code",
      "source": [
        "with open(\"1.in\") as f:\n",
        "    while True:\n",
        "        n, m = map(int, f.readline().split())\n",
        "        if n == 0:\n",
        "            break\n",
        "        G = [[] for _ in range(n)]\n",
        "        for _ in range(m):\n",
        "            i, j =  map(int, f.readline().split())\n",
        "            G[i - 1].append(j - 1)\n",
        "\n",
        "        t = toposort(G)\n",
        "        print(*[i + 1 for i in t])"
      ],
      "metadata": {
        "colab": {
          "base_uri": "https://localhost:8080/"
        },
        "id": "cGgsCowc0VAC",
        "outputId": "57232e89-9e4c-4145-844b-75d24dd48dac"
      },
      "execution_count": 10,
      "outputs": [
        {
          "output_type": "stream",
          "name": "stdout",
          "text": [
            "4 1 5 2 3\n"
          ]
        }
      ]
    },
    {
      "cell_type": "markdown",
      "source": [
        "# [11504 Dominos](https://onlinejudge.org/external/115/11504.pdf)"
      ],
      "metadata": {
        "id": "-WBJHSf-3lYt"
      }
    },
    {
      "cell_type": "code",
      "source": [
        "def revG(G):\n",
        "    n = len(G)\n",
        "    Grev = [[] for _ in range(n)]\n",
        "    for u in range(n):\n",
        "        for v in G[u]:\n",
        "            Grev[v].append(u)\n",
        "    return Grev"
      ],
      "metadata": {
        "id": "gz4TiGqR3zmp"
      },
      "execution_count": 11,
      "outputs": []
    },
    {
      "cell_type": "code",
      "source": [
        "def kosaraju(G):\n",
        "\n",
        "    def dfs(g, u, f):\n",
        "        visited[u] = True\n",
        "        for v in g[u]:\n",
        "            if not visited[v]:\n",
        "                dfs(g, v, f)\n",
        "        f.append(u)\n",
        "\n",
        "    n = len(G)\n",
        "    Grev = revG(G)\n",
        "    visited = [False]*n\n",
        "    f = []\n",
        "    for u in range(n):\n",
        "        if not visited[u]:\n",
        "            dfs(Grev, u, f)\n",
        "\n",
        "    visited = [False]*n\n",
        "    cfc = []\n",
        "    while f:\n",
        "        u = f.pop()\n",
        "        if not visited[u]:\n",
        "            ncfc = []\n",
        "            dfs(G, u, ncfc)\n",
        "            cfc.append(ncfc)\n",
        "\n",
        "    return cfc"
      ],
      "metadata": {
        "id": "oAD3r_ol0jXC"
      },
      "execution_count": 12,
      "outputs": []
    },
    {
      "cell_type": "code",
      "source": [
        "def metagraph(G, cfc):\n",
        "    n = len(cfc)\n",
        "    MG = [[] for _ in range(n)]\n",
        "    for mu, comp in enumerate(cfc):\n",
        "        for u in comp:\n",
        "            for mv, comp2 in enumerate(cfc):\n",
        "                if mv != mu:\n",
        "                    for v in comp2:\n",
        "                        if v in G[u]:\n",
        "                            MG[mu].append(mv)\n",
        "\n",
        "    for u in range(n):\n",
        "        MG[u] = list(set(MG[u]))\n",
        "\n",
        "    return MG\n"
      ],
      "metadata": {
        "id": "JB9DzVnFBHDd"
      },
      "execution_count": 41,
      "outputs": []
    },
    {
      "cell_type": "code",
      "source": [
        "%%file 2.in\n",
        "2\n",
        "3 2\n",
        "1 2\n",
        "2 3\n",
        "6 7\n",
        "1 2\n",
        "2 3\n",
        "3 1\n",
        "3 4\n",
        "4 5\n",
        "5 6\n",
        "6 4"
      ],
      "metadata": {
        "colab": {
          "base_uri": "https://localhost:8080/"
        },
        "id": "dVsJHFxl30cN",
        "outputId": "b943276f-32fe-4ed4-d348-473d038945d7"
      },
      "execution_count": 42,
      "outputs": [
        {
          "output_type": "stream",
          "name": "stdout",
          "text": [
            "Overwriting 2.in\n"
          ]
        }
      ]
    },
    {
      "cell_type": "code",
      "source": [
        "import itertools as it\n",
        "import math\n",
        "\n",
        "def solve(vertices, G):\n",
        "    def dfs(u):\n",
        "        visited[u] = True\n",
        "        for v in G[u]:\n",
        "            if not visited[v]:\n",
        "                path[v] = u\n",
        "                dfs(v)\n",
        "\n",
        "    n = len(G)\n",
        "    visited = [False]*n\n",
        "    path = [-1]*n\n",
        "\n",
        "    for u in vertices:\n",
        "        if not visited[u]:\n",
        "            dfs(u)\n",
        "\n",
        "    c = 0\n",
        "    for u in path:\n",
        "        if u < 0:\n",
        "            c += 1\n",
        "\n",
        "    return c\n",
        "\n",
        "\n",
        "with open(\"2.in\") as f:\n",
        "    t = int(f.readline())\n",
        "    for _ in range(t):\n",
        "        n, m = map(int, f.readline().split())\n",
        "        G = [[] for _ in range(n)]\n",
        "        for _ in range(m):\n",
        "            i, j =  map(int, f.readline().split())\n",
        "            G[i - 1].append(j - 1)\n",
        "\n",
        "        cfc = kosaraju(G)\n",
        "        MG = metagraph(G, cfc)\n",
        "        n = len(MG)\n",
        "        vertices = [i for i in range(n)]\n",
        "        m = math.inf\n",
        "        for perm in it.permutations(vertices):\n",
        "            x = solve(perm, MG)\n",
        "            if x < m:\n",
        "                m = x\n",
        "\n",
        "        print(m)"
      ],
      "metadata": {
        "colab": {
          "base_uri": "https://localhost:8080/"
        },
        "id": "pc7xcPGN38me",
        "outputId": "032fd495-55ae-4e45-9a36-88b5318e6fd3"
      },
      "execution_count": 49,
      "outputs": [
        {
          "output_type": "stream",
          "name": "stdout",
          "text": [
            "1\n",
            "1\n"
          ]
        }
      ]
    },
    {
      "cell_type": "code",
      "source": [],
      "metadata": {
        "id": "nNGwAyNDAyaA"
      },
      "execution_count": null,
      "outputs": []
    }
  ]
}