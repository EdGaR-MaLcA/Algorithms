{
  "nbformat": 4,
  "nbformat_minor": 0,
  "metadata": {
    "colab": {
      "provenance": [],
      "authorship_tag": "ABX9TyM2jIASTDlfB+T5aVdx+5bX",
      "include_colab_link": true
    },
    "kernelspec": {
      "name": "python3",
      "display_name": "Python 3"
    },
    "language_info": {
      "name": "python"
    }
  },
  "cells": [
    {
      "cell_type": "markdown",
      "metadata": {
        "id": "view-in-github",
        "colab_type": "text"
      },
      "source": [
        "<a href=\"https://colab.research.google.com/github/lmcanavals/acomplex/blob/main/0608_more_a_the_classic_romania_problem.ipynb\" target=\"_parent\"><img src=\"https://colab.research.google.com/assets/colab-badge.svg\" alt=\"Open In Colab\"/></a>"
      ]
    },
    {
      "cell_type": "code",
      "execution_count": 2,
      "metadata": {
        "id": "2g1BGJQFQdOY"
      },
      "outputs": [],
      "source": [
        "import pandas as pd"
      ]
    },
    {
      "cell_type": "code",
      "source": [
        "base = \"https://raw.githubusercontent.com/mahdihassanzade/Romanian-problem-using-Astar-and-GBFS/main/\"\n",
        "cities_url = f\"{base}cities.txt\"\n",
        "heuristics_url = f\"{base}heuristics.txt\"\n",
        "edges_url = f\"{base}citiesGraph.txt\""
      ],
      "metadata": {
        "id": "4bQx1qt_RUq3"
      },
      "execution_count": 3,
      "outputs": []
    },
    {
      "cell_type": "code",
      "source": [
        "cities = pd.read_csv(cities_url, delim_whitespace=True,\n",
        "                     header=None, names=[\"city\", \"x\", \"y\"])\n",
        "cities.head()"
      ],
      "metadata": {
        "colab": {
          "base_uri": "https://localhost:8080/",
          "height": 206
        },
        "id": "1QcERe_gRH4d",
        "outputId": "7206d18b-822f-4f06-ef5b-dcb83c17dca7"
      },
      "execution_count": 4,
      "outputs": [
        {
          "output_type": "execute_result",
          "data": {
            "text/plain": [
              "        city    x    y\n",
              "0       Arad   29  192\n",
              "1  Bucharest  268   55\n",
              "2    Craiova  163   22\n",
              "3    Dobreta   91   32\n",
              "4     Eforie  420   28"
            ],
            "text/html": [
              "\n",
              "  <div id=\"df-c8595b50-e57f-44b4-9087-eb89c1871de4\">\n",
              "    <div class=\"colab-df-container\">\n",
              "      <div>\n",
              "<style scoped>\n",
              "    .dataframe tbody tr th:only-of-type {\n",
              "        vertical-align: middle;\n",
              "    }\n",
              "\n",
              "    .dataframe tbody tr th {\n",
              "        vertical-align: top;\n",
              "    }\n",
              "\n",
              "    .dataframe thead th {\n",
              "        text-align: right;\n",
              "    }\n",
              "</style>\n",
              "<table border=\"1\" class=\"dataframe\">\n",
              "  <thead>\n",
              "    <tr style=\"text-align: right;\">\n",
              "      <th></th>\n",
              "      <th>city</th>\n",
              "      <th>x</th>\n",
              "      <th>y</th>\n",
              "    </tr>\n",
              "  </thead>\n",
              "  <tbody>\n",
              "    <tr>\n",
              "      <th>0</th>\n",
              "      <td>Arad</td>\n",
              "      <td>29</td>\n",
              "      <td>192</td>\n",
              "    </tr>\n",
              "    <tr>\n",
              "      <th>1</th>\n",
              "      <td>Bucharest</td>\n",
              "      <td>268</td>\n",
              "      <td>55</td>\n",
              "    </tr>\n",
              "    <tr>\n",
              "      <th>2</th>\n",
              "      <td>Craiova</td>\n",
              "      <td>163</td>\n",
              "      <td>22</td>\n",
              "    </tr>\n",
              "    <tr>\n",
              "      <th>3</th>\n",
              "      <td>Dobreta</td>\n",
              "      <td>91</td>\n",
              "      <td>32</td>\n",
              "    </tr>\n",
              "    <tr>\n",
              "      <th>4</th>\n",
              "      <td>Eforie</td>\n",
              "      <td>420</td>\n",
              "      <td>28</td>\n",
              "    </tr>\n",
              "  </tbody>\n",
              "</table>\n",
              "</div>\n",
              "      <button class=\"colab-df-convert\" onclick=\"convertToInteractive('df-c8595b50-e57f-44b4-9087-eb89c1871de4')\"\n",
              "              title=\"Convert this dataframe to an interactive table.\"\n",
              "              style=\"display:none;\">\n",
              "        \n",
              "  <svg xmlns=\"http://www.w3.org/2000/svg\" height=\"24px\"viewBox=\"0 0 24 24\"\n",
              "       width=\"24px\">\n",
              "    <path d=\"M0 0h24v24H0V0z\" fill=\"none\"/>\n",
              "    <path d=\"M18.56 5.44l.94 2.06.94-2.06 2.06-.94-2.06-.94-.94-2.06-.94 2.06-2.06.94zm-11 1L8.5 8.5l.94-2.06 2.06-.94-2.06-.94L8.5 2.5l-.94 2.06-2.06.94zm10 10l.94 2.06.94-2.06 2.06-.94-2.06-.94-.94-2.06-.94 2.06-2.06.94z\"/><path d=\"M17.41 7.96l-1.37-1.37c-.4-.4-.92-.59-1.43-.59-.52 0-1.04.2-1.43.59L10.3 9.45l-7.72 7.72c-.78.78-.78 2.05 0 2.83L4 21.41c.39.39.9.59 1.41.59.51 0 1.02-.2 1.41-.59l7.78-7.78 2.81-2.81c.8-.78.8-2.07 0-2.86zM5.41 20L4 18.59l7.72-7.72 1.47 1.35L5.41 20z\"/>\n",
              "  </svg>\n",
              "      </button>\n",
              "      \n",
              "  <style>\n",
              "    .colab-df-container {\n",
              "      display:flex;\n",
              "      flex-wrap:wrap;\n",
              "      gap: 12px;\n",
              "    }\n",
              "\n",
              "    .colab-df-convert {\n",
              "      background-color: #E8F0FE;\n",
              "      border: none;\n",
              "      border-radius: 50%;\n",
              "      cursor: pointer;\n",
              "      display: none;\n",
              "      fill: #1967D2;\n",
              "      height: 32px;\n",
              "      padding: 0 0 0 0;\n",
              "      width: 32px;\n",
              "    }\n",
              "\n",
              "    .colab-df-convert:hover {\n",
              "      background-color: #E2EBFA;\n",
              "      box-shadow: 0px 1px 2px rgba(60, 64, 67, 0.3), 0px 1px 3px 1px rgba(60, 64, 67, 0.15);\n",
              "      fill: #174EA6;\n",
              "    }\n",
              "\n",
              "    [theme=dark] .colab-df-convert {\n",
              "      background-color: #3B4455;\n",
              "      fill: #D2E3FC;\n",
              "    }\n",
              "\n",
              "    [theme=dark] .colab-df-convert:hover {\n",
              "      background-color: #434B5C;\n",
              "      box-shadow: 0px 1px 3px 1px rgba(0, 0, 0, 0.15);\n",
              "      filter: drop-shadow(0px 1px 2px rgba(0, 0, 0, 0.3));\n",
              "      fill: #FFFFFF;\n",
              "    }\n",
              "  </style>\n",
              "\n",
              "      <script>\n",
              "        const buttonEl =\n",
              "          document.querySelector('#df-c8595b50-e57f-44b4-9087-eb89c1871de4 button.colab-df-convert');\n",
              "        buttonEl.style.display =\n",
              "          google.colab.kernel.accessAllowed ? 'block' : 'none';\n",
              "\n",
              "        async function convertToInteractive(key) {\n",
              "          const element = document.querySelector('#df-c8595b50-e57f-44b4-9087-eb89c1871de4');\n",
              "          const dataTable =\n",
              "            await google.colab.kernel.invokeFunction('convertToInteractive',\n",
              "                                                     [key], {});\n",
              "          if (!dataTable) return;\n",
              "\n",
              "          const docLinkHtml = 'Like what you see? Visit the ' +\n",
              "            '<a target=\"_blank\" href=https://colab.research.google.com/notebooks/data_table.ipynb>data table notebook</a>'\n",
              "            + ' to learn more about interactive tables.';\n",
              "          element.innerHTML = '';\n",
              "          dataTable['output_type'] = 'display_data';\n",
              "          await google.colab.output.renderOutput(dataTable, element);\n",
              "          const docLink = document.createElement('div');\n",
              "          docLink.innerHTML = docLinkHtml;\n",
              "          element.appendChild(docLink);\n",
              "        }\n",
              "      </script>\n",
              "    </div>\n",
              "  </div>\n",
              "  "
            ]
          },
          "metadata": {},
          "execution_count": 4
        }
      ]
    },
    {
      "cell_type": "code",
      "source": [
        "heuristics = pd.read_csv(heuristics_url, delim_whitespace=True,\n",
        "                         header=None, names=[\"city\", \"h\"])\n",
        "heuristics.head()"
      ],
      "metadata": {
        "colab": {
          "base_uri": "https://localhost:8080/",
          "height": 206
        },
        "id": "tQB-O2QaRnw1",
        "outputId": "1e475588-8185-4aa8-a285-19d85edf0380"
      },
      "execution_count": 5,
      "outputs": [
        {
          "output_type": "execute_result",
          "data": {
            "text/plain": [
              "        city    h\n",
              "0       Arad  366\n",
              "1  Bucharest    0\n",
              "2    Craiova  160\n",
              "3    Dobreta  242\n",
              "4     Eforie  161"
            ],
            "text/html": [
              "\n",
              "  <div id=\"df-b28e823c-1326-45b0-92f2-4e5c12fcd142\">\n",
              "    <div class=\"colab-df-container\">\n",
              "      <div>\n",
              "<style scoped>\n",
              "    .dataframe tbody tr th:only-of-type {\n",
              "        vertical-align: middle;\n",
              "    }\n",
              "\n",
              "    .dataframe tbody tr th {\n",
              "        vertical-align: top;\n",
              "    }\n",
              "\n",
              "    .dataframe thead th {\n",
              "        text-align: right;\n",
              "    }\n",
              "</style>\n",
              "<table border=\"1\" class=\"dataframe\">\n",
              "  <thead>\n",
              "    <tr style=\"text-align: right;\">\n",
              "      <th></th>\n",
              "      <th>city</th>\n",
              "      <th>h</th>\n",
              "    </tr>\n",
              "  </thead>\n",
              "  <tbody>\n",
              "    <tr>\n",
              "      <th>0</th>\n",
              "      <td>Arad</td>\n",
              "      <td>366</td>\n",
              "    </tr>\n",
              "    <tr>\n",
              "      <th>1</th>\n",
              "      <td>Bucharest</td>\n",
              "      <td>0</td>\n",
              "    </tr>\n",
              "    <tr>\n",
              "      <th>2</th>\n",
              "      <td>Craiova</td>\n",
              "      <td>160</td>\n",
              "    </tr>\n",
              "    <tr>\n",
              "      <th>3</th>\n",
              "      <td>Dobreta</td>\n",
              "      <td>242</td>\n",
              "    </tr>\n",
              "    <tr>\n",
              "      <th>4</th>\n",
              "      <td>Eforie</td>\n",
              "      <td>161</td>\n",
              "    </tr>\n",
              "  </tbody>\n",
              "</table>\n",
              "</div>\n",
              "      <button class=\"colab-df-convert\" onclick=\"convertToInteractive('df-b28e823c-1326-45b0-92f2-4e5c12fcd142')\"\n",
              "              title=\"Convert this dataframe to an interactive table.\"\n",
              "              style=\"display:none;\">\n",
              "        \n",
              "  <svg xmlns=\"http://www.w3.org/2000/svg\" height=\"24px\"viewBox=\"0 0 24 24\"\n",
              "       width=\"24px\">\n",
              "    <path d=\"M0 0h24v24H0V0z\" fill=\"none\"/>\n",
              "    <path d=\"M18.56 5.44l.94 2.06.94-2.06 2.06-.94-2.06-.94-.94-2.06-.94 2.06-2.06.94zm-11 1L8.5 8.5l.94-2.06 2.06-.94-2.06-.94L8.5 2.5l-.94 2.06-2.06.94zm10 10l.94 2.06.94-2.06 2.06-.94-2.06-.94-.94-2.06-.94 2.06-2.06.94z\"/><path d=\"M17.41 7.96l-1.37-1.37c-.4-.4-.92-.59-1.43-.59-.52 0-1.04.2-1.43.59L10.3 9.45l-7.72 7.72c-.78.78-.78 2.05 0 2.83L4 21.41c.39.39.9.59 1.41.59.51 0 1.02-.2 1.41-.59l7.78-7.78 2.81-2.81c.8-.78.8-2.07 0-2.86zM5.41 20L4 18.59l7.72-7.72 1.47 1.35L5.41 20z\"/>\n",
              "  </svg>\n",
              "      </button>\n",
              "      \n",
              "  <style>\n",
              "    .colab-df-container {\n",
              "      display:flex;\n",
              "      flex-wrap:wrap;\n",
              "      gap: 12px;\n",
              "    }\n",
              "\n",
              "    .colab-df-convert {\n",
              "      background-color: #E8F0FE;\n",
              "      border: none;\n",
              "      border-radius: 50%;\n",
              "      cursor: pointer;\n",
              "      display: none;\n",
              "      fill: #1967D2;\n",
              "      height: 32px;\n",
              "      padding: 0 0 0 0;\n",
              "      width: 32px;\n",
              "    }\n",
              "\n",
              "    .colab-df-convert:hover {\n",
              "      background-color: #E2EBFA;\n",
              "      box-shadow: 0px 1px 2px rgba(60, 64, 67, 0.3), 0px 1px 3px 1px rgba(60, 64, 67, 0.15);\n",
              "      fill: #174EA6;\n",
              "    }\n",
              "\n",
              "    [theme=dark] .colab-df-convert {\n",
              "      background-color: #3B4455;\n",
              "      fill: #D2E3FC;\n",
              "    }\n",
              "\n",
              "    [theme=dark] .colab-df-convert:hover {\n",
              "      background-color: #434B5C;\n",
              "      box-shadow: 0px 1px 3px 1px rgba(0, 0, 0, 0.15);\n",
              "      filter: drop-shadow(0px 1px 2px rgba(0, 0, 0, 0.3));\n",
              "      fill: #FFFFFF;\n",
              "    }\n",
              "  </style>\n",
              "\n",
              "      <script>\n",
              "        const buttonEl =\n",
              "          document.querySelector('#df-b28e823c-1326-45b0-92f2-4e5c12fcd142 button.colab-df-convert');\n",
              "        buttonEl.style.display =\n",
              "          google.colab.kernel.accessAllowed ? 'block' : 'none';\n",
              "\n",
              "        async function convertToInteractive(key) {\n",
              "          const element = document.querySelector('#df-b28e823c-1326-45b0-92f2-4e5c12fcd142');\n",
              "          const dataTable =\n",
              "            await google.colab.kernel.invokeFunction('convertToInteractive',\n",
              "                                                     [key], {});\n",
              "          if (!dataTable) return;\n",
              "\n",
              "          const docLinkHtml = 'Like what you see? Visit the ' +\n",
              "            '<a target=\"_blank\" href=https://colab.research.google.com/notebooks/data_table.ipynb>data table notebook</a>'\n",
              "            + ' to learn more about interactive tables.';\n",
              "          element.innerHTML = '';\n",
              "          dataTable['output_type'] = 'display_data';\n",
              "          await google.colab.output.renderOutput(dataTable, element);\n",
              "          const docLink = document.createElement('div');\n",
              "          docLink.innerHTML = docLinkHtml;\n",
              "          element.appendChild(docLink);\n",
              "        }\n",
              "      </script>\n",
              "    </div>\n",
              "  </div>\n",
              "  "
            ]
          },
          "metadata": {},
          "execution_count": 5
        }
      ]
    },
    {
      "cell_type": "code",
      "source": [
        "edges = pd.read_csv(edges_url, delim_whitespace=True,\n",
        "                    header=None, names=[\"from\", \"to\", \"w\"])\n",
        "edges.head()"
      ],
      "metadata": {
        "colab": {
          "base_uri": "https://localhost:8080/",
          "height": 206
        },
        "id": "qUR5GwiySMAg",
        "outputId": "bf679e74-2ef5-4f86-a67a-a781e1f24d1c"
      },
      "execution_count": 6,
      "outputs": [
        {
          "output_type": "execute_result",
          "data": {
            "text/plain": [
              "        from         to    w\n",
              "0       Arad      Sibiu  140\n",
              "1       Arad  Timisoara  118\n",
              "2       Arad     Zerind   75\n",
              "3  Bucharest    Fagaras  211\n",
              "4  Bucharest    Giurgiu   90"
            ],
            "text/html": [
              "\n",
              "  <div id=\"df-fe9b9ac5-f0c6-41d8-b10f-094e13045e78\">\n",
              "    <div class=\"colab-df-container\">\n",
              "      <div>\n",
              "<style scoped>\n",
              "    .dataframe tbody tr th:only-of-type {\n",
              "        vertical-align: middle;\n",
              "    }\n",
              "\n",
              "    .dataframe tbody tr th {\n",
              "        vertical-align: top;\n",
              "    }\n",
              "\n",
              "    .dataframe thead th {\n",
              "        text-align: right;\n",
              "    }\n",
              "</style>\n",
              "<table border=\"1\" class=\"dataframe\">\n",
              "  <thead>\n",
              "    <tr style=\"text-align: right;\">\n",
              "      <th></th>\n",
              "      <th>from</th>\n",
              "      <th>to</th>\n",
              "      <th>w</th>\n",
              "    </tr>\n",
              "  </thead>\n",
              "  <tbody>\n",
              "    <tr>\n",
              "      <th>0</th>\n",
              "      <td>Arad</td>\n",
              "      <td>Sibiu</td>\n",
              "      <td>140</td>\n",
              "    </tr>\n",
              "    <tr>\n",
              "      <th>1</th>\n",
              "      <td>Arad</td>\n",
              "      <td>Timisoara</td>\n",
              "      <td>118</td>\n",
              "    </tr>\n",
              "    <tr>\n",
              "      <th>2</th>\n",
              "      <td>Arad</td>\n",
              "      <td>Zerind</td>\n",
              "      <td>75</td>\n",
              "    </tr>\n",
              "    <tr>\n",
              "      <th>3</th>\n",
              "      <td>Bucharest</td>\n",
              "      <td>Fagaras</td>\n",
              "      <td>211</td>\n",
              "    </tr>\n",
              "    <tr>\n",
              "      <th>4</th>\n",
              "      <td>Bucharest</td>\n",
              "      <td>Giurgiu</td>\n",
              "      <td>90</td>\n",
              "    </tr>\n",
              "  </tbody>\n",
              "</table>\n",
              "</div>\n",
              "      <button class=\"colab-df-convert\" onclick=\"convertToInteractive('df-fe9b9ac5-f0c6-41d8-b10f-094e13045e78')\"\n",
              "              title=\"Convert this dataframe to an interactive table.\"\n",
              "              style=\"display:none;\">\n",
              "        \n",
              "  <svg xmlns=\"http://www.w3.org/2000/svg\" height=\"24px\"viewBox=\"0 0 24 24\"\n",
              "       width=\"24px\">\n",
              "    <path d=\"M0 0h24v24H0V0z\" fill=\"none\"/>\n",
              "    <path d=\"M18.56 5.44l.94 2.06.94-2.06 2.06-.94-2.06-.94-.94-2.06-.94 2.06-2.06.94zm-11 1L8.5 8.5l.94-2.06 2.06-.94-2.06-.94L8.5 2.5l-.94 2.06-2.06.94zm10 10l.94 2.06.94-2.06 2.06-.94-2.06-.94-.94-2.06-.94 2.06-2.06.94z\"/><path d=\"M17.41 7.96l-1.37-1.37c-.4-.4-.92-.59-1.43-.59-.52 0-1.04.2-1.43.59L10.3 9.45l-7.72 7.72c-.78.78-.78 2.05 0 2.83L4 21.41c.39.39.9.59 1.41.59.51 0 1.02-.2 1.41-.59l7.78-7.78 2.81-2.81c.8-.78.8-2.07 0-2.86zM5.41 20L4 18.59l7.72-7.72 1.47 1.35L5.41 20z\"/>\n",
              "  </svg>\n",
              "      </button>\n",
              "      \n",
              "  <style>\n",
              "    .colab-df-container {\n",
              "      display:flex;\n",
              "      flex-wrap:wrap;\n",
              "      gap: 12px;\n",
              "    }\n",
              "\n",
              "    .colab-df-convert {\n",
              "      background-color: #E8F0FE;\n",
              "      border: none;\n",
              "      border-radius: 50%;\n",
              "      cursor: pointer;\n",
              "      display: none;\n",
              "      fill: #1967D2;\n",
              "      height: 32px;\n",
              "      padding: 0 0 0 0;\n",
              "      width: 32px;\n",
              "    }\n",
              "\n",
              "    .colab-df-convert:hover {\n",
              "      background-color: #E2EBFA;\n",
              "      box-shadow: 0px 1px 2px rgba(60, 64, 67, 0.3), 0px 1px 3px 1px rgba(60, 64, 67, 0.15);\n",
              "      fill: #174EA6;\n",
              "    }\n",
              "\n",
              "    [theme=dark] .colab-df-convert {\n",
              "      background-color: #3B4455;\n",
              "      fill: #D2E3FC;\n",
              "    }\n",
              "\n",
              "    [theme=dark] .colab-df-convert:hover {\n",
              "      background-color: #434B5C;\n",
              "      box-shadow: 0px 1px 3px 1px rgba(0, 0, 0, 0.15);\n",
              "      filter: drop-shadow(0px 1px 2px rgba(0, 0, 0, 0.3));\n",
              "      fill: #FFFFFF;\n",
              "    }\n",
              "  </style>\n",
              "\n",
              "      <script>\n",
              "        const buttonEl =\n",
              "          document.querySelector('#df-fe9b9ac5-f0c6-41d8-b10f-094e13045e78 button.colab-df-convert');\n",
              "        buttonEl.style.display =\n",
              "          google.colab.kernel.accessAllowed ? 'block' : 'none';\n",
              "\n",
              "        async function convertToInteractive(key) {\n",
              "          const element = document.querySelector('#df-fe9b9ac5-f0c6-41d8-b10f-094e13045e78');\n",
              "          const dataTable =\n",
              "            await google.colab.kernel.invokeFunction('convertToInteractive',\n",
              "                                                     [key], {});\n",
              "          if (!dataTable) return;\n",
              "\n",
              "          const docLinkHtml = 'Like what you see? Visit the ' +\n",
              "            '<a target=\"_blank\" href=https://colab.research.google.com/notebooks/data_table.ipynb>data table notebook</a>'\n",
              "            + ' to learn more about interactive tables.';\n",
              "          element.innerHTML = '';\n",
              "          dataTable['output_type'] = 'display_data';\n",
              "          await google.colab.output.renderOutput(dataTable, element);\n",
              "          const docLink = document.createElement('div');\n",
              "          docLink.innerHTML = docLinkHtml;\n",
              "          element.appendChild(docLink);\n",
              "        }\n",
              "      </script>\n",
              "    </div>\n",
              "  </div>\n",
              "  "
            ]
          },
          "metadata": {},
          "execution_count": 6
        }
      ]
    },
    {
      "cell_type": "code",
      "source": [
        "labels = [x for x in cities[\"city\"]]\n",
        "n2i = {city: i for i, city in enumerate(labels)}\n",
        "h = [row[1][\"h\"] for row in heuristics.iterrows()]"
      ],
      "metadata": {
        "id": "bFKq15h9ScOH"
      },
      "execution_count": 56,
      "outputs": []
    },
    {
      "cell_type": "code",
      "source": [
        "G = [[] for _ in range(len(labels))]\n",
        "for row in edges.iterrows():\n",
        "    u = n2i[row[1][\"from\"]]\n",
        "    v = n2i[row[1][\"to\"]]\n",
        "    w = int(row[1][\"w\"])\n",
        "    G[u].append((v, w))\n",
        "    G[v].append((u, w))\n",
        "for u in G:\n",
        "    print(u)"
      ],
      "metadata": {
        "colab": {
          "base_uri": "https://localhost:8080/"
        },
        "id": "A58Bbg05Smlc",
        "outputId": "76051dad-e836-4859-cd1b-1b6314f27f47"
      },
      "execution_count": 68,
      "outputs": [
        {
          "output_type": "stream",
          "name": "stdout",
          "text": [
            "[(15, 140), (16, 118), (19, 75)]\n",
            "[(5, 211), (6, 90), (13, 101), (17, 85)]\n",
            "[(3, 120), (13, 138), (14, 146)]\n",
            "[(2, 120), (10, 75)]\n",
            "[(7, 86)]\n",
            "[(1, 211), (15, 99)]\n",
            "[(1, 90)]\n",
            "[(4, 86), (17, 98)]\n",
            "[(11, 87), (18, 92)]\n",
            "[(10, 70), (16, 111)]\n",
            "[(3, 75), (9, 70)]\n",
            "[(8, 87)]\n",
            "[(19, 71), (15, 151)]\n",
            "[(1, 101), (2, 138), (14, 97)]\n",
            "[(2, 146), (13, 97), (15, 80)]\n",
            "[(0, 140), (5, 99), (12, 151), (14, 80)]\n",
            "[(0, 118), (9, 111)]\n",
            "[(1, 85), (7, 98), (18, 142)]\n",
            "[(8, 92), (17, 142)]\n",
            "[(0, 75), (12, 71)]\n"
          ]
        }
      ]
    },
    {
      "cell_type": "code",
      "source": [
        "import graphviz as gv\n",
        "\n",
        "def drawG_al(G, cities=cities, h=h, path=[]):\n",
        "  graph = gv.Graph(\"romania\")\n",
        "  graph.graph_attr[\"layout\"] = \"neato\"\n",
        "  graph.node_attr[\"fontsize\"] = \"8\"\n",
        "  graph.node_attr[\"fontname\"] = \"monospace\"\n",
        "  graph.edge_attr[\"fontsize\"] = \"8\"\n",
        "  graph.edge_attr[\"fontname\"] = \"monospace\"\n",
        "  n = len(G)\n",
        "  added = set()\n",
        "  u = 0\n",
        "  for row in cities.iterrows():\n",
        "      label = row[1][\"city\"]\n",
        "      x = row[1][\"x\"] \n",
        "      y = row[1][\"y\"]\n",
        "      graph.node(str(u), label=f\"{label}\\nh={h[u]}\", pos=f\"{x/30},{y/30}!\")\n",
        "      u += 1\n",
        "  for v, u in enumerate(path):\n",
        "    if u != -1:\n",
        "      for vi, w in G[u]:\n",
        "        if vi == v:\n",
        "          break\n",
        "      graph.edge(str(u), str(v), str(w), dir=\"forward\", penwidth=\"2\", color=\"orange\")\n",
        "      added.add(f\"{u},{v}\")\n",
        "      added.add(f\"{v},{u}\")\n",
        "  for u in range(n):\n",
        "    for v, w in G[u]:\n",
        "      draw = False\n",
        "      if not f\"{u},{v}\" in added:\n",
        "        added.add(f\"{u},{v}\")\n",
        "        added.add(f\"{v},{u}\")\n",
        "        draw = True\n",
        "      if draw:\n",
        "        graph.edge(str(u), str(v), str(w))\n",
        "  #print(graph)\n",
        "  return graph"
      ],
      "metadata": {
        "id": "zxPTK-7hUWQx"
      },
      "execution_count": 79,
      "outputs": []
    },
    {
      "cell_type": "code",
      "source": [
        "drawG_al(G)"
      ],
      "metadata": {
        "colab": {
          "base_uri": "https://localhost:8080/",
          "height": 880
        },
        "id": "OD11K0Y9VWNF",
        "outputId": "9439c15b-55c1-4189-91c1-ab9db8a151d1"
      },
      "execution_count": 70,
      "outputs": [
        {
          "output_type": "execute_result",
          "data": {
            "image/svg+xml": "<?xml version=\"1.0\" encoding=\"UTF-8\" standalone=\"no\"?>\n<!DOCTYPE svg PUBLIC \"-//W3C//DTD SVG 1.1//EN\"\n \"http://www.w3.org/Graphics/SVG/1.1/DTD/svg11.dtd\">\n<!-- Generated by graphviz version 2.43.0 (0)\n -->\n<!-- Title: romania Pages: 1 -->\n<svg width=\"1011pt\" height=\"645pt\"\n viewBox=\"0.00 0.00 1010.62 644.77\" xmlns=\"http://www.w3.org/2000/svg\" xmlns:xlink=\"http://www.w3.org/1999/xlink\">\n<g id=\"graph0\" class=\"graph\" transform=\"scale(1 1) rotate(0) translate(4 640.77)\">\n<title>romania</title>\n<polygon fill=\"white\" stroke=\"transparent\" points=\"-4,4 -4,-640.77 1006.62,-640.77 1006.62,4 -4,4\"/>\n<!-- 0 -->\n<g id=\"node1\" class=\"node\">\n<title>0</title>\n<ellipse fill=\"none\" stroke=\"black\" cx=\"33.11\" cy=\"-459.98\" rx=\"27.65\" ry=\"18.27\"/>\n<text text-anchor=\"middle\" x=\"33.11\" y=\"-462.58\" font-family=\"monospace\" font-size=\"8.00\">Arad</text>\n<text text-anchor=\"middle\" x=\"33.11\" y=\"-453.58\" font-family=\"monospace\" font-size=\"8.00\">h=366</text>\n</g>\n<!-- 15 -->\n<g id=\"node16\" class=\"node\">\n<title>15</title>\n<ellipse fill=\"none\" stroke=\"black\" cx=\"265.91\" cy=\"-392.78\" rx=\"27.65\" ry=\"18.27\"/>\n<text text-anchor=\"middle\" x=\"265.91\" y=\"-395.38\" font-family=\"monospace\" font-size=\"8.00\">Sibiu</text>\n<text text-anchor=\"middle\" x=\"265.91\" y=\"-386.38\" font-family=\"monospace\" font-size=\"8.00\">h=253</text>\n</g>\n<!-- 0&#45;&#45;15 -->\n<g id=\"edge1\" class=\"edge\">\n<title>0&#45;&#45;15</title>\n<path fill=\"none\" stroke=\"black\" d=\"M58.46,-452.67C103.24,-439.74 195.82,-413.02 240.58,-400.1\"/>\n<text text-anchor=\"middle\" x=\"142.52\" y=\"-428.98\" font-family=\"monospace\" font-size=\"8.00\">140</text>\n</g>\n<!-- 16 -->\n<g id=\"node17\" class=\"node\">\n<title>16</title>\n<ellipse fill=\"none\" stroke=\"black\" cx=\"40.31\" cy=\"-296.78\" rx=\"40.11\" ry=\"18.27\"/>\n<text text-anchor=\"middle\" x=\"40.31\" y=\"-299.38\" font-family=\"monospace\" font-size=\"8.00\">Timisoara</text>\n<text text-anchor=\"middle\" x=\"40.31\" y=\"-290.38\" font-family=\"monospace\" font-size=\"8.00\">h=329</text>\n</g>\n<!-- 0&#45;&#45;16 -->\n<g id=\"edge2\" class=\"edge\">\n<title>0&#45;&#45;16</title>\n<path fill=\"none\" stroke=\"black\" d=\"M33.92,-441.58C35.3,-410.24 38.1,-346.84 39.49,-315.37\"/>\n<text text-anchor=\"middle\" x=\"29.7\" y=\"-381.08\" font-family=\"monospace\" font-size=\"8.00\">118</text>\n</g>\n<!-- 19 -->\n<g id=\"node20\" class=\"node\">\n<title>19</title>\n<ellipse fill=\"none\" stroke=\"black\" cx=\"69.11\" cy=\"-539.18\" rx=\"31.23\" ry=\"18.27\"/>\n<text text-anchor=\"middle\" x=\"69.11\" y=\"-541.78\" font-family=\"monospace\" font-size=\"8.00\">Zerind</text>\n<text text-anchor=\"middle\" x=\"69.11\" y=\"-532.78\" font-family=\"monospace\" font-size=\"8.00\">h=374</text>\n</g>\n<!-- 0&#45;&#45;19 -->\n<g id=\"edge3\" class=\"edge\">\n<title>0&#45;&#45;19</title>\n<path fill=\"none\" stroke=\"black\" d=\"M41.27,-477.96C47.17,-490.92 55.08,-508.34 60.97,-521.28\"/>\n<text text-anchor=\"middle\" x=\"46.12\" y=\"-502.22\" font-family=\"monospace\" font-size=\"8.00\">75</text>\n</g>\n<!-- 1 -->\n<g id=\"node2\" class=\"node\">\n<title>1</title>\n<ellipse fill=\"none\" stroke=\"black\" cx=\"606.71\" cy=\"-131.18\" rx=\"40.11\" ry=\"18.27\"/>\n<text text-anchor=\"middle\" x=\"606.71\" y=\"-133.78\" font-family=\"monospace\" font-size=\"8.00\">Bucharest</text>\n<text text-anchor=\"middle\" x=\"606.71\" y=\"-124.78\" font-family=\"monospace\" font-size=\"8.00\">h=0</text>\n</g>\n<!-- 5 -->\n<g id=\"node6\" class=\"node\">\n<title>5</title>\n<ellipse fill=\"none\" stroke=\"black\" cx=\"462.71\" cy=\"-375.98\" rx=\"33.88\" ry=\"18.27\"/>\n<text text-anchor=\"middle\" x=\"462.71\" y=\"-378.58\" font-family=\"monospace\" font-size=\"8.00\">Fagaras</text>\n<text text-anchor=\"middle\" x=\"462.71\" y=\"-369.58\" font-family=\"monospace\" font-size=\"8.00\">h=178</text>\n</g>\n<!-- 1&#45;&#45;5 -->\n<g id=\"edge4\" class=\"edge\">\n<title>1&#45;&#45;5</title>\n<path fill=\"none\" stroke=\"black\" d=\"M596.12,-149.19C569.42,-194.57 499.62,-313.24 473.12,-358.29\"/>\n<text text-anchor=\"middle\" x=\"527.62\" y=\"-256.34\" font-family=\"monospace\" font-size=\"8.00\">211</text>\n</g>\n<!-- 6 -->\n<g id=\"node7\" class=\"node\">\n<title>6</title>\n<ellipse fill=\"none\" stroke=\"black\" cx=\"597.11\" cy=\"-18.38\" rx=\"33.88\" ry=\"18.27\"/>\n<text text-anchor=\"middle\" x=\"597.11\" y=\"-20.98\" font-family=\"monospace\" font-size=\"8.00\">Giurgiu</text>\n<text text-anchor=\"middle\" x=\"597.11\" y=\"-11.98\" font-family=\"monospace\" font-size=\"8.00\">h=77</text>\n</g>\n<!-- 1&#45;&#45;6 -->\n<g id=\"edge5\" class=\"edge\">\n<title>1&#45;&#45;6</title>\n<path fill=\"none\" stroke=\"black\" d=\"M605.14,-112.81C603.36,-91.83 600.45,-57.72 598.67,-36.75\"/>\n<text text-anchor=\"middle\" x=\"596.9\" y=\"-77.38\" font-family=\"monospace\" font-size=\"8.00\">90</text>\n</g>\n<!-- 13 -->\n<g id=\"node14\" class=\"node\">\n<title>13</title>\n<ellipse fill=\"none\" stroke=\"black\" cx=\"491.51\" cy=\"-210.38\" rx=\"33.88\" ry=\"18.27\"/>\n<text text-anchor=\"middle\" x=\"491.51\" y=\"-212.98\" font-family=\"monospace\" font-size=\"8.00\">Pitesti</text>\n<text text-anchor=\"middle\" x=\"491.51\" y=\"-203.98\" font-family=\"monospace\" font-size=\"8.00\">h=98</text>\n</g>\n<!-- 1&#45;&#45;13 -->\n<g id=\"edge6\" class=\"edge\">\n<title>1&#45;&#45;13</title>\n<path fill=\"none\" stroke=\"black\" d=\"M584.22,-146.64C563.53,-160.87 533.06,-181.82 512.77,-195.77\"/>\n<text text-anchor=\"middle\" x=\"541.49\" y=\"-173.81\" font-family=\"monospace\" font-size=\"8.00\">101</text>\n</g>\n<!-- 17 -->\n<g id=\"node18\" class=\"node\">\n<title>17</title>\n<ellipse fill=\"none\" stroke=\"black\" cx=\"762.71\" cy=\"-176.78\" rx=\"37.45\" ry=\"18.27\"/>\n<text text-anchor=\"middle\" x=\"762.71\" y=\"-179.38\" font-family=\"monospace\" font-size=\"8.00\">Urziceni</text>\n<text text-anchor=\"middle\" x=\"762.71\" y=\"-170.38\" font-family=\"monospace\" font-size=\"8.00\">h=80</text>\n</g>\n<!-- 1&#45;&#45;17 -->\n<g id=\"edge7\" class=\"edge\">\n<title>1&#45;&#45;17</title>\n<path fill=\"none\" stroke=\"black\" d=\"M640.94,-141.19C667.58,-148.98 704.28,-159.71 730.42,-167.35\"/>\n<text text-anchor=\"middle\" x=\"680.68\" y=\"-156.87\" font-family=\"monospace\" font-size=\"8.00\">85</text>\n</g>\n<!-- 2 -->\n<g id=\"node3\" class=\"node\">\n<title>2</title>\n<ellipse fill=\"none\" stroke=\"black\" cx=\"354.71\" cy=\"-51.98\" rx=\"33.88\" ry=\"18.27\"/>\n<text text-anchor=\"middle\" x=\"354.71\" y=\"-54.58\" font-family=\"monospace\" font-size=\"8.00\">Craiova</text>\n<text text-anchor=\"middle\" x=\"354.71\" y=\"-45.58\" font-family=\"monospace\" font-size=\"8.00\">h=160</text>\n</g>\n<!-- 3 -->\n<g id=\"node4\" class=\"node\">\n<title>3</title>\n<ellipse fill=\"none\" stroke=\"black\" cx=\"181.91\" cy=\"-75.98\" rx=\"33.88\" ry=\"18.27\"/>\n<text text-anchor=\"middle\" x=\"181.91\" y=\"-78.58\" font-family=\"monospace\" font-size=\"8.00\">Dobreta</text>\n<text text-anchor=\"middle\" x=\"181.91\" y=\"-69.58\" font-family=\"monospace\" font-size=\"8.00\">h=242</text>\n</g>\n<!-- 2&#45;&#45;3 -->\n<g id=\"edge8\" class=\"edge\">\n<title>2&#45;&#45;3</title>\n<path fill=\"none\" stroke=\"black\" d=\"M321.8,-56.56C291.15,-60.81 245.69,-67.13 214.99,-71.39\"/>\n<text text-anchor=\"middle\" x=\"261.39\" y=\"-66.57\" font-family=\"monospace\" font-size=\"8.00\">120</text>\n</g>\n<!-- 2&#45;&#45;13 -->\n<g id=\"edge9\" class=\"edge\">\n<title>2&#45;&#45;13</title>\n<path fill=\"none\" stroke=\"black\" d=\"M369.35,-68.94C395.68,-99.42 450.72,-163.16 476.97,-193.56\"/>\n<text text-anchor=\"middle\" x=\"416.16\" y=\"-133.85\" font-family=\"monospace\" font-size=\"8.00\">138</text>\n</g>\n<!-- 14 -->\n<g id=\"node15\" class=\"node\">\n<title>14</title>\n<ellipse fill=\"none\" stroke=\"black\" cx=\"316.31\" cy=\"-296.78\" rx=\"56.64\" ry=\"18.27\"/>\n<text text-anchor=\"middle\" x=\"316.31\" y=\"-299.38\" font-family=\"monospace\" font-size=\"8.00\">Rimnicu_Vilcea</text>\n<text text-anchor=\"middle\" x=\"316.31\" y=\"-290.38\" font-family=\"monospace\" font-size=\"8.00\">h=193</text>\n</g>\n<!-- 2&#45;&#45;14 -->\n<g id=\"edge10\" class=\"edge\">\n<title>2&#45;&#45;14</title>\n<path fill=\"none\" stroke=\"black\" d=\"M351.82,-70.38C344.7,-115.75 326.38,-232.58 319.22,-278.17\"/>\n<text text-anchor=\"middle\" x=\"328.52\" y=\"-176.88\" font-family=\"monospace\" font-size=\"8.00\">146</text>\n</g>\n<!-- 10 -->\n<g id=\"node11\" class=\"node\">\n<title>10</title>\n<ellipse fill=\"none\" stroke=\"black\" cx=\"186.71\" cy=\"-155.18\" rx=\"33.88\" ry=\"18.27\"/>\n<text text-anchor=\"middle\" x=\"186.71\" y=\"-157.78\" font-family=\"monospace\" font-size=\"8.00\">Mehadia</text>\n<text text-anchor=\"middle\" x=\"186.71\" y=\"-148.78\" font-family=\"monospace\" font-size=\"8.00\">h=241</text>\n</g>\n<!-- 3&#45;&#45;10 -->\n<g id=\"edge11\" class=\"edge\">\n<title>3&#45;&#45;10</title>\n<path fill=\"none\" stroke=\"black\" d=\"M183.04,-94.75C183.81,-107.38 184.81,-123.95 185.58,-136.55\"/>\n<text text-anchor=\"middle\" x=\"179.31\" y=\"-118.25\" font-family=\"monospace\" font-size=\"8.00\">75</text>\n</g>\n<!-- 4 -->\n<g id=\"node5\" class=\"node\">\n<title>4</title>\n<ellipse fill=\"none\" stroke=\"black\" cx=\"971.51\" cy=\"-66.38\" rx=\"31.23\" ry=\"18.27\"/>\n<text text-anchor=\"middle\" x=\"971.51\" y=\"-68.98\" font-family=\"monospace\" font-size=\"8.00\">Eforie</text>\n<text text-anchor=\"middle\" x=\"971.51\" y=\"-59.98\" font-family=\"monospace\" font-size=\"8.00\">h=161</text>\n</g>\n<!-- 7 -->\n<g id=\"node8\" class=\"node\">\n<title>7</title>\n<ellipse fill=\"none\" stroke=\"black\" cx=\"913.91\" cy=\"-176.78\" rx=\"33.88\" ry=\"18.27\"/>\n<text text-anchor=\"middle\" x=\"913.91\" y=\"-179.38\" font-family=\"monospace\" font-size=\"8.00\">Hirsova</text>\n<text text-anchor=\"middle\" x=\"913.91\" y=\"-170.38\" font-family=\"monospace\" font-size=\"8.00\">h=151</text>\n</g>\n<!-- 4&#45;&#45;7 -->\n<g id=\"edge12\" class=\"edge\">\n<title>4&#45;&#45;7</title>\n<path fill=\"none\" stroke=\"black\" d=\"M962.25,-84.12C951.5,-104.72 933.88,-138.51 923.14,-159.09\"/>\n<text text-anchor=\"middle\" x=\"937.69\" y=\"-124.21\" font-family=\"monospace\" font-size=\"8.00\">86</text>\n</g>\n<!-- 5&#45;&#45;15 -->\n<g id=\"edge13\" class=\"edge\">\n<title>5&#45;&#45;15</title>\n<path fill=\"none\" stroke=\"black\" d=\"M428.87,-378.87C390.52,-382.15 328.73,-387.42 293.28,-390.45\"/>\n<text text-anchor=\"middle\" x=\"356.08\" y=\"-387.26\" font-family=\"monospace\" font-size=\"8.00\">99</text>\n</g>\n<!-- 7&#45;&#45;17 -->\n<g id=\"edge14\" class=\"edge\">\n<title>7&#45;&#45;17</title>\n<path fill=\"none\" stroke=\"black\" d=\"M879.6,-176.78C855.98,-176.78 824.62,-176.78 800.32,-176.78\"/>\n<text text-anchor=\"middle\" x=\"834.96\" y=\"-179.38\" font-family=\"monospace\" font-size=\"8.00\">98</text>\n</g>\n<!-- 8 -->\n<g id=\"node9\" class=\"node\">\n<title>8</title>\n<ellipse fill=\"none\" stroke=\"black\" cx=\"796.31\" cy=\"-488.78\" rx=\"27.65\" ry=\"18.27\"/>\n<text text-anchor=\"middle\" x=\"796.31\" y=\"-491.38\" font-family=\"monospace\" font-size=\"8.00\">Iasi</text>\n<text text-anchor=\"middle\" x=\"796.31\" y=\"-482.38\" font-family=\"monospace\" font-size=\"8.00\">h=226</text>\n</g>\n<!-- 11 -->\n<g id=\"node12\" class=\"node\">\n<title>11</title>\n<ellipse fill=\"none\" stroke=\"black\" cx=\"659.51\" cy=\"-548.78\" rx=\"27.65\" ry=\"18.27\"/>\n<text text-anchor=\"middle\" x=\"659.51\" y=\"-551.38\" font-family=\"monospace\" font-size=\"8.00\">Neamt</text>\n<text text-anchor=\"middle\" x=\"659.51\" y=\"-542.38\" font-family=\"monospace\" font-size=\"8.00\">h=234</text>\n</g>\n<!-- 8&#45;&#45;11 -->\n<g id=\"edge15\" class=\"edge\">\n<title>8&#45;&#45;11</title>\n<path fill=\"none\" stroke=\"black\" d=\"M773.1,-498.96C747.94,-510 708.03,-527.5 682.83,-538.56\"/>\n<text text-anchor=\"middle\" x=\"722.96\" y=\"-521.36\" font-family=\"monospace\" font-size=\"8.00\">87</text>\n</g>\n<!-- 18 -->\n<g id=\"node19\" class=\"node\">\n<title>18</title>\n<ellipse fill=\"none\" stroke=\"black\" cx=\"865.91\" cy=\"-366.38\" rx=\"31.23\" ry=\"18.27\"/>\n<text text-anchor=\"middle\" x=\"865.91\" y=\"-368.98\" font-family=\"monospace\" font-size=\"8.00\">Vaslui</text>\n<text text-anchor=\"middle\" x=\"865.91\" y=\"-359.98\" font-family=\"monospace\" font-size=\"8.00\">h=199</text>\n</g>\n<!-- 8&#45;&#45;18 -->\n<g id=\"edge16\" class=\"edge\">\n<title>8&#45;&#45;18</title>\n<path fill=\"none\" stroke=\"black\" d=\"M806.13,-471.51C819.32,-448.31 842.63,-407.32 855.91,-383.97\"/>\n<text text-anchor=\"middle\" x=\"826.02\" y=\"-430.34\" font-family=\"monospace\" font-size=\"8.00\">92</text>\n</g>\n<!-- 9 -->\n<g id=\"node10\" class=\"node\">\n<title>9</title>\n<ellipse fill=\"none\" stroke=\"black\" cx=\"181.91\" cy=\"-234.38\" rx=\"27.65\" ry=\"18.27\"/>\n<text text-anchor=\"middle\" x=\"181.91\" y=\"-236.98\" font-family=\"monospace\" font-size=\"8.00\">Lugoj</text>\n<text text-anchor=\"middle\" x=\"181.91\" y=\"-227.98\" font-family=\"monospace\" font-size=\"8.00\">h=244</text>\n</g>\n<!-- 9&#45;&#45;10 -->\n<g id=\"edge17\" class=\"edge\">\n<title>9&#45;&#45;10</title>\n<path fill=\"none\" stroke=\"black\" d=\"M183.04,-215.62C183.81,-202.99 184.81,-186.42 185.58,-173.82\"/>\n<text text-anchor=\"middle\" x=\"179.31\" y=\"-197.32\" font-family=\"monospace\" font-size=\"8.00\">70</text>\n</g>\n<!-- 9&#45;&#45;16 -->\n<g id=\"edge18\" class=\"edge\">\n<title>9&#45;&#45;16</title>\n<path fill=\"none\" stroke=\"black\" d=\"M158.84,-244.55C134.47,-255.29 95.97,-272.25 69.5,-283.92\"/>\n<text text-anchor=\"middle\" x=\"107.17\" y=\"-266.83\" font-family=\"monospace\" font-size=\"8.00\">111</text>\n</g>\n<!-- 12 -->\n<g id=\"node13\" class=\"node\">\n<title>12</title>\n<ellipse fill=\"none\" stroke=\"black\" cx=\"112.31\" cy=\"-618.38\" rx=\"31.23\" ry=\"18.27\"/>\n<text text-anchor=\"middle\" x=\"112.31\" y=\"-620.98\" font-family=\"monospace\" font-size=\"8.00\">Oradea</text>\n<text text-anchor=\"middle\" x=\"112.31\" y=\"-611.98\" font-family=\"monospace\" font-size=\"8.00\">h=380</text>\n</g>\n<!-- 12&#45;&#45;15 -->\n<g id=\"edge20\" class=\"edge\">\n<title>12&#45;&#45;15</title>\n<path fill=\"none\" stroke=\"black\" d=\"M124.1,-601.06C152.83,-558.86 226.15,-451.17 254.49,-409.56\"/>\n<text text-anchor=\"middle\" x=\"182.29\" y=\"-507.91\" font-family=\"monospace\" font-size=\"8.00\">151</text>\n</g>\n<!-- 12&#45;&#45;19 -->\n<g id=\"edge19\" class=\"edge\">\n<title>12&#45;&#45;19</title>\n<path fill=\"none\" stroke=\"black\" d=\"M102.72,-600.81C95.56,-587.68 85.82,-569.83 78.67,-556.71\"/>\n<text text-anchor=\"middle\" x=\"85.69\" y=\"-581.36\" font-family=\"monospace\" font-size=\"8.00\">71</text>\n</g>\n<!-- 13&#45;&#45;14 -->\n<g id=\"edge21\" class=\"edge\">\n<title>13&#45;&#45;14</title>\n<path fill=\"none\" stroke=\"black\" d=\"M466.4,-222.76C435.08,-238.21 381.53,-264.62 347.58,-281.36\"/>\n<text text-anchor=\"middle\" x=\"401.99\" y=\"-254.66\" font-family=\"monospace\" font-size=\"8.00\">97</text>\n</g>\n<!-- 14&#45;&#45;15 -->\n<g id=\"edge22\" class=\"edge\">\n<title>14&#45;&#45;15</title>\n<path fill=\"none\" stroke=\"black\" d=\"M306.59,-315.29C297.49,-332.62 284,-358.32 275.08,-375.3\"/>\n<text text-anchor=\"middle\" x=\"285.84\" y=\"-347.9\" font-family=\"monospace\" font-size=\"8.00\">80</text>\n</g>\n<!-- 17&#45;&#45;18 -->\n<g id=\"edge23\" class=\"edge\">\n<title>17&#45;&#45;18</title>\n<path fill=\"none\" stroke=\"black\" d=\"M772.41,-194.62C792.13,-230.85 836.66,-312.66 856.3,-348.73\"/>\n<text text-anchor=\"middle\" x=\"807.36\" y=\"-274.28\" font-family=\"monospace\" font-size=\"8.00\">142</text>\n</g>\n</g>\n</svg>\n",
            "text/plain": [
              "<graphviz.graphs.Graph at 0x7f4b44da7d00>"
            ]
          },
          "metadata": {},
          "execution_count": 70
        }
      ]
    },
    {
      "cell_type": "code",
      "source": [
        "import heapq\n",
        "import math\n",
        "#import pdb\n",
        "\n",
        "def a_star(G, s, t, h):\n",
        "    n = len(G)\n",
        "    visited = [False]*n\n",
        "    path = [-1]*n\n",
        "    g = [math.inf]*n\n",
        "    q = []\n",
        "    g[s] = 0\n",
        "    heapq.heappush(q, (h[s], s))\n",
        "    #pdb.set_trace()\n",
        "    while q:\n",
        "        _, u = heapq.heappop(q)\n",
        "        if u == t:\n",
        "            break\n",
        "        if not visited[u]:\n",
        "            visited[u] = True\n",
        "            for v, w in G[u]:\n",
        "                if visited[v]: continue\n",
        "                if g[u] + w < g[v]:\n",
        "                    g[v] = g[u] + w\n",
        "                    path[v] = u\n",
        "                    f = g[v] + h[v]\n",
        "                    heapq.heappush(q, (f, v))\n",
        "    return path\n",
        "    "
      ],
      "metadata": {
        "id": "fh-jbdeTVZP-"
      },
      "execution_count": 82,
      "outputs": []
    },
    {
      "cell_type": "code",
      "source": [
        "path = a_star(G, n2i[\"Craiova\"], n2i[\"Bucharest\"], h)\n",
        "print(path)\n",
        "drawG_al(G, path=path, h=h)"
      ],
      "metadata": {
        "colab": {
          "base_uri": "https://localhost:8080/",
          "height": 899
        },
        "id": "ScKODh4KZfLi",
        "outputId": "7be62084-1d79-463e-96eb-641882fa29ab"
      },
      "execution_count": 83,
      "outputs": [
        {
          "output_type": "stream",
          "name": "stdout",
          "text": [
            "[-1, 13, -1, 2, -1, -1, -1, -1, -1, -1, -1, -1, -1, 2, 2, -1, -1, -1, -1, -1]\n"
          ]
        },
        {
          "output_type": "execute_result",
          "data": {
            "image/svg+xml": "<?xml version=\"1.0\" encoding=\"UTF-8\" standalone=\"no\"?>\n<!DOCTYPE svg PUBLIC \"-//W3C//DTD SVG 1.1//EN\"\n \"http://www.w3.org/Graphics/SVG/1.1/DTD/svg11.dtd\">\n<!-- Generated by graphviz version 2.43.0 (0)\n -->\n<!-- Title: romania Pages: 1 -->\n<svg width=\"1011pt\" height=\"645pt\"\n viewBox=\"0.00 0.00 1010.62 644.77\" xmlns=\"http://www.w3.org/2000/svg\" xmlns:xlink=\"http://www.w3.org/1999/xlink\">\n<g id=\"graph0\" class=\"graph\" transform=\"scale(1 1) rotate(0) translate(4 640.77)\">\n<title>romania</title>\n<polygon fill=\"white\" stroke=\"transparent\" points=\"-4,4 -4,-640.77 1006.62,-640.77 1006.62,4 -4,4\"/>\n<!-- 0 -->\n<g id=\"node1\" class=\"node\">\n<title>0</title>\n<ellipse fill=\"none\" stroke=\"black\" cx=\"33.11\" cy=\"-459.98\" rx=\"27.65\" ry=\"18.27\"/>\n<text text-anchor=\"middle\" x=\"33.11\" y=\"-462.58\" font-family=\"monospace\" font-size=\"8.00\">Arad</text>\n<text text-anchor=\"middle\" x=\"33.11\" y=\"-453.58\" font-family=\"monospace\" font-size=\"8.00\">h=366</text>\n</g>\n<!-- 15 -->\n<g id=\"node16\" class=\"node\">\n<title>15</title>\n<ellipse fill=\"none\" stroke=\"black\" cx=\"265.91\" cy=\"-392.78\" rx=\"27.65\" ry=\"18.27\"/>\n<text text-anchor=\"middle\" x=\"265.91\" y=\"-395.38\" font-family=\"monospace\" font-size=\"8.00\">Sibiu</text>\n<text text-anchor=\"middle\" x=\"265.91\" y=\"-386.38\" font-family=\"monospace\" font-size=\"8.00\">h=253</text>\n</g>\n<!-- 0&#45;&#45;15 -->\n<g id=\"edge5\" class=\"edge\">\n<title>0&#45;&#45;15</title>\n<path fill=\"none\" stroke=\"black\" d=\"M58.46,-452.67C103.24,-439.74 195.82,-413.02 240.58,-400.1\"/>\n<text text-anchor=\"middle\" x=\"142.52\" y=\"-428.98\" font-family=\"monospace\" font-size=\"8.00\">140</text>\n</g>\n<!-- 16 -->\n<g id=\"node17\" class=\"node\">\n<title>16</title>\n<ellipse fill=\"none\" stroke=\"black\" cx=\"40.31\" cy=\"-296.78\" rx=\"40.11\" ry=\"18.27\"/>\n<text text-anchor=\"middle\" x=\"40.31\" y=\"-299.38\" font-family=\"monospace\" font-size=\"8.00\">Timisoara</text>\n<text text-anchor=\"middle\" x=\"40.31\" y=\"-290.38\" font-family=\"monospace\" font-size=\"8.00\">h=329</text>\n</g>\n<!-- 0&#45;&#45;16 -->\n<g id=\"edge6\" class=\"edge\">\n<title>0&#45;&#45;16</title>\n<path fill=\"none\" stroke=\"black\" d=\"M33.92,-441.58C35.3,-410.24 38.1,-346.84 39.49,-315.37\"/>\n<text text-anchor=\"middle\" x=\"29.7\" y=\"-381.08\" font-family=\"monospace\" font-size=\"8.00\">118</text>\n</g>\n<!-- 19 -->\n<g id=\"node20\" class=\"node\">\n<title>19</title>\n<ellipse fill=\"none\" stroke=\"black\" cx=\"69.11\" cy=\"-539.18\" rx=\"31.23\" ry=\"18.27\"/>\n<text text-anchor=\"middle\" x=\"69.11\" y=\"-541.78\" font-family=\"monospace\" font-size=\"8.00\">Zerind</text>\n<text text-anchor=\"middle\" x=\"69.11\" y=\"-532.78\" font-family=\"monospace\" font-size=\"8.00\">h=374</text>\n</g>\n<!-- 0&#45;&#45;19 -->\n<g id=\"edge7\" class=\"edge\">\n<title>0&#45;&#45;19</title>\n<path fill=\"none\" stroke=\"black\" d=\"M41.27,-477.96C47.17,-490.92 55.08,-508.34 60.97,-521.28\"/>\n<text text-anchor=\"middle\" x=\"46.12\" y=\"-502.22\" font-family=\"monospace\" font-size=\"8.00\">75</text>\n</g>\n<!-- 1 -->\n<g id=\"node2\" class=\"node\">\n<title>1</title>\n<ellipse fill=\"none\" stroke=\"black\" cx=\"606.71\" cy=\"-131.18\" rx=\"40.11\" ry=\"18.27\"/>\n<text text-anchor=\"middle\" x=\"606.71\" y=\"-133.78\" font-family=\"monospace\" font-size=\"8.00\">Bucharest</text>\n<text text-anchor=\"middle\" x=\"606.71\" y=\"-124.78\" font-family=\"monospace\" font-size=\"8.00\">h=0</text>\n</g>\n<!-- 5 -->\n<g id=\"node6\" class=\"node\">\n<title>5</title>\n<ellipse fill=\"none\" stroke=\"black\" cx=\"462.71\" cy=\"-375.98\" rx=\"33.88\" ry=\"18.27\"/>\n<text text-anchor=\"middle\" x=\"462.71\" y=\"-378.58\" font-family=\"monospace\" font-size=\"8.00\">Fagaras</text>\n<text text-anchor=\"middle\" x=\"462.71\" y=\"-369.58\" font-family=\"monospace\" font-size=\"8.00\">h=178</text>\n</g>\n<!-- 1&#45;&#45;5 -->\n<g id=\"edge8\" class=\"edge\">\n<title>1&#45;&#45;5</title>\n<path fill=\"none\" stroke=\"black\" d=\"M596.12,-149.19C569.42,-194.57 499.62,-313.24 473.12,-358.29\"/>\n<text text-anchor=\"middle\" x=\"527.62\" y=\"-256.34\" font-family=\"monospace\" font-size=\"8.00\">211</text>\n</g>\n<!-- 6 -->\n<g id=\"node7\" class=\"node\">\n<title>6</title>\n<ellipse fill=\"none\" stroke=\"black\" cx=\"597.11\" cy=\"-18.38\" rx=\"33.88\" ry=\"18.27\"/>\n<text text-anchor=\"middle\" x=\"597.11\" y=\"-20.98\" font-family=\"monospace\" font-size=\"8.00\">Giurgiu</text>\n<text text-anchor=\"middle\" x=\"597.11\" y=\"-11.98\" font-family=\"monospace\" font-size=\"8.00\">h=77</text>\n</g>\n<!-- 1&#45;&#45;6 -->\n<g id=\"edge9\" class=\"edge\">\n<title>1&#45;&#45;6</title>\n<path fill=\"none\" stroke=\"black\" d=\"M605.14,-112.81C603.36,-91.83 600.45,-57.72 598.67,-36.75\"/>\n<text text-anchor=\"middle\" x=\"596.9\" y=\"-77.38\" font-family=\"monospace\" font-size=\"8.00\">90</text>\n</g>\n<!-- 17 -->\n<g id=\"node18\" class=\"node\">\n<title>17</title>\n<ellipse fill=\"none\" stroke=\"black\" cx=\"762.71\" cy=\"-176.78\" rx=\"37.45\" ry=\"18.27\"/>\n<text text-anchor=\"middle\" x=\"762.71\" y=\"-179.38\" font-family=\"monospace\" font-size=\"8.00\">Urziceni</text>\n<text text-anchor=\"middle\" x=\"762.71\" y=\"-170.38\" font-family=\"monospace\" font-size=\"8.00\">h=80</text>\n</g>\n<!-- 1&#45;&#45;17 -->\n<g id=\"edge10\" class=\"edge\">\n<title>1&#45;&#45;17</title>\n<path fill=\"none\" stroke=\"black\" d=\"M640.94,-141.19C667.58,-148.98 704.28,-159.71 730.42,-167.35\"/>\n<text text-anchor=\"middle\" x=\"680.68\" y=\"-156.87\" font-family=\"monospace\" font-size=\"8.00\">85</text>\n</g>\n<!-- 2 -->\n<g id=\"node3\" class=\"node\">\n<title>2</title>\n<ellipse fill=\"none\" stroke=\"black\" cx=\"354.71\" cy=\"-51.98\" rx=\"33.88\" ry=\"18.27\"/>\n<text text-anchor=\"middle\" x=\"354.71\" y=\"-54.58\" font-family=\"monospace\" font-size=\"8.00\">Craiova</text>\n<text text-anchor=\"middle\" x=\"354.71\" y=\"-45.58\" font-family=\"monospace\" font-size=\"8.00\">h=160</text>\n</g>\n<!-- 3 -->\n<g id=\"node4\" class=\"node\">\n<title>3</title>\n<ellipse fill=\"none\" stroke=\"black\" cx=\"181.91\" cy=\"-75.98\" rx=\"33.88\" ry=\"18.27\"/>\n<text text-anchor=\"middle\" x=\"181.91\" y=\"-78.58\" font-family=\"monospace\" font-size=\"8.00\">Dobreta</text>\n<text text-anchor=\"middle\" x=\"181.91\" y=\"-69.58\" font-family=\"monospace\" font-size=\"8.00\">h=242</text>\n</g>\n<!-- 2&#45;&#45;3 -->\n<g id=\"edge2\" class=\"edge\">\n<title>2&#45;&#45;3</title>\n<path fill=\"none\" stroke=\"orange\" stroke-width=\"2\" d=\"M321.8,-56.56C294.38,-60.36 255.11,-65.82 225.16,-69.98\"/>\n<polygon fill=\"orange\" stroke=\"orange\" stroke-width=\"2\" points=\"224.41,-66.55 214.99,-71.39 225.37,-73.48 224.41,-66.55\"/>\n<text text-anchor=\"middle\" x=\"266.48\" y=\"-65.87\" font-family=\"monospace\" font-size=\"8.00\">120</text>\n</g>\n<!-- 13 -->\n<g id=\"node14\" class=\"node\">\n<title>13</title>\n<ellipse fill=\"none\" stroke=\"black\" cx=\"491.51\" cy=\"-210.38\" rx=\"33.88\" ry=\"18.27\"/>\n<text text-anchor=\"middle\" x=\"491.51\" y=\"-212.98\" font-family=\"monospace\" font-size=\"8.00\">Pitesti</text>\n<text text-anchor=\"middle\" x=\"491.51\" y=\"-203.98\" font-family=\"monospace\" font-size=\"8.00\">h=98</text>\n</g>\n<!-- 2&#45;&#45;13 -->\n<g id=\"edge3\" class=\"edge\">\n<title>2&#45;&#45;13</title>\n<path fill=\"none\" stroke=\"orange\" stroke-width=\"2\" d=\"M369.35,-68.94C393.62,-97.04 442.29,-153.4 470.32,-185.85\"/>\n<polygon fill=\"orange\" stroke=\"orange\" stroke-width=\"2\" points=\"467.79,-188.27 476.97,-193.56 473.08,-183.7 467.79,-188.27\"/>\n<text text-anchor=\"middle\" x=\"412.83\" y=\"-129.99\" font-family=\"monospace\" font-size=\"8.00\">138</text>\n</g>\n<!-- 14 -->\n<g id=\"node15\" class=\"node\">\n<title>14</title>\n<ellipse fill=\"none\" stroke=\"black\" cx=\"316.31\" cy=\"-296.78\" rx=\"56.64\" ry=\"18.27\"/>\n<text text-anchor=\"middle\" x=\"316.31\" y=\"-299.38\" font-family=\"monospace\" font-size=\"8.00\">Rimnicu_Vilcea</text>\n<text text-anchor=\"middle\" x=\"316.31\" y=\"-290.38\" font-family=\"monospace\" font-size=\"8.00\">h=193</text>\n</g>\n<!-- 2&#45;&#45;14 -->\n<g id=\"edge4\" class=\"edge\">\n<title>2&#45;&#45;14</title>\n<path fill=\"none\" stroke=\"orange\" stroke-width=\"2\" d=\"M351.82,-70.38C345.18,-112.74 328.76,-217.38 320.79,-268.19\"/>\n<polygon fill=\"orange\" stroke=\"orange\" stroke-width=\"2\" points=\"317.32,-267.75 319.22,-278.17 324.23,-268.83 317.32,-267.75\"/>\n<text text-anchor=\"middle\" x=\"329.3\" y=\"-171.89\" font-family=\"monospace\" font-size=\"8.00\">146</text>\n</g>\n<!-- 10 -->\n<g id=\"node11\" class=\"node\">\n<title>10</title>\n<ellipse fill=\"none\" stroke=\"black\" cx=\"186.71\" cy=\"-155.18\" rx=\"33.88\" ry=\"18.27\"/>\n<text text-anchor=\"middle\" x=\"186.71\" y=\"-157.78\" font-family=\"monospace\" font-size=\"8.00\">Mehadia</text>\n<text text-anchor=\"middle\" x=\"186.71\" y=\"-148.78\" font-family=\"monospace\" font-size=\"8.00\">h=241</text>\n</g>\n<!-- 3&#45;&#45;10 -->\n<g id=\"edge11\" class=\"edge\">\n<title>3&#45;&#45;10</title>\n<path fill=\"none\" stroke=\"black\" d=\"M183.04,-94.75C183.81,-107.38 184.81,-123.95 185.58,-136.55\"/>\n<text text-anchor=\"middle\" x=\"179.31\" y=\"-118.25\" font-family=\"monospace\" font-size=\"8.00\">75</text>\n</g>\n<!-- 4 -->\n<g id=\"node5\" class=\"node\">\n<title>4</title>\n<ellipse fill=\"none\" stroke=\"black\" cx=\"971.51\" cy=\"-66.38\" rx=\"31.23\" ry=\"18.27\"/>\n<text text-anchor=\"middle\" x=\"971.51\" y=\"-68.98\" font-family=\"monospace\" font-size=\"8.00\">Eforie</text>\n<text text-anchor=\"middle\" x=\"971.51\" y=\"-59.98\" font-family=\"monospace\" font-size=\"8.00\">h=161</text>\n</g>\n<!-- 7 -->\n<g id=\"node8\" class=\"node\">\n<title>7</title>\n<ellipse fill=\"none\" stroke=\"black\" cx=\"913.91\" cy=\"-176.78\" rx=\"33.88\" ry=\"18.27\"/>\n<text text-anchor=\"middle\" x=\"913.91\" y=\"-179.38\" font-family=\"monospace\" font-size=\"8.00\">Hirsova</text>\n<text text-anchor=\"middle\" x=\"913.91\" y=\"-170.38\" font-family=\"monospace\" font-size=\"8.00\">h=151</text>\n</g>\n<!-- 4&#45;&#45;7 -->\n<g id=\"edge12\" class=\"edge\">\n<title>4&#45;&#45;7</title>\n<path fill=\"none\" stroke=\"black\" d=\"M962.25,-84.12C951.5,-104.72 933.88,-138.51 923.14,-159.09\"/>\n<text text-anchor=\"middle\" x=\"937.69\" y=\"-124.21\" font-family=\"monospace\" font-size=\"8.00\">86</text>\n</g>\n<!-- 5&#45;&#45;15 -->\n<g id=\"edge13\" class=\"edge\">\n<title>5&#45;&#45;15</title>\n<path fill=\"none\" stroke=\"black\" d=\"M428.87,-378.87C390.52,-382.15 328.73,-387.42 293.28,-390.45\"/>\n<text text-anchor=\"middle\" x=\"356.08\" y=\"-387.26\" font-family=\"monospace\" font-size=\"8.00\">99</text>\n</g>\n<!-- 7&#45;&#45;17 -->\n<g id=\"edge14\" class=\"edge\">\n<title>7&#45;&#45;17</title>\n<path fill=\"none\" stroke=\"black\" d=\"M879.6,-176.78C855.98,-176.78 824.62,-176.78 800.32,-176.78\"/>\n<text text-anchor=\"middle\" x=\"834.96\" y=\"-179.38\" font-family=\"monospace\" font-size=\"8.00\">98</text>\n</g>\n<!-- 8 -->\n<g id=\"node9\" class=\"node\">\n<title>8</title>\n<ellipse fill=\"none\" stroke=\"black\" cx=\"796.31\" cy=\"-488.78\" rx=\"27.65\" ry=\"18.27\"/>\n<text text-anchor=\"middle\" x=\"796.31\" y=\"-491.38\" font-family=\"monospace\" font-size=\"8.00\">Iasi</text>\n<text text-anchor=\"middle\" x=\"796.31\" y=\"-482.38\" font-family=\"monospace\" font-size=\"8.00\">h=226</text>\n</g>\n<!-- 11 -->\n<g id=\"node12\" class=\"node\">\n<title>11</title>\n<ellipse fill=\"none\" stroke=\"black\" cx=\"659.51\" cy=\"-548.78\" rx=\"27.65\" ry=\"18.27\"/>\n<text text-anchor=\"middle\" x=\"659.51\" y=\"-551.38\" font-family=\"monospace\" font-size=\"8.00\">Neamt</text>\n<text text-anchor=\"middle\" x=\"659.51\" y=\"-542.38\" font-family=\"monospace\" font-size=\"8.00\">h=234</text>\n</g>\n<!-- 8&#45;&#45;11 -->\n<g id=\"edge15\" class=\"edge\">\n<title>8&#45;&#45;11</title>\n<path fill=\"none\" stroke=\"black\" d=\"M773.1,-498.96C747.94,-510 708.03,-527.5 682.83,-538.56\"/>\n<text text-anchor=\"middle\" x=\"722.96\" y=\"-521.36\" font-family=\"monospace\" font-size=\"8.00\">87</text>\n</g>\n<!-- 18 -->\n<g id=\"node19\" class=\"node\">\n<title>18</title>\n<ellipse fill=\"none\" stroke=\"black\" cx=\"865.91\" cy=\"-366.38\" rx=\"31.23\" ry=\"18.27\"/>\n<text text-anchor=\"middle\" x=\"865.91\" y=\"-368.98\" font-family=\"monospace\" font-size=\"8.00\">Vaslui</text>\n<text text-anchor=\"middle\" x=\"865.91\" y=\"-359.98\" font-family=\"monospace\" font-size=\"8.00\">h=199</text>\n</g>\n<!-- 8&#45;&#45;18 -->\n<g id=\"edge16\" class=\"edge\">\n<title>8&#45;&#45;18</title>\n<path fill=\"none\" stroke=\"black\" d=\"M806.13,-471.51C819.32,-448.31 842.63,-407.32 855.91,-383.97\"/>\n<text text-anchor=\"middle\" x=\"826.02\" y=\"-430.34\" font-family=\"monospace\" font-size=\"8.00\">92</text>\n</g>\n<!-- 9 -->\n<g id=\"node10\" class=\"node\">\n<title>9</title>\n<ellipse fill=\"none\" stroke=\"black\" cx=\"181.91\" cy=\"-234.38\" rx=\"27.65\" ry=\"18.27\"/>\n<text text-anchor=\"middle\" x=\"181.91\" y=\"-236.98\" font-family=\"monospace\" font-size=\"8.00\">Lugoj</text>\n<text text-anchor=\"middle\" x=\"181.91\" y=\"-227.98\" font-family=\"monospace\" font-size=\"8.00\">h=244</text>\n</g>\n<!-- 9&#45;&#45;10 -->\n<g id=\"edge17\" class=\"edge\">\n<title>9&#45;&#45;10</title>\n<path fill=\"none\" stroke=\"black\" d=\"M183.04,-215.62C183.81,-202.99 184.81,-186.42 185.58,-173.82\"/>\n<text text-anchor=\"middle\" x=\"179.31\" y=\"-197.32\" font-family=\"monospace\" font-size=\"8.00\">70</text>\n</g>\n<!-- 9&#45;&#45;16 -->\n<g id=\"edge18\" class=\"edge\">\n<title>9&#45;&#45;16</title>\n<path fill=\"none\" stroke=\"black\" d=\"M158.84,-244.55C134.47,-255.29 95.97,-272.25 69.5,-283.92\"/>\n<text text-anchor=\"middle\" x=\"107.17\" y=\"-266.83\" font-family=\"monospace\" font-size=\"8.00\">111</text>\n</g>\n<!-- 12 -->\n<g id=\"node13\" class=\"node\">\n<title>12</title>\n<ellipse fill=\"none\" stroke=\"black\" cx=\"112.31\" cy=\"-618.38\" rx=\"31.23\" ry=\"18.27\"/>\n<text text-anchor=\"middle\" x=\"112.31\" y=\"-620.98\" font-family=\"monospace\" font-size=\"8.00\">Oradea</text>\n<text text-anchor=\"middle\" x=\"112.31\" y=\"-611.98\" font-family=\"monospace\" font-size=\"8.00\">h=380</text>\n</g>\n<!-- 12&#45;&#45;15 -->\n<g id=\"edge20\" class=\"edge\">\n<title>12&#45;&#45;15</title>\n<path fill=\"none\" stroke=\"black\" d=\"M124.1,-601.06C152.83,-558.86 226.15,-451.17 254.49,-409.56\"/>\n<text text-anchor=\"middle\" x=\"182.29\" y=\"-507.91\" font-family=\"monospace\" font-size=\"8.00\">151</text>\n</g>\n<!-- 12&#45;&#45;19 -->\n<g id=\"edge19\" class=\"edge\">\n<title>12&#45;&#45;19</title>\n<path fill=\"none\" stroke=\"black\" d=\"M102.72,-600.81C95.56,-587.68 85.82,-569.83 78.67,-556.71\"/>\n<text text-anchor=\"middle\" x=\"85.69\" y=\"-581.36\" font-family=\"monospace\" font-size=\"8.00\">71</text>\n</g>\n<!-- 13&#45;&#45;1 -->\n<g id=\"edge1\" class=\"edge\">\n<title>13&#45;&#45;1</title>\n<path fill=\"none\" stroke=\"orange\" stroke-width=\"2\" d=\"M512.63,-195.86C530.29,-183.72 555.71,-166.25 575.67,-152.52\"/>\n<polygon fill=\"orange\" stroke=\"orange\" stroke-width=\"2\" points=\"577.88,-155.25 584.13,-146.7 573.91,-149.48 577.88,-155.25\"/>\n<text text-anchor=\"middle\" x=\"537.15\" y=\"-176.79\" font-family=\"monospace\" font-size=\"8.00\">101</text>\n</g>\n<!-- 13&#45;&#45;14 -->\n<g id=\"edge21\" class=\"edge\">\n<title>13&#45;&#45;14</title>\n<path fill=\"none\" stroke=\"black\" d=\"M466.4,-222.76C435.08,-238.21 381.53,-264.62 347.58,-281.36\"/>\n<text text-anchor=\"middle\" x=\"401.99\" y=\"-254.66\" font-family=\"monospace\" font-size=\"8.00\">97</text>\n</g>\n<!-- 14&#45;&#45;15 -->\n<g id=\"edge22\" class=\"edge\">\n<title>14&#45;&#45;15</title>\n<path fill=\"none\" stroke=\"black\" d=\"M306.59,-315.29C297.49,-332.62 284,-358.32 275.08,-375.3\"/>\n<text text-anchor=\"middle\" x=\"285.84\" y=\"-347.9\" font-family=\"monospace\" font-size=\"8.00\">80</text>\n</g>\n<!-- 17&#45;&#45;18 -->\n<g id=\"edge23\" class=\"edge\">\n<title>17&#45;&#45;18</title>\n<path fill=\"none\" stroke=\"black\" d=\"M772.41,-194.62C792.13,-230.85 836.66,-312.66 856.3,-348.73\"/>\n<text text-anchor=\"middle\" x=\"807.36\" y=\"-274.28\" font-family=\"monospace\" font-size=\"8.00\">142</text>\n</g>\n</g>\n</svg>\n",
            "text/plain": [
              "<graphviz.graphs.Graph at 0x7f4b4157cf10>"
            ]
          },
          "metadata": {},
          "execution_count": 83
        }
      ]
    },
    {
      "cell_type": "code",
      "source": [
        "import heapq\n",
        "import math\n",
        "\n",
        "def dijkstra(G, s, t):\n",
        "    n = len(G)\n",
        "    visited = [False]*n\n",
        "    path = [-1]*n\n",
        "    g = [math.inf]*n\n",
        "    q = []\n",
        "    g[s] = 0\n",
        "    heapq.heappush(q, (0, s))\n",
        "    #pdb.set_trace()\n",
        "    while q:\n",
        "        _, u = heapq.heappop(q)\n",
        "        if u == t:\n",
        "            break\n",
        "        if not visited[u]:\n",
        "            visited[u] = True\n",
        "            for v, w in G[u]:\n",
        "                if visited[v]: continue\n",
        "                if g[u] + w < g[v]:\n",
        "                    g[v] = g[u] + w\n",
        "                    path[v] = u\n",
        "                    heapq.heappush(q, (g[v], v))\n",
        "    return path, g\n",
        "    "
      ],
      "metadata": {
        "id": "G2j95sujZjXm"
      },
      "execution_count": 84,
      "outputs": []
    },
    {
      "cell_type": "code",
      "source": [
        "path, g = dijkstra(G, n2i[\"Craiova\"], n2i[\"Bucharest\"])\n",
        "print(path)\n",
        "drawG_al(G, path=path, h=g)"
      ],
      "metadata": {
        "colab": {
          "base_uri": "https://localhost:8080/",
          "height": 899
        },
        "id": "NOl2qwcJcqqK",
        "outputId": "48a94a06-25d2-4e59-ca64-7647597cce2a"
      },
      "execution_count": 85,
      "outputs": [
        {
          "output_type": "stream",
          "name": "stdout",
          "text": [
            "[15, 13, -1, 2, -1, 15, -1, -1, -1, 10, 3, -1, 15, 2, 2, 14, -1, -1, -1, -1]\n"
          ]
        },
        {
          "output_type": "execute_result",
          "data": {
            "image/svg+xml": "<?xml version=\"1.0\" encoding=\"UTF-8\" standalone=\"no\"?>\n<!DOCTYPE svg PUBLIC \"-//W3C//DTD SVG 1.1//EN\"\n \"http://www.w3.org/Graphics/SVG/1.1/DTD/svg11.dtd\">\n<!-- Generated by graphviz version 2.43.0 (0)\n -->\n<!-- Title: romania Pages: 1 -->\n<svg width=\"1011pt\" height=\"645pt\"\n viewBox=\"0.00 0.00 1010.62 644.77\" xmlns=\"http://www.w3.org/2000/svg\" xmlns:xlink=\"http://www.w3.org/1999/xlink\">\n<g id=\"graph0\" class=\"graph\" transform=\"scale(1 1) rotate(0) translate(4 640.77)\">\n<title>romania</title>\n<polygon fill=\"white\" stroke=\"transparent\" points=\"-4,4 -4,-640.77 1006.62,-640.77 1006.62,4 -4,4\"/>\n<!-- 0 -->\n<g id=\"node1\" class=\"node\">\n<title>0</title>\n<ellipse fill=\"none\" stroke=\"black\" cx=\"33.11\" cy=\"-459.98\" rx=\"27.65\" ry=\"18.27\"/>\n<text text-anchor=\"middle\" x=\"33.11\" y=\"-462.58\" font-family=\"monospace\" font-size=\"8.00\">Arad</text>\n<text text-anchor=\"middle\" x=\"33.11\" y=\"-453.58\" font-family=\"monospace\" font-size=\"8.00\">h=366</text>\n</g>\n<!-- 16 -->\n<g id=\"node17\" class=\"node\">\n<title>16</title>\n<ellipse fill=\"none\" stroke=\"black\" cx=\"40.31\" cy=\"-296.78\" rx=\"40.11\" ry=\"18.27\"/>\n<text text-anchor=\"middle\" x=\"40.31\" y=\"-299.38\" font-family=\"monospace\" font-size=\"8.00\">Timisoara</text>\n<text text-anchor=\"middle\" x=\"40.31\" y=\"-290.38\" font-family=\"monospace\" font-size=\"8.00\">h=inf</text>\n</g>\n<!-- 0&#45;&#45;16 -->\n<g id=\"edge11\" class=\"edge\">\n<title>0&#45;&#45;16</title>\n<path fill=\"none\" stroke=\"black\" d=\"M33.92,-441.58C35.3,-410.24 38.1,-346.84 39.49,-315.37\"/>\n<text text-anchor=\"middle\" x=\"29.7\" y=\"-381.08\" font-family=\"monospace\" font-size=\"8.00\">118</text>\n</g>\n<!-- 19 -->\n<g id=\"node20\" class=\"node\">\n<title>19</title>\n<ellipse fill=\"none\" stroke=\"black\" cx=\"69.11\" cy=\"-539.18\" rx=\"31.23\" ry=\"18.27\"/>\n<text text-anchor=\"middle\" x=\"69.11\" y=\"-541.78\" font-family=\"monospace\" font-size=\"8.00\">Zerind</text>\n<text text-anchor=\"middle\" x=\"69.11\" y=\"-532.78\" font-family=\"monospace\" font-size=\"8.00\">h=inf</text>\n</g>\n<!-- 0&#45;&#45;19 -->\n<g id=\"edge12\" class=\"edge\">\n<title>0&#45;&#45;19</title>\n<path fill=\"none\" stroke=\"black\" d=\"M41.27,-477.96C47.17,-490.92 55.08,-508.34 60.97,-521.28\"/>\n<text text-anchor=\"middle\" x=\"46.12\" y=\"-502.22\" font-family=\"monospace\" font-size=\"8.00\">75</text>\n</g>\n<!-- 1 -->\n<g id=\"node2\" class=\"node\">\n<title>1</title>\n<ellipse fill=\"none\" stroke=\"black\" cx=\"606.71\" cy=\"-131.18\" rx=\"40.11\" ry=\"18.27\"/>\n<text text-anchor=\"middle\" x=\"606.71\" y=\"-133.78\" font-family=\"monospace\" font-size=\"8.00\">Bucharest</text>\n<text text-anchor=\"middle\" x=\"606.71\" y=\"-124.78\" font-family=\"monospace\" font-size=\"8.00\">h=239</text>\n</g>\n<!-- 5 -->\n<g id=\"node6\" class=\"node\">\n<title>5</title>\n<ellipse fill=\"none\" stroke=\"black\" cx=\"462.71\" cy=\"-375.98\" rx=\"33.88\" ry=\"18.27\"/>\n<text text-anchor=\"middle\" x=\"462.71\" y=\"-378.58\" font-family=\"monospace\" font-size=\"8.00\">Fagaras</text>\n<text text-anchor=\"middle\" x=\"462.71\" y=\"-369.58\" font-family=\"monospace\" font-size=\"8.00\">h=325</text>\n</g>\n<!-- 1&#45;&#45;5 -->\n<g id=\"edge13\" class=\"edge\">\n<title>1&#45;&#45;5</title>\n<path fill=\"none\" stroke=\"black\" d=\"M596.12,-149.19C569.42,-194.57 499.62,-313.24 473.12,-358.29\"/>\n<text text-anchor=\"middle\" x=\"527.62\" y=\"-256.34\" font-family=\"monospace\" font-size=\"8.00\">211</text>\n</g>\n<!-- 6 -->\n<g id=\"node7\" class=\"node\">\n<title>6</title>\n<ellipse fill=\"none\" stroke=\"black\" cx=\"597.11\" cy=\"-18.38\" rx=\"33.88\" ry=\"18.27\"/>\n<text text-anchor=\"middle\" x=\"597.11\" y=\"-20.98\" font-family=\"monospace\" font-size=\"8.00\">Giurgiu</text>\n<text text-anchor=\"middle\" x=\"597.11\" y=\"-11.98\" font-family=\"monospace\" font-size=\"8.00\">h=inf</text>\n</g>\n<!-- 1&#45;&#45;6 -->\n<g id=\"edge14\" class=\"edge\">\n<title>1&#45;&#45;6</title>\n<path fill=\"none\" stroke=\"black\" d=\"M605.14,-112.81C603.36,-91.83 600.45,-57.72 598.67,-36.75\"/>\n<text text-anchor=\"middle\" x=\"596.9\" y=\"-77.38\" font-family=\"monospace\" font-size=\"8.00\">90</text>\n</g>\n<!-- 17 -->\n<g id=\"node18\" class=\"node\">\n<title>17</title>\n<ellipse fill=\"none\" stroke=\"black\" cx=\"762.71\" cy=\"-176.78\" rx=\"37.45\" ry=\"18.27\"/>\n<text text-anchor=\"middle\" x=\"762.71\" y=\"-179.38\" font-family=\"monospace\" font-size=\"8.00\">Urziceni</text>\n<text text-anchor=\"middle\" x=\"762.71\" y=\"-170.38\" font-family=\"monospace\" font-size=\"8.00\">h=inf</text>\n</g>\n<!-- 1&#45;&#45;17 -->\n<g id=\"edge15\" class=\"edge\">\n<title>1&#45;&#45;17</title>\n<path fill=\"none\" stroke=\"black\" d=\"M640.94,-141.19C667.58,-148.98 704.28,-159.71 730.42,-167.35\"/>\n<text text-anchor=\"middle\" x=\"680.68\" y=\"-156.87\" font-family=\"monospace\" font-size=\"8.00\">85</text>\n</g>\n<!-- 2 -->\n<g id=\"node3\" class=\"node\">\n<title>2</title>\n<ellipse fill=\"none\" stroke=\"black\" cx=\"354.71\" cy=\"-51.98\" rx=\"33.88\" ry=\"18.27\"/>\n<text text-anchor=\"middle\" x=\"354.71\" y=\"-54.58\" font-family=\"monospace\" font-size=\"8.00\">Craiova</text>\n<text text-anchor=\"middle\" x=\"354.71\" y=\"-45.58\" font-family=\"monospace\" font-size=\"8.00\">h=0</text>\n</g>\n<!-- 3 -->\n<g id=\"node4\" class=\"node\">\n<title>3</title>\n<ellipse fill=\"none\" stroke=\"black\" cx=\"181.91\" cy=\"-75.98\" rx=\"33.88\" ry=\"18.27\"/>\n<text text-anchor=\"middle\" x=\"181.91\" y=\"-78.58\" font-family=\"monospace\" font-size=\"8.00\">Dobreta</text>\n<text text-anchor=\"middle\" x=\"181.91\" y=\"-69.58\" font-family=\"monospace\" font-size=\"8.00\">h=120</text>\n</g>\n<!-- 2&#45;&#45;3 -->\n<g id=\"edge3\" class=\"edge\">\n<title>2&#45;&#45;3</title>\n<path fill=\"none\" stroke=\"orange\" stroke-width=\"2\" d=\"M321.8,-56.56C294.38,-60.36 255.11,-65.82 225.16,-69.98\"/>\n<polygon fill=\"orange\" stroke=\"orange\" stroke-width=\"2\" points=\"224.41,-66.55 214.99,-71.39 225.37,-73.48 224.41,-66.55\"/>\n<text text-anchor=\"middle\" x=\"266.48\" y=\"-65.87\" font-family=\"monospace\" font-size=\"8.00\">120</text>\n</g>\n<!-- 13 -->\n<g id=\"node14\" class=\"node\">\n<title>13</title>\n<ellipse fill=\"none\" stroke=\"black\" cx=\"491.51\" cy=\"-210.38\" rx=\"33.88\" ry=\"18.27\"/>\n<text text-anchor=\"middle\" x=\"491.51\" y=\"-212.98\" font-family=\"monospace\" font-size=\"8.00\">Pitesti</text>\n<text text-anchor=\"middle\" x=\"491.51\" y=\"-203.98\" font-family=\"monospace\" font-size=\"8.00\">h=138</text>\n</g>\n<!-- 2&#45;&#45;13 -->\n<g id=\"edge8\" class=\"edge\">\n<title>2&#45;&#45;13</title>\n<path fill=\"none\" stroke=\"orange\" stroke-width=\"2\" d=\"M369.35,-68.94C393.62,-97.04 442.29,-153.4 470.32,-185.85\"/>\n<polygon fill=\"orange\" stroke=\"orange\" stroke-width=\"2\" points=\"467.79,-188.27 476.97,-193.56 473.08,-183.7 467.79,-188.27\"/>\n<text text-anchor=\"middle\" x=\"412.83\" y=\"-129.99\" font-family=\"monospace\" font-size=\"8.00\">138</text>\n</g>\n<!-- 14 -->\n<g id=\"node15\" class=\"node\">\n<title>14</title>\n<ellipse fill=\"none\" stroke=\"black\" cx=\"316.31\" cy=\"-296.78\" rx=\"56.64\" ry=\"18.27\"/>\n<text text-anchor=\"middle\" x=\"316.31\" y=\"-299.38\" font-family=\"monospace\" font-size=\"8.00\">Rimnicu_Vilcea</text>\n<text text-anchor=\"middle\" x=\"316.31\" y=\"-290.38\" font-family=\"monospace\" font-size=\"8.00\">h=146</text>\n</g>\n<!-- 2&#45;&#45;14 -->\n<g id=\"edge9\" class=\"edge\">\n<title>2&#45;&#45;14</title>\n<path fill=\"none\" stroke=\"orange\" stroke-width=\"2\" d=\"M351.82,-70.38C345.18,-112.74 328.76,-217.38 320.79,-268.19\"/>\n<polygon fill=\"orange\" stroke=\"orange\" stroke-width=\"2\" points=\"317.32,-267.75 319.22,-278.17 324.23,-268.83 317.32,-267.75\"/>\n<text text-anchor=\"middle\" x=\"329.3\" y=\"-171.89\" font-family=\"monospace\" font-size=\"8.00\">146</text>\n</g>\n<!-- 10 -->\n<g id=\"node11\" class=\"node\">\n<title>10</title>\n<ellipse fill=\"none\" stroke=\"black\" cx=\"186.71\" cy=\"-155.18\" rx=\"33.88\" ry=\"18.27\"/>\n<text text-anchor=\"middle\" x=\"186.71\" y=\"-157.78\" font-family=\"monospace\" font-size=\"8.00\">Mehadia</text>\n<text text-anchor=\"middle\" x=\"186.71\" y=\"-148.78\" font-family=\"monospace\" font-size=\"8.00\">h=195</text>\n</g>\n<!-- 3&#45;&#45;10 -->\n<g id=\"edge6\" class=\"edge\">\n<title>3&#45;&#45;10</title>\n<path fill=\"none\" stroke=\"orange\" stroke-width=\"2\" d=\"M183.04,-94.75C183.62,-104.22 184.32,-115.91 184.97,-126.48\"/>\n<polygon fill=\"orange\" stroke=\"orange\" stroke-width=\"2\" points=\"181.48,-126.78 185.58,-136.55 188.46,-126.36 181.48,-126.78\"/>\n<text text-anchor=\"middle\" x=\"179\" y=\"-113.22\" font-family=\"monospace\" font-size=\"8.00\">75</text>\n</g>\n<!-- 4 -->\n<g id=\"node5\" class=\"node\">\n<title>4</title>\n<ellipse fill=\"none\" stroke=\"black\" cx=\"971.51\" cy=\"-66.38\" rx=\"31.23\" ry=\"18.27\"/>\n<text text-anchor=\"middle\" x=\"971.51\" y=\"-68.98\" font-family=\"monospace\" font-size=\"8.00\">Eforie</text>\n<text text-anchor=\"middle\" x=\"971.51\" y=\"-59.98\" font-family=\"monospace\" font-size=\"8.00\">h=inf</text>\n</g>\n<!-- 7 -->\n<g id=\"node8\" class=\"node\">\n<title>7</title>\n<ellipse fill=\"none\" stroke=\"black\" cx=\"913.91\" cy=\"-176.78\" rx=\"33.88\" ry=\"18.27\"/>\n<text text-anchor=\"middle\" x=\"913.91\" y=\"-179.38\" font-family=\"monospace\" font-size=\"8.00\">Hirsova</text>\n<text text-anchor=\"middle\" x=\"913.91\" y=\"-170.38\" font-family=\"monospace\" font-size=\"8.00\">h=inf</text>\n</g>\n<!-- 4&#45;&#45;7 -->\n<g id=\"edge16\" class=\"edge\">\n<title>4&#45;&#45;7</title>\n<path fill=\"none\" stroke=\"black\" d=\"M962.25,-84.12C951.5,-104.72 933.88,-138.51 923.14,-159.09\"/>\n<text text-anchor=\"middle\" x=\"937.69\" y=\"-124.21\" font-family=\"monospace\" font-size=\"8.00\">86</text>\n</g>\n<!-- 7&#45;&#45;17 -->\n<g id=\"edge17\" class=\"edge\">\n<title>7&#45;&#45;17</title>\n<path fill=\"none\" stroke=\"black\" d=\"M879.6,-176.78C855.98,-176.78 824.62,-176.78 800.32,-176.78\"/>\n<text text-anchor=\"middle\" x=\"834.96\" y=\"-179.38\" font-family=\"monospace\" font-size=\"8.00\">98</text>\n</g>\n<!-- 8 -->\n<g id=\"node9\" class=\"node\">\n<title>8</title>\n<ellipse fill=\"none\" stroke=\"black\" cx=\"796.31\" cy=\"-488.78\" rx=\"27.65\" ry=\"18.27\"/>\n<text text-anchor=\"middle\" x=\"796.31\" y=\"-491.38\" font-family=\"monospace\" font-size=\"8.00\">Iasi</text>\n<text text-anchor=\"middle\" x=\"796.31\" y=\"-482.38\" font-family=\"monospace\" font-size=\"8.00\">h=inf</text>\n</g>\n<!-- 11 -->\n<g id=\"node12\" class=\"node\">\n<title>11</title>\n<ellipse fill=\"none\" stroke=\"black\" cx=\"659.51\" cy=\"-548.78\" rx=\"27.65\" ry=\"18.27\"/>\n<text text-anchor=\"middle\" x=\"659.51\" y=\"-551.38\" font-family=\"monospace\" font-size=\"8.00\">Neamt</text>\n<text text-anchor=\"middle\" x=\"659.51\" y=\"-542.38\" font-family=\"monospace\" font-size=\"8.00\">h=inf</text>\n</g>\n<!-- 8&#45;&#45;11 -->\n<g id=\"edge18\" class=\"edge\">\n<title>8&#45;&#45;11</title>\n<path fill=\"none\" stroke=\"black\" d=\"M773.1,-498.96C747.94,-510 708.03,-527.5 682.83,-538.56\"/>\n<text text-anchor=\"middle\" x=\"722.96\" y=\"-521.36\" font-family=\"monospace\" font-size=\"8.00\">87</text>\n</g>\n<!-- 18 -->\n<g id=\"node19\" class=\"node\">\n<title>18</title>\n<ellipse fill=\"none\" stroke=\"black\" cx=\"865.91\" cy=\"-366.38\" rx=\"31.23\" ry=\"18.27\"/>\n<text text-anchor=\"middle\" x=\"865.91\" y=\"-368.98\" font-family=\"monospace\" font-size=\"8.00\">Vaslui</text>\n<text text-anchor=\"middle\" x=\"865.91\" y=\"-359.98\" font-family=\"monospace\" font-size=\"8.00\">h=inf</text>\n</g>\n<!-- 8&#45;&#45;18 -->\n<g id=\"edge19\" class=\"edge\">\n<title>8&#45;&#45;18</title>\n<path fill=\"none\" stroke=\"black\" d=\"M806.13,-471.51C819.32,-448.31 842.63,-407.32 855.91,-383.97\"/>\n<text text-anchor=\"middle\" x=\"826.02\" y=\"-430.34\" font-family=\"monospace\" font-size=\"8.00\">92</text>\n</g>\n<!-- 9 -->\n<g id=\"node10\" class=\"node\">\n<title>9</title>\n<ellipse fill=\"none\" stroke=\"black\" cx=\"181.91\" cy=\"-234.38\" rx=\"27.65\" ry=\"18.27\"/>\n<text text-anchor=\"middle\" x=\"181.91\" y=\"-236.98\" font-family=\"monospace\" font-size=\"8.00\">Lugoj</text>\n<text text-anchor=\"middle\" x=\"181.91\" y=\"-227.98\" font-family=\"monospace\" font-size=\"8.00\">h=265</text>\n</g>\n<!-- 9&#45;&#45;16 -->\n<g id=\"edge20\" class=\"edge\">\n<title>9&#45;&#45;16</title>\n<path fill=\"none\" stroke=\"black\" d=\"M158.84,-244.55C134.47,-255.29 95.97,-272.25 69.5,-283.92\"/>\n<text text-anchor=\"middle\" x=\"107.17\" y=\"-266.83\" font-family=\"monospace\" font-size=\"8.00\">111</text>\n</g>\n<!-- 10&#45;&#45;9 -->\n<g id=\"edge5\" class=\"edge\">\n<title>10&#45;&#45;9</title>\n<path fill=\"none\" stroke=\"orange\" stroke-width=\"2\" d=\"M185.57,-173.95C184.99,-183.42 184.29,-195.11 183.64,-205.68\"/>\n<polygon fill=\"orange\" stroke=\"orange\" stroke-width=\"2\" points=\"180.15,-205.56 183.03,-215.75 187.13,-205.98 180.15,-205.56\"/>\n<text text-anchor=\"middle\" x=\"179.61\" y=\"-192.42\" font-family=\"monospace\" font-size=\"8.00\">70</text>\n</g>\n<!-- 12 -->\n<g id=\"node13\" class=\"node\">\n<title>12</title>\n<ellipse fill=\"none\" stroke=\"black\" cx=\"112.31\" cy=\"-618.38\" rx=\"31.23\" ry=\"18.27\"/>\n<text text-anchor=\"middle\" x=\"112.31\" y=\"-620.98\" font-family=\"monospace\" font-size=\"8.00\">Oradea</text>\n<text text-anchor=\"middle\" x=\"112.31\" y=\"-611.98\" font-family=\"monospace\" font-size=\"8.00\">h=377</text>\n</g>\n<!-- 12&#45;&#45;19 -->\n<g id=\"edge21\" class=\"edge\">\n<title>12&#45;&#45;19</title>\n<path fill=\"none\" stroke=\"black\" d=\"M102.72,-600.81C95.56,-587.68 85.82,-569.83 78.67,-556.71\"/>\n<text text-anchor=\"middle\" x=\"85.69\" y=\"-581.36\" font-family=\"monospace\" font-size=\"8.00\">71</text>\n</g>\n<!-- 13&#45;&#45;1 -->\n<g id=\"edge2\" class=\"edge\">\n<title>13&#45;&#45;1</title>\n<path fill=\"none\" stroke=\"orange\" stroke-width=\"2\" d=\"M512.63,-195.86C530.29,-183.72 555.71,-166.25 575.67,-152.52\"/>\n<polygon fill=\"orange\" stroke=\"orange\" stroke-width=\"2\" points=\"577.88,-155.25 584.13,-146.7 573.91,-149.48 577.88,-155.25\"/>\n<text text-anchor=\"middle\" x=\"537.15\" y=\"-176.79\" font-family=\"monospace\" font-size=\"8.00\">101</text>\n</g>\n<!-- 13&#45;&#45;14 -->\n<g id=\"edge22\" class=\"edge\">\n<title>13&#45;&#45;14</title>\n<path fill=\"none\" stroke=\"black\" d=\"M466.4,-222.76C435.08,-238.21 381.53,-264.62 347.58,-281.36\"/>\n<text text-anchor=\"middle\" x=\"401.99\" y=\"-254.66\" font-family=\"monospace\" font-size=\"8.00\">97</text>\n</g>\n<!-- 15 -->\n<g id=\"node16\" class=\"node\">\n<title>15</title>\n<ellipse fill=\"none\" stroke=\"black\" cx=\"265.91\" cy=\"-392.78\" rx=\"27.65\" ry=\"18.27\"/>\n<text text-anchor=\"middle\" x=\"265.91\" y=\"-395.38\" font-family=\"monospace\" font-size=\"8.00\">Sibiu</text>\n<text text-anchor=\"middle\" x=\"265.91\" y=\"-386.38\" font-family=\"monospace\" font-size=\"8.00\">h=226</text>\n</g>\n<!-- 14&#45;&#45;15 -->\n<g id=\"edge10\" class=\"edge\">\n<title>14&#45;&#45;15</title>\n<path fill=\"none\" stroke=\"orange\" stroke-width=\"2\" d=\"M306.59,-315.29C298.98,-329.78 288.31,-350.11 279.8,-366.31\"/>\n<polygon fill=\"orange\" stroke=\"orange\" stroke-width=\"2\" points=\"276.63,-364.82 275.08,-375.3 282.83,-368.08 276.63,-364.82\"/>\n<text text-anchor=\"middle\" x=\"288.19\" y=\"-343.4\" font-family=\"monospace\" font-size=\"8.00\">80</text>\n</g>\n<!-- 15&#45;&#45;0 -->\n<g id=\"edge1\" class=\"edge\">\n<title>15&#45;&#45;0</title>\n<path fill=\"none\" stroke=\"orange\" stroke-width=\"2\" d=\"M240.55,-400.1C198.83,-412.15 115.62,-436.17 68.25,-449.84\"/>\n<polygon fill=\"orange\" stroke=\"orange\" stroke-width=\"2\" points=\"67.07,-446.54 58.43,-452.67 69.01,-453.26 67.07,-446.54\"/>\n<text text-anchor=\"middle\" x=\"147.4\" y=\"-427.57\" font-family=\"monospace\" font-size=\"8.00\">140</text>\n</g>\n<!-- 15&#45;&#45;5 -->\n<g id=\"edge4\" class=\"edge\">\n<title>15&#45;&#45;5</title>\n<path fill=\"none\" stroke=\"orange\" stroke-width=\"2\" d=\"M293.27,-390.45C325.71,-387.68 380.2,-383.03 418.61,-379.75\"/>\n<polygon fill=\"orange\" stroke=\"orange\" stroke-width=\"2\" points=\"419.32,-383.2 428.99,-378.86 418.72,-376.23 419.32,-383.2\"/>\n<text text-anchor=\"middle\" x=\"350.94\" y=\"-387.7\" font-family=\"monospace\" font-size=\"8.00\">99</text>\n</g>\n<!-- 15&#45;&#45;12 -->\n<g id=\"edge7\" class=\"edge\">\n<title>15&#45;&#45;12</title>\n<path fill=\"none\" stroke=\"orange\" stroke-width=\"2\" d=\"M254.36,-409.74C227.62,-449.02 161.3,-546.42 129.65,-592.91\"/>\n<polygon fill=\"orange\" stroke=\"orange\" stroke-width=\"2\" points=\"126.72,-591 123.98,-601.23 132.51,-594.94 126.72,-591\"/>\n<text text-anchor=\"middle\" x=\"185.01\" y=\"-503.92\" font-family=\"monospace\" font-size=\"8.00\">151</text>\n</g>\n<!-- 17&#45;&#45;18 -->\n<g id=\"edge23\" class=\"edge\">\n<title>17&#45;&#45;18</title>\n<path fill=\"none\" stroke=\"black\" d=\"M772.41,-194.62C792.13,-230.85 836.66,-312.66 856.3,-348.73\"/>\n<text text-anchor=\"middle\" x=\"807.36\" y=\"-274.28\" font-family=\"monospace\" font-size=\"8.00\">142</text>\n</g>\n</g>\n</svg>\n",
            "text/plain": [
              "<graphviz.graphs.Graph at 0x7f4b44041330>"
            ]
          },
          "metadata": {},
          "execution_count": 85
        }
      ]
    },
    {
      "cell_type": "code",
      "source": [],
      "metadata": {
        "id": "apP8xDrxcyDW"
      },
      "execution_count": null,
      "outputs": []
    }
  ]
}