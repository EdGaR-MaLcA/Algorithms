{
  "nbformat": 4,
  "nbformat_minor": 0,
  "metadata": {
    "colab": {
      "name": "1201-bellman-ford.ipynb",
      "provenance": [],
      "authorship_tag": "ABX9TyOfL8G+fLA7ijqHi1kTqPA5",
      "include_colab_link": true
    },
    "kernelspec": {
      "name": "python3",
      "display_name": "Python 3"
    },
    "language_info": {
      "name": "python"
    }
  },
  "cells": [
    {
      "cell_type": "markdown",
      "metadata": {
        "id": "view-in-github",
        "colab_type": "text"
      },
      "source": [
        "<a href=\"https://colab.research.google.com/github/lmcanavals/acomplex/blob/main/1201_bellman_ford.ipynb\" target=\"_parent\"><img src=\"https://colab.research.google.com/assets/colab-badge.svg\" alt=\"Open In Colab\"/></a>"
      ]
    },
    {
      "cell_type": "code",
      "execution_count": null,
      "metadata": {
        "id": "sXb-GwKKBvhq"
      },
      "outputs": [],
      "source": [
        "import math\n",
        "\n",
        "def bellmanFord(G, s): # returns the path π and and whether or not a negative cycle exists\n",
        "    n = len(G)                      # |V|\n",
        "    π = [-1]*n                      # path\n",
        "    g = [math.inf]*n                # cost\n",
        "    g[s] = 0\n",
        "\n",
        "    for _ in range(n-1):            # repetir |V| - 1 veces\n",
        "        for u in range(n):\n",
        "            for v, w in G[u]:       # para cada arco (u, v, con peso w) de E\n",
        "                f = g[u] + w\n",
        "                if f < g[v]:        # relax(u, v, w)\n",
        "                    g[v] = f\n",
        "                    π[v] = u\n",
        "\n",
        "    \n",
        "    for u in range(n):              # para cada arco (u, v, con peso w) de E\n",
        "        for v, w in G[u]:\n",
        "            f = g[u] + w\n",
        "            if f < g[v]:            # se puede relajar?\n",
        "                return None         # existe ciclo negativo\n",
        "\n",
        "    return π                        # no existe ciclo negativo"
      ]
    },
    {
      "cell_type": "code",
      "source": [
        ""
      ],
      "metadata": {
        "id": "bu5S6iQRIATe"
      },
      "execution_count": null,
      "outputs": []
    }
  ]
}