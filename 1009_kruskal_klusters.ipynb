{
  "nbformat": 4,
  "nbformat_minor": 0,
  "metadata": {
    "colab": {
      "provenance": [],
      "authorship_tag": "ABX9TyOPnJgPAmWV7wIFCnSvSRLr",
      "include_colab_link": true
    },
    "kernelspec": {
      "name": "python3",
      "display_name": "Python 3"
    },
    "language_info": {
      "name": "python"
    }
  },
  "cells": [
    {
      "cell_type": "markdown",
      "metadata": {
        "id": "view-in-github",
        "colab_type": "text"
      },
      "source": [
        "<a href=\"https://colab.research.google.com/github/lmcanavals/acomplex/blob/main/1009_kruskal_klusters.ipynb\" target=\"_parent\"><img src=\"https://colab.research.google.com/assets/colab-badge.svg\" alt=\"Open In Colab\"/></a>"
      ]
    },
    {
      "cell_type": "code",
      "execution_count": 1,
      "metadata": {
        "id": "mT84pEHonElf"
      },
      "outputs": [],
      "source": [
        "from sklearn.datasets import make_circles\n",
        "import matplotlib.pyplot as plt"
      ]
    },
    {
      "cell_type": "code",
      "source": [
        "X, y = make_circles(n_samples=100, factor=0.3, noise=0.05, random_state=0)"
      ],
      "metadata": {
        "id": "DR6DFt6ynitJ"
      },
      "execution_count": 11,
      "outputs": []
    },
    {
      "cell_type": "code",
      "source": [
        "plt.scatter(X[:, 0], X[:, 1], c=y)"
      ],
      "metadata": {
        "colab": {
          "base_uri": "https://localhost:8080/",
          "height": 283
        },
        "id": "qfkRoRMxnmU3",
        "outputId": "33b8c859-5b7d-41ac-ee89-3830fdaf0d5c"
      },
      "execution_count": 12,
      "outputs": [
        {
          "output_type": "execute_result",
          "data": {
            "text/plain": [
              "<matplotlib.collections.PathCollection at 0x7fc7589b45d0>"
            ]
          },
          "metadata": {},
          "execution_count": 12
        },
        {
          "output_type": "display_data",
          "data": {
            "text/plain": [
              "<Figure size 432x288 with 1 Axes>"
            ],
            "image/png": "[encoded data removed]"
          },
          "metadata": {
            "needs_background": "light"
          }
        }
      ]
    },
    {
      "cell_type": "code",
      "source": [
        "!curl -O https://raw.githubusercontent.com/lmcanavals/acomplex/main/disjointset.py"
      ],
      "metadata": {
        "colab": {
          "base_uri": "https://localhost:8080/"
        },
        "id": "_L-DM4A5nuFA",
        "outputId": "99030c1f-ed3d-46b2-f106-ca7ac8592a2d"
      },
      "execution_count": 9,
      "outputs": [
        {
          "output_type": "stream",
          "name": "stdout",
          "text": [
            "  % Total    % Received % Xferd  Average Speed   Time    Time     Time  Current\n",
            "                                 Dload  Upload   Total   Spent    Left  Speed\n",
            "100   602  100   602    0     0   1941      0 --:--:-- --:--:-- --:--:--  1948\n"
          ]
        }
      ]
    },
    {
      "cell_type": "code",
      "source": [
        "from disjointset import DisjointSet\n",
        "import numpy as np\n",
        "import math"
      ],
      "metadata": {
        "id": "irvpcUweoSIn"
      },
      "execution_count": 18,
      "outputs": []
    },
    {
      "cell_type": "code",
      "source": [
        "def kruskal(G, k=2):\n",
        "    n = len(G)\n",
        "    ds = DisjointSet(n)\n",
        "    edges = [(G[u, v], u, v) for u in range(n) for v in range(n)]\n",
        "    edges.sort()\n",
        "    #T = []\n",
        "    links = 0\n",
        "    for _, u, v in edges:\n",
        "        if not ds.sameset(u, v):\n",
        "            #T.append((u, v))\n",
        "            ds.union(u, v)\n",
        "            links += 1\n",
        "        if links == n - k: break\n",
        "\n",
        "    y_ = np.zeros((n), dtype=int)\n",
        "    unique = set()\n",
        "    for u in range(n):\n",
        "        unique.add(ds.find(u))\n",
        "        y_[u] = ds.find(u)\n",
        "\n",
        "    for i, u in enumerate(unique):\n",
        "        y_[y_ == u] = i\n",
        "    \n",
        "    return y_"
      ],
      "metadata": {
        "id": "borkMEHfoV08"
      },
      "execution_count": 31,
      "outputs": []
    },
    {
      "cell_type": "code",
      "source": [
        "def dist(a, b):\n",
        "    s = 0\n",
        "    for x0, x1 in zip(a, b):\n",
        "        s += (x0 - x1)**2\n",
        "\n",
        "   return s**0.5"
      ],
      "metadata": {
        "id": "f7lTDukcpVjF"
      },
      "execution_count": 15,
      "outputs": []
    },
    {
      "cell_type": "code",
      "source": [
        "n = len(X)\n",
        "G = np.zeros((n, n))\n",
        "for i in range(n):\n",
        "    for j in range(n):\n",
        "        if i == j:\n",
        "            G[i, j] = math.inf\n",
        "        else:\n",
        "            G[i, j] = dist(X[i], X[j])\n",
        "\n",
        "print(G)"
      ],
      "metadata": {
        "colab": {
          "base_uri": "https://localhost:8080/"
        },
        "id": "avbyzGCzp46G",
        "outputId": "99dc7648-827d-4b1a-8166-32767ace97a6"
      },
      "execution_count": 19,
      "outputs": [
        {
          "output_type": "stream",
          "name": "stdout",
          "text": [
            "[[       inf 0.99769016 1.95132367 ... 1.08639589 1.8561462  1.74116841]\n",
            " [0.99769016        inf 1.04771357 ... 0.53450837 0.85960321 0.79001373]\n",
            " [1.95132367 1.04771357        inf ... 0.91229254 0.53891985 0.96255503]\n",
            " ...\n",
            " [1.08639589 0.53450837 0.91229254 ...        inf 1.0231521  1.16403616]\n",
            " [1.8561462  0.85960321 0.53891985 ... 1.0231521         inf 0.43802603]\n",
            " [1.74116841 0.79001373 0.96255503 ... 1.16403616 0.43802603        inf]]\n"
          ]
        }
      ]
    },
    {
      "cell_type": "code",
      "source": [
        "y_ = kruskal(G, k=2)"
      ],
      "metadata": {
        "id": "MfjK4YTap-cl"
      },
      "execution_count": 36,
      "outputs": []
    },
    {
      "cell_type": "code",
      "source": [
        "plt.scatter(X[:, 0], X[:, 1], c=y_, cmap=\"viridis\")"
      ],
      "metadata": {
        "colab": {
          "base_uri": "https://localhost:8080/",
          "height": 283
        },
        "id": "-b55Pz80qm8A",
        "outputId": "abed3776-12ab-4190-8e8a-3238446b7eda"
      },
      "execution_count": 43,
      "outputs": [
        {
          "output_type": "execute_result",
          "data": {
            "text/plain": [
              "<matplotlib.collections.PathCollection at 0x7fc75701ef10>"
            ]
          },
          "metadata": {},
          "execution_count": 43
        },
        {
          "output_type": "display_data",
          "data": {
            "text/plain": [
              "<Figure size 432x288 with 1 Axes>"
            ],
            "image/png": "[encoded data removed]"
          },
          "metadata": {
            "needs_background": "light"
          }
        }
      ]
    },
    {
      "cell_type": "code",
      "source": [],
      "metadata": {
        "id": "A9x-V8sNqqcn"
      },
      "execution_count": null,
      "outputs": []
    }
  ]
}