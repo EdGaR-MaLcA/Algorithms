{
  "nbformat": 4,
  "nbformat_minor": 0,
  "metadata": {
    "colab": {
      "name": "03-04-skylines.ipynb",
      "provenance": [],
      "authorship_tag": "ABX9TyNOh+1KxOqWHjAe4hLnbfsI",
      "include_colab_link": true
    },
    "kernelspec": {
      "name": "python3",
      "display_name": "Python 3"
    },
    "language_info": {
      "name": "python"
    }
  },
  "cells": [
    {
      "cell_type": "markdown",
      "metadata": {
        "id": "view-in-github",
        "colab_type": "text"
      },
      "source": [
        "<a href=\"https://colab.research.google.com/github/lmcanavals/acomplex/blob/main/03_04_skylines.ipynb\" target=\"_parent\"><img src=\"https://colab.research.google.com/assets/colab-badge.svg\" alt=\"Open In Colab\"/></a>"
      ]
    },
    {
      "cell_type": "code",
      "execution_count": 53,
      "metadata": {
        "id": "38csiCF5ZSCX"
      },
      "outputs": [],
      "source": [
        "rects = [(3, 13, 9), (1, 11, 5), (19, 18, 22), (3, 6, 7), (16, 3, 25), (12, 7, 16)]"
      ]
    },
    {
      "cell_type": "code",
      "source": [
        "def toRect(rect):\n",
        "  g, h, d = rect\n",
        "  return [(g, 0),(g, h),(d, h),(d, 0)]"
      ],
      "metadata": {
        "id": "5h5LhEIwZWoo"
      },
      "execution_count": 54,
      "outputs": []
    },
    {
      "cell_type": "code",
      "source": [
        "r0 = toRect(rects[0])\n",
        "r0"
      ],
      "metadata": {
        "colab": {
          "base_uri": "https://localhost:8080/"
        },
        "id": "YlxrOzYeZ1_S",
        "outputId": "5678414f-4449-4327-a97b-68b377083da4"
      },
      "execution_count": 55,
      "outputs": [
        {
          "output_type": "execute_result",
          "data": {
            "text/plain": [
              "[(3, 0), (3, 13), (9, 13), (9, 0)]"
            ]
          },
          "metadata": {},
          "execution_count": 55
        }
      ]
    },
    {
      "cell_type": "code",
      "source": [
        "import matplotlib.pyplot as plt"
      ],
      "metadata": {
        "id": "CO6t3OCCZ6TK"
      },
      "execution_count": 56,
      "outputs": []
    },
    {
      "cell_type": "code",
      "source": [
        "print(r0)\n",
        "print(*r0)\n",
        "print(list(zip(*r0)))"
      ],
      "metadata": {
        "colab": {
          "base_uri": "https://localhost:8080/"
        },
        "id": "tTgOdp2nZ9bY",
        "outputId": "093a0db1-5606-45ca-8f41-f38cc458a29b"
      },
      "execution_count": 57,
      "outputs": [
        {
          "output_type": "stream",
          "name": "stdout",
          "text": [
            "[(3, 0), (3, 13), (9, 13), (9, 0)]\n",
            "(3, 0) (3, 13) (9, 13) (9, 0)\n",
            "[(3, 3, 9, 9), (0, 13, 13, 0)]\n"
          ]
        }
      ]
    },
    {
      "cell_type": "code",
      "source": [
        "x, y = zip(*r0)\n",
        "print(x)\n",
        "print(y)"
      ],
      "metadata": {
        "colab": {
          "base_uri": "https://localhost:8080/"
        },
        "id": "IT4m70oEaN04",
        "outputId": "1617e45d-5f20-449e-ffd7-c2d7f92cc893"
      },
      "execution_count": 58,
      "outputs": [
        {
          "output_type": "stream",
          "name": "stdout",
          "text": [
            "(3, 3, 9, 9)\n",
            "(0, 13, 13, 0)\n"
          ]
        }
      ]
    },
    {
      "cell_type": "code",
      "source": [
        "plt.plot(x, y)"
      ],
      "metadata": {
        "colab": {
          "base_uri": "https://localhost:8080/",
          "height": 283
        },
        "id": "4M1fkuTObCWL",
        "outputId": "c5cd4788-f82a-49ca-f0c2-201c1bbb70bd"
      },
      "execution_count": 59,
      "outputs": [
        {
          "output_type": "execute_result",
          "data": {
            "text/plain": [
              "[<matplotlib.lines.Line2D at 0x7ff74d69e190>]"
            ]
          },
          "metadata": {},
          "execution_count": 59
        },
        {
          "output_type": "display_data",
          "data": {
            "text/plain": [
              "<Figure size 432x288 with 1 Axes>"
            ],
            "image/png": "[encoded data removed]"
          },
          "metadata": {
            "needs_background": "light"
          }
        }
      ]
    },
    {
      "cell_type": "code",
      "source": [
        "for ri in rects:\n",
        "  rect = toRect(ri)\n",
        "  rect.append(rect[0])\n",
        "  x, y = zip(*rect)\n",
        "  plt.plot(x, y)\n",
        "plt.show()"
      ],
      "metadata": {
        "colab": {
          "base_uri": "https://localhost:8080/",
          "height": 265
        },
        "id": "Kzf55OewbE2J",
        "outputId": "a8cb3e8b-6d63-409f-d30b-9fa21d3b9bf1"
      },
      "execution_count": 60,
      "outputs": [
        {
          "output_type": "display_data",
          "data": {
            "text/plain": [
              "<Figure size 432x288 with 1 Axes>"
            ],
            "image/png": "[encoded data removed]"
          },
          "metadata": {
            "needs_background": "light"
          }
        }
      ]
    },
    {
      "cell_type": "code",
      "source": [
        "def toContour(rect):\n",
        "  g, h, d = rect\n",
        "  return [(g, h), (d, 0)]"
      ],
      "metadata": {
        "id": "i97VZr7WbXK_"
      },
      "execution_count": 61,
      "outputs": []
    },
    {
      "cell_type": "code",
      "source": [
        "r0"
      ],
      "metadata": {
        "colab": {
          "base_uri": "https://localhost:8080/"
        },
        "id": "PzJuA9U-dN4i",
        "outputId": "f8537d7c-0c2c-46b6-e38c-c69b224a11c0"
      },
      "execution_count": 62,
      "outputs": [
        {
          "output_type": "execute_result",
          "data": {
            "text/plain": [
              "[(3, 0), (3, 13), (9, 13), (9, 0)]"
            ]
          },
          "metadata": {},
          "execution_count": 62
        }
      ]
    },
    {
      "cell_type": "code",
      "source": [
        "c0 = toContour(rects[0])\n",
        "c0"
      ],
      "metadata": {
        "colab": {
          "base_uri": "https://localhost:8080/"
        },
        "id": "sf-QHGFJdPpb",
        "outputId": "481198ca-7954-4655-fe12-f521bd261b0a"
      },
      "execution_count": 63,
      "outputs": [
        {
          "output_type": "execute_result",
          "data": {
            "text/plain": [
              "[(3, 13), (9, 0)]"
            ]
          },
          "metadata": {},
          "execution_count": 63
        }
      ]
    },
    {
      "cell_type": "code",
      "source": [
        "def drawRect(rect):\n",
        "  r0 = rect + [rect[0]]\n",
        "  x, y = zip(*r0)\n",
        "  plt.plot(x, y, \"--\")"
      ],
      "metadata": {
        "id": "J8gRHK9ze-BF"
      },
      "execution_count": 64,
      "outputs": []
    },
    {
      "cell_type": "code",
      "source": [
        "def drawContour(contour):\n",
        "  points = [(0, 0)]\n",
        "  for x, y in contour:\n",
        "    points.append((x, points[-1][1]))\n",
        "    points.append((x, y))\n",
        "\n",
        "  x, y = zip(*points)\n",
        "  plt.plot(x, y, lw=3)"
      ],
      "metadata": {
        "id": "JCvut61ResSi"
      },
      "execution_count": 65,
      "outputs": []
    },
    {
      "cell_type": "code",
      "source": [
        "r0 = toRect(rects[0])\n",
        "c0 = toContour(rects[0])\n",
        "r1 = toRect(rects[1])\n",
        "c1 = toContour(rects[1])"
      ],
      "metadata": {
        "id": "Bfg0S_dpe3b4"
      },
      "execution_count": 66,
      "outputs": []
    },
    {
      "cell_type": "code",
      "source": [
        "drawRect(r0)\n",
        "drawContour(c0)\n",
        "drawRect(r1)\n",
        "drawContour(c1)\n",
        "\n",
        "plt.show()"
      ],
      "metadata": {
        "colab": {
          "base_uri": "https://localhost:8080/",
          "height": 265
        },
        "id": "qxv8fGOgdUqf",
        "outputId": "997fd34f-add0-407d-fdcf-e2a72ae66c0c"
      },
      "execution_count": 67,
      "outputs": [
        {
          "output_type": "display_data",
          "data": {
            "text/plain": [
              "<Figure size 432x288 with 1 Axes>"
            ],
            "image/png": "[encoded data removed]"
          },
          "metadata": {
            "needs_background": "light"
          }
        }
      ]
    },
    {
      "cell_type": "code",
      "source": [
        "def addPoint(cf, x, y):\n",
        "  if len(cf) > 1:\n",
        "    if cf[-1][0] == x:\n",
        "      cf[-1] = (x, max(y, cf[-1][1]))\n",
        "      return\n",
        "    elif cf[-1][1] == y:\n",
        "      return\n",
        "\n",
        "  cf.append((x, y))"
      ],
      "metadata": {
        "id": "RVTS-TsxiLf7"
      },
      "execution_count": 68,
      "outputs": []
    },
    {
      "cell_type": "code",
      "source": [
        "def merge(c0, c1):\n",
        "  cf = []\n",
        "  n0, n1 = len(c0), len(c1)\n",
        "  i0, i1 = 0, 0\n",
        "  y0, y1 = 0, 0\n",
        "  while i0 < n0 or i1 < n1:\n",
        "    if i1 >= n1 or i0 < n0 and c0[i0][0] <= c1[i1][0]:\n",
        "      x, y0 = c0[i0]\n",
        "      i0 += 1\n",
        "    else:\n",
        "      x, y1 = c1[i1]\n",
        "      i1 += 1\n",
        "    y = max(y0, y1)\n",
        "    addPoint(cf, x, y)\n",
        "\n",
        "  return cf"
      ],
      "metadata": {
        "id": "XHfrS9Dbdfdd"
      },
      "execution_count": 69,
      "outputs": []
    },
    {
      "cell_type": "code",
      "source": [
        "cf = merge(c0, c1)\n",
        "print(cf)\n",
        "drawContour(cf)"
      ],
      "metadata": {
        "colab": {
          "base_uri": "https://localhost:8080/",
          "height": 283
        },
        "id": "pO33u324iK2v",
        "outputId": "21656eda-78d0-4dfb-dc49-80a7f2e4a811"
      },
      "execution_count": 70,
      "outputs": [
        {
          "output_type": "stream",
          "name": "stdout",
          "text": [
            "[(1, 11), (3, 13), (9, 0)]\n"
          ]
        },
        {
          "output_type": "display_data",
          "data": {
            "text/plain": [
              "<Figure size 432x288 with 1 Axes>"
            ],
            "image/png": "[encoded data removed]"
          },
          "metadata": {
            "needs_background": "light"
          }
        }
      ]
    },
    {
      "cell_type": "code",
      "source": [
        "cf = toContour(rects[0])\n",
        "drawRect(toRect(rects[0]))\n",
        "for i in range(1, len(rects)):\n",
        "  drawRect(toRect(rects[i]))\n",
        "  cf = merge(cf, toContour(rects[i]))\n",
        "print(cf)\n",
        "drawContour(cf)"
      ],
      "metadata": {
        "colab": {
          "base_uri": "https://localhost:8080/",
          "height": 283
        },
        "id": "iJ5eHs2Uip31",
        "outputId": "b4108c5a-b82e-474e-c8c0-92d5c8ca2fb0"
      },
      "execution_count": 71,
      "outputs": [
        {
          "output_type": "stream",
          "name": "stdout",
          "text": [
            "[(1, 11), (3, 13), (9, 0), (12, 7), (16, 3), (19, 18), (22, 3), (25, 0)]\n"
          ]
        },
        {
          "output_type": "display_data",
          "data": {
            "text/plain": [
              "<Figure size 432x288 with 1 Axes>"
            ],
            "image/png": "[encoded data removed]"
          },
          "metadata": {
            "needs_background": "light"
          }
        }
      ]
    },
    {
      "cell_type": "code",
      "source": [
        "def skyline(rects, i, f):\n",
        "  if i == f:\n",
        "    return toContour(rects[i])\n",
        "  else:\n",
        "    mid = (i + f)//2\n",
        "    c0 = skyline(rects, i, mid)\n",
        "    c1 = skyline(rects, mid+1, f)\n",
        "    return merge(c0, c1)"
      ],
      "metadata": {
        "id": "ZB6e5hSWjU6u"
      },
      "execution_count": 72,
      "outputs": []
    },
    {
      "cell_type": "code",
      "source": [
        "cf2 = skyline(rects, 0, len(rects)-1)\n",
        "for rect in rects:\n",
        "  drawRect(toRect(rect))\n",
        "drawContour(cf2)\n",
        "plt.show()"
      ],
      "metadata": {
        "colab": {
          "base_uri": "https://localhost:8080/",
          "height": 265
        },
        "id": "bwT4fDkYkiKt",
        "outputId": "133eede6-2b95-4f3f-b23f-4bbdaf180d49"
      },
      "execution_count": 73,
      "outputs": [
        {
          "output_type": "display_data",
          "data": {
            "text/plain": [
              "<Figure size 432x288 with 1 Axes>"
            ],
            "image/png": "[encoded data removed]"
          },
          "metadata": {
            "needs_background": "light"
          }
        }
      ]
    },
    {
      "cell_type": "code",
      "source": [
        ""
      ],
      "metadata": {
        "id": "PrGowT_KkuMu"
      },
      "execution_count": null,
      "outputs": []
    }
  ]
}