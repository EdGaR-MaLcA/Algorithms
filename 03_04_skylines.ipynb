{
  "nbformat": 4,
  "nbformat_minor": 0,
  "metadata": {
    "colab": {
      "name": "03-04-skylines.ipynb",
      "provenance": [],
      "authorship_tag": "ABX9TyNAuZclcf19Do4KvviLNZ49",
      "include_colab_link": true
    },
    "kernelspec": {
      "name": "python3",
      "display_name": "Python 3"
    },
    "language_info": {
      "name": "python"
    }
  },
  "cells": [
    {
      "cell_type": "markdown",
      "metadata": {
        "id": "view-in-github",
        "colab_type": "text"
      },
      "source": [
        "<a href=\"https://colab.research.google.com/github/lmcanavals/acomplex/blob/main/03_04_skylines.ipynb\" target=\"_parent\"><img src=\"https://colab.research.google.com/assets/colab-badge.svg\" alt=\"Open In Colab\"/></a>"
      ]
    },
    {
      "cell_type": "code",
      "execution_count": 1,
      "metadata": {
        "id": "NCHhKC6XS_cN"
      },
      "outputs": [],
      "source": [
        "rects = [(3, 13, 9), (1, 11, 5), (19, 18, 22), (3, 6, 7), (16, 3, 25), (12, 7, 16)]"
      ]
    },
    {
      "cell_type": "code",
      "source": [
        "def toRect(triple):\n",
        "  g, h, d = triple\n",
        "  return [(g, 0), (g, h), (d, h), (d, 0)]"
      ],
      "metadata": {
        "id": "GDAsTIOpTP6U"
      },
      "execution_count": 2,
      "outputs": []
    },
    {
      "cell_type": "code",
      "source": [
        "import matplotlib.pyplot as plt"
      ],
      "metadata": {
        "id": "R50-gdPLTbyc"
      },
      "execution_count": 3,
      "outputs": []
    },
    {
      "cell_type": "code",
      "source": [
        "rect = toRect(rects[0])\n",
        "print(rect)\n",
        "x, y = zip(*rect)\n",
        "print(x)\n",
        "print(y)"
      ],
      "metadata": {
        "colab": {
          "base_uri": "https://localhost:8080/"
        },
        "id": "44m6tmkMTeDZ",
        "outputId": "fb371875-4193-4ba8-8f2a-2e4d20fe4018"
      },
      "execution_count": 6,
      "outputs": [
        {
          "output_type": "stream",
          "name": "stdout",
          "text": [
            "[(3, 0), (3, 13), (9, 13), (9, 0)]\n",
            "(3, 3, 9, 9)\n",
            "(0, 13, 13, 0)\n"
          ]
        }
      ]
    },
    {
      "cell_type": "code",
      "source": [
        "for rect in rects:\n",
        "  r = toRect(rect)\n",
        "  r.append(r[0])\n",
        "  x, y = zip(*r)\n",
        "  plt.plot(x, y)\n",
        "\n",
        "plt.axis(\"off\")\n",
        "plt.show()"
      ],
      "metadata": {
        "colab": {
          "base_uri": "https://localhost:8080/",
          "height": 248
        },
        "id": "GQaFhEpLTpRf",
        "outputId": "32b9d223-16f8-402e-bb70-f8f8c27ed0e1"
      },
      "execution_count": 5,
      "outputs": [
        {
          "output_type": "display_data",
          "data": {
            "text/plain": [
              "<Figure size 432x288 with 1 Axes>"
            ],
            "image/png": "[encoded data removed]"
          },
          "metadata": {
            "needs_background": "light"
          }
        }
      ]
    },
    {
      "cell_type": "code",
      "source": [
        "def drawContour(contour):\n",
        "  points = [(0, 0)]\n",
        "  for x, y in contour:\n",
        "    points.append((x, points[-1][1]))\n",
        "    points.append((x, y))\n",
        "  x, y = zip(*points)\n",
        "  plt.plot(x, y)"
      ],
      "metadata": {
        "id": "9SUiFMMOT96S"
      },
      "execution_count": 9,
      "outputs": []
    },
    {
      "cell_type": "code",
      "source": [
        "def toContour(triple):\n",
        "  g, h, d = triple\n",
        "  return [(g, h), (d, 0)]"
      ],
      "metadata": {
        "id": "nvr20JgrUr2M"
      },
      "execution_count": 13,
      "outputs": []
    },
    {
      "cell_type": "code",
      "source": [
        "contour0 = toContour(rects[0])\n",
        "contour1 = toContour(rects[1])\n",
        "drawContour(contour0)\n",
        "drawContour(contour1)\n",
        "plt.show()"
      ],
      "metadata": {
        "colab": {
          "base_uri": "https://localhost:8080/",
          "height": 265
        },
        "id": "Z-xgUvGVVACg",
        "outputId": "8349ce6e-28e3-446e-a9c5-8250cc7d5ace"
      },
      "execution_count": 15,
      "outputs": [
        {
          "output_type": "display_data",
          "data": {
            "text/plain": [
              "<Figure size 432x288 with 1 Axes>"
            ],
            "image/png": "[encoded data removed]"
          },
          "metadata": {
            "needs_background": "light"
          }
        }
      ]
    },
    {
      "cell_type": "code",
      "source": [
        "def addPoint(res, x, y):\n",
        "  if len(res) > 0:\n",
        "    if res[-1][1] == y:\n",
        "      return\n",
        "    elif res[-1][0] == x:\n",
        "      x0, y0 = res[-1]\n",
        "      res[-1] = (x, max(y, y0))\n",
        "      return\n",
        "\n",
        "  res.append((x, y))"
      ],
      "metadata": {
        "id": "4zpf1-5IXEUn"
      },
      "execution_count": 17,
      "outputs": []
    },
    {
      "cell_type": "code",
      "source": [
        "def merge(c1, c2):\n",
        "  res = []\n",
        "  n1, n2 = len(c1), len(c2)\n",
        "  i1, i2 = 0, 0\n",
        "  y1, y2 = 0, 0\n",
        "  while i1 < n1 or i2 < n2:\n",
        "    if i2 >= n2 or i1 < n1 and c1[i1][0] < c2[i2][0]:\n",
        "      x, y1 = c1[i1]\n",
        "      i1 += 1\n",
        "    else:\n",
        "      x, y2 = c2[i2]\n",
        "      i2 += 1\n",
        "    y = max(y1, y2)\n",
        "    addPoint(res, x, y)\n",
        "\n",
        "  return res"
      ],
      "metadata": {
        "id": "pOWPzyKLVLwz"
      },
      "execution_count": 18,
      "outputs": []
    },
    {
      "cell_type": "code",
      "source": [
        "contour2 = merge(contour0, contour1)\n",
        "drawContour(contour2)\n",
        "plt.show()"
      ],
      "metadata": {
        "colab": {
          "base_uri": "https://localhost:8080/",
          "height": 265
        },
        "id": "n2R0VbVhXDzF",
        "outputId": "07a59d47-96f8-4194-cbb7-c5d0838ea8c9"
      },
      "execution_count": 19,
      "outputs": [
        {
          "output_type": "display_data",
          "data": {
            "text/plain": [
              "<Figure size 432x288 with 1 Axes>"
            ],
            "image/png": "[encoded data removed]"
          },
          "metadata": {
            "needs_background": "light"
          }
        }
      ]
    },
    {
      "cell_type": "code",
      "source": [
        "contour = toContour(rects[0])\n",
        "for i in range(1, len(rects)):\n",
        "  contour0 = toContour(rects[i])\n",
        "  contour = merge(contour, contour0)\n",
        "print(contour)"
      ],
      "metadata": {
        "colab": {
          "base_uri": "https://localhost:8080/"
        },
        "id": "RI4Kxmx7Xufx",
        "outputId": "e49c901b-d747-4934-dee2-c83f88c5e297"
      },
      "execution_count": 20,
      "outputs": [
        {
          "output_type": "stream",
          "name": "stdout",
          "text": [
            "[(1, 11), (3, 13), (9, 0), (12, 7), (16, 3), (19, 18), (22, 3), (25, 0)]\n"
          ]
        }
      ]
    },
    {
      "cell_type": "code",
      "source": [
        "drawContour(contour)"
      ],
      "metadata": {
        "colab": {
          "base_uri": "https://localhost:8080/",
          "height": 265
        },
        "id": "O5_9sdEzYQta",
        "outputId": "2bdbd16a-e812-480b-8d38-dc4b30a8a279"
      },
      "execution_count": 21,
      "outputs": [
        {
          "output_type": "display_data",
          "data": {
            "text/plain": [
              "<Figure size 432x288 with 1 Axes>"
            ],
            "image/png": "[encoded data removed]"
          },
          "metadata": {
            "needs_background": "light"
          }
        }
      ]
    },
    {
      "cell_type": "code",
      "source": [
        "def skylines(rects, i, f):\n",
        "  if i == f:\n",
        "    return toContour(rects[i])\n",
        "  else:\n",
        "    mid = (i + f) // 2\n",
        "    c1 = skylines(rects, i, mid)\n",
        "    c2 = skylines(rects, mid+1, f)\n",
        "    return merge(c1, c2)"
      ],
      "metadata": {
        "id": "m9SeD_L5YSO2"
      },
      "execution_count": 22,
      "outputs": []
    },
    {
      "cell_type": "code",
      "source": [
        "contour = skylines(rects, 0, len(rects) - 1)\n",
        "print(contour)"
      ],
      "metadata": {
        "colab": {
          "base_uri": "https://localhost:8080/"
        },
        "id": "bffx5XQ0Ykgj",
        "outputId": "99edf556-ad41-40f1-8f30-b5ff9f56f1c6"
      },
      "execution_count": 23,
      "outputs": [
        {
          "output_type": "stream",
          "name": "stdout",
          "text": [
            "[(1, 11), (3, 13), (9, 0), (12, 7), (16, 3), (19, 18), (22, 3), (25, 0)]\n"
          ]
        }
      ]
    },
    {
      "cell_type": "code",
      "source": [
        "drawContour(contour)"
      ],
      "metadata": {
        "colab": {
          "base_uri": "https://localhost:8080/",
          "height": 265
        },
        "id": "HvBteiEJYoOj",
        "outputId": "d9f1deb2-c837-4853-e999-3cd6c1b290d0"
      },
      "execution_count": 24,
      "outputs": [
        {
          "output_type": "display_data",
          "data": {
            "text/plain": [
              "<Figure size 432x288 with 1 Axes>"
            ],
            "image/png": "[encoded data removed]"
          },
          "metadata": {
            "needs_background": "light"
          }
        }
      ]
    },
    {
      "cell_type": "code",
      "source": [
        ""
      ],
      "metadata": {
        "id": "gPnhkcuFYplp"
      },
      "execution_count": null,
      "outputs": []
    }
  ]
}