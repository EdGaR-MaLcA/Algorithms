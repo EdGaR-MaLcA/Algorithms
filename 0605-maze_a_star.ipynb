{
  "nbformat": 4,
  "nbformat_minor": 0,
  "metadata": {
    "colab": {
      "provenance": [],
      "authorship_tag": "ABX9TyPy3InbqWc+L+hjo3hYSQ1l",
      "include_colab_link": true
    },
    "kernelspec": {
      "name": "python3",
      "display_name": "Python 3"
    },
    "language_info": {
      "name": "python"
    }
  },
  "cells": [
    {
      "cell_type": "markdown",
      "metadata": {
        "id": "view-in-github",
        "colab_type": "text"
      },
      "source": [
        "<a href=\"https://colab.research.google.com/github/lmcanavals/acomplex/blob/main/0605-maze_a_star.ipynb\" target=\"_parent\"><img src=\"https://colab.research.google.com/assets/colab-badge.svg\" alt=\"Open In Colab\"/></a>"
      ]
    },
    {
      "cell_type": "markdown",
      "source": [
        "# A* para encontrar la salida de un laberinto"
      ],
      "metadata": {
        "id": "oqnmX9GfMpxv"
      }
    },
    {
      "cell_type": "markdown",
      "source": [
        "Obtenemos algunos archivos para ayudarnos a generar laberintos interesantes"
      ],
      "metadata": {
        "id": "m1R5vkWzMxGm"
      }
    },
    {
      "cell_type": "code",
      "execution_count": null,
      "metadata": {
        "id": "JW9s3k_8y8Pf"
      },
      "outputs": [],
      "source": [
        "rawbase = \"https://raw.githubusercontent.com/lmcanavals/algorithmic_complexity/main/\""
      ]
    },
    {
      "cell_type": "code",
      "source": [
        "ds = f\"{rawbase}disjointset.py\"\n",
        "mb = f\"{rawbase}mazebuilder.py\"\n",
        "!curl -O $ds\n",
        "!curl -O $mb\n",
        "!head mazebuilder.py\n",
        "!sed -i 's/algorithmic_complexity.//g' mazebuilder.py\n",
        "!head mazebuilder.py"
      ],
      "metadata": {
        "colab": {
          "base_uri": "https://localhost:8080/"
        },
        "id": "nwadhMmHzu2H",
        "outputId": "ed2f54fd-b4ca-4cdb-a278-cb5ec6901789"
      },
      "execution_count": null,
      "outputs": [
        {
          "output_type": "stream",
          "name": "stdout",
          "text": [
            "  % Total    % Received % Xferd  Average Speed   Time    Time     Time  Current\n",
            "                                 Dload  Upload   Total   Spent    Left  Speed\n",
            "100   602  100   602    0     0  24080      0 --:--:-- --:--:-- --:--:-- 25083\n",
            "  % Total    % Received % Xferd  Average Speed   Time    Time     Time  Current\n",
            "                                 Dload  Upload   Total   Spent    Left  Speed\n",
            "100  1130  100  1130    0     0  45200      0 --:--:-- --:--:-- --:--:-- 45200\n",
            "import random\n",
            "import numpy as np\n",
            "\n",
            "import algorithmic_complexity.disjointset as ds\n",
            "\n",
            "def makeMaze(rows, cols: int):\n",
            "    maze = np.zeros((rows*2 + 1, cols*2+1))\n",
            "    maze[1::2, 1::2] = 1\n",
            "    maze[ 1][ 0] = 3\n",
            "    maze[-2][-1] = 3\n",
            "import random\n",
            "import numpy as np\n",
            "\n",
            "import disjointset as ds\n",
            "\n",
            "def makeMaze(rows, cols: int):\n",
            "    maze = np.zeros((rows*2 + 1, cols*2+1))\n",
            "    maze[1::2, 1::2] = 1\n",
            "    maze[ 1][ 0] = 3\n",
            "    maze[-2][-1] = 3\n"
          ]
        }
      ]
    },
    {
      "cell_type": "markdown",
      "source": [
        "Importamos mazebuilder que contiene la función `mazeMaze()`"
      ],
      "metadata": {
        "id": "eLucZH4ONJ2W"
      }
    },
    {
      "cell_type": "code",
      "source": [
        "import mazebuilder as mb"
      ],
      "metadata": {
        "id": "bJSCHF9M0ENS"
      },
      "execution_count": null,
      "outputs": []
    },
    {
      "cell_type": "code",
      "source": [
        "maze = mb.makeMaze(3, 4)\n",
        "print(maze)"
      ],
      "metadata": {
        "colab": {
          "base_uri": "https://localhost:8080/"
        },
        "id": "flgEg01P0Mgz",
        "outputId": "62bd1371-c1df-499c-b0dc-e88fac32e8a7"
      },
      "execution_count": null,
      "outputs": [
        {
          "output_type": "stream",
          "name": "stdout",
          "text": [
            "[[0. 0. 0. 0. 0. 0. 0. 0. 0.]\n",
            " [3. 1. 1. 1. 0. 1. 1. 1. 0.]\n",
            " [0. 1. 0. 0. 0. 1. 0. 0. 0.]\n",
            " [0. 1. 1. 1. 1. 1. 1. 1. 0.]\n",
            " [0. 0. 0. 1. 0. 1. 0. 1. 0.]\n",
            " [0. 1. 1. 1. 0. 1. 0. 1. 3.]\n",
            " [0. 0. 0. 0. 0. 0. 0. 0. 0.]]\n"
          ]
        }
      ]
    },
    {
      "cell_type": "markdown",
      "source": [
        "La función crea un punto de entrada y salida. Para experimentar con A* es más interesante si el punto de partida está al centro, de modo que cerramos uno de los puntos."
      ],
      "metadata": {
        "id": "QwD4a-z-Nscq"
      }
    },
    {
      "cell_type": "code",
      "source": [
        "maze[1, 0] = 0\n",
        "print(maze)"
      ],
      "metadata": {
        "colab": {
          "base_uri": "https://localhost:8080/"
        },
        "id": "IQA9OvBjNsJB",
        "outputId": "4b5b8f2e-b3a0-4e64-ca1b-e286dee1b3a4"
      },
      "execution_count": null,
      "outputs": [
        {
          "output_type": "stream",
          "name": "stdout",
          "text": [
            "[[0. 0. 0. 0. 0. 0. 0. 0. 0.]\n",
            " [0. 1. 1. 1. 0. 1. 1. 1. 0.]\n",
            " [0. 1. 0. 0. 0. 1. 0. 0. 0.]\n",
            " [0. 1. 1. 1. 1. 1. 1. 1. 0.]\n",
            " [0. 0. 0. 1. 0. 1. 0. 1. 0.]\n",
            " [0. 1. 1. 1. 0. 1. 0. 1. 3.]\n",
            " [0. 0. 0. 0. 0. 0. 0. 0. 0.]]\n"
          ]
        }
      ]
    },
    {
      "cell_type": "markdown",
      "source": [
        "Dibujamos el laberinto como si fuera una imagen con matplotlib"
      ],
      "metadata": {
        "id": "AWcf6RcXNZMh"
      }
    },
    {
      "cell_type": "code",
      "source": [
        "import matplotlib.pyplot as plt"
      ],
      "metadata": {
        "id": "THl0lM040meE"
      },
      "execution_count": null,
      "outputs": []
    },
    {
      "cell_type": "code",
      "source": [
        "plt.imshow(maze, cmap=\"inferno\")"
      ],
      "metadata": {
        "colab": {
          "base_uri": "https://localhost:8080/",
          "height": 282
        },
        "id": "EXbi4PNf0yA8",
        "outputId": "4a63420d-e0b9-4869-e833-3ba1ff4f3a52"
      },
      "execution_count": null,
      "outputs": [
        {
          "output_type": "execute_result",
          "data": {
            "text/plain": [
              "<matplotlib.image.AxesImage at 0x7f0179422f50>"
            ]
          },
          "metadata": {},
          "execution_count": 23
        },
        {
          "output_type": "display_data",
          "data": {
            "text/plain": [
              "<Figure size 432x288 with 1 Axes>"
            ],
            "image/png": "[encoded data removed]"
          },
          "metadata": {
            "needs_background": "light"
          }
        }
      ]
    },
    {
      "cell_type": "markdown",
      "source": [
        "Veamos el resultado de usar DFS y BFS"
      ],
      "metadata": {
        "id": "bwdZ_bzDORla"
      }
    },
    {
      "cell_type": "code",
      "source": [
        "def dfs(maze, s, t):\n",
        "    n, m = maze.shape\n",
        "    \n",
        "    def _dfs(u):\n",
        "        if maze[u] == 1:\n",
        "            maze[u] = 3\n",
        "            if u == t:\n",
        "                return True\n",
        "            i, j = u\n",
        "            nbs = [(i-1, j), (i, j-1), (i, j+1), (i+1, j)]\n",
        "            for v in nbs:\n",
        "                if maze[v] == 1:\n",
        "                    if _dfs(v):\n",
        "                        return True\n",
        "            maze[u] = 2\n",
        "        return False\n",
        "\n",
        "    _dfs(s)"
      ],
      "metadata": {
        "id": "Fr38urBy0zvK"
      },
      "execution_count": null,
      "outputs": []
    },
    {
      "cell_type": "markdown",
      "source": [
        "Una prueba con un laberinto pequeño, empezando desde la esquina superior izquierda"
      ],
      "metadata": {
        "id": "tD6dNmfHO02_"
      }
    },
    {
      "cell_type": "code",
      "source": [
        "n, m = maze.shape\n",
        "maze2 = maze.copy()\n",
        "dfs(maze2, (1, 1), (n-2, m-2))\n",
        "plt.imshow(maze2, cmap=\"inferno\")"
      ],
      "metadata": {
        "colab": {
          "base_uri": "https://localhost:8080/",
          "height": 282
        },
        "id": "_RVPlyRZ5_eG",
        "outputId": "8a1244a4-4bbf-4746-c229-c4faa005eda3"
      },
      "execution_count": null,
      "outputs": [
        {
          "output_type": "execute_result",
          "data": {
            "text/plain": [
              "<matplotlib.image.AxesImage at 0x7f0179385bd0>"
            ]
          },
          "metadata": {},
          "execution_count": 24
        },
        {
          "output_type": "display_data",
          "data": {
            "text/plain": [
              "<Figure size 432x288 with 1 Axes>"
            ],
            "image/png": "[encoded data removed]"
          },
          "metadata": {
            "needs_background": "light"
          }
        }
      ]
    },
    {
      "cell_type": "markdown",
      "source": [
        "El camino de color crema es el camino final, el morado son los caminos no recorridos, y el naranja es el camino recorrido pero descartado por ser caminos sin salida."
      ],
      "metadata": {
        "id": "fGntknDMQxV3"
      }
    },
    {
      "cell_type": "code",
      "source": [
        "import numpy as np\n",
        "\n",
        "def bfs(maze, s, t):\n",
        "    n, m = maze.shape\n",
        "    path = np.full((n, m, 2), -1)\n",
        "    q = [s]\n",
        "    maze[s] = 2\n",
        "    while q:\n",
        "        u = q.pop(0)\n",
        "        if u == t:\n",
        "            break\n",
        "        i, j = u\n",
        "        nbs = [(i-1, j), (i, j-1), (i, j+1), (i+1, j)]\n",
        "        for v in nbs:\n",
        "            if maze[v] == 1:\n",
        "                path[v] = u\n",
        "                maze[v] = 2\n",
        "                q.append(v)\n",
        "    \n",
        "    last = t\n",
        "    while last != s:\n",
        "        maze[last] = 3\n",
        "        last = tuple(path[last])"
      ],
      "metadata": {
        "id": "vRId4u7r7PIX"
      },
      "execution_count": null,
      "outputs": []
    },
    {
      "cell_type": "code",
      "source": [
        "n, m = maze.shape\n",
        "maze2 = maze.copy()\n",
        "bfs(maze2, (1, 1), (n-2, m-2))\n",
        "plt.imshow(maze2, cmap=\"inferno\")"
      ],
      "metadata": {
        "colab": {
          "base_uri": "https://localhost:8080/",
          "height": 282
        },
        "id": "EmzvfzatPUY-",
        "outputId": "dfd7ada0-4bf9-4229-d538-5412355c1b9a"
      },
      "execution_count": null,
      "outputs": [
        {
          "output_type": "execute_result",
          "data": {
            "text/plain": [
              "<matplotlib.image.AxesImage at 0x7f0179325f50>"
            ]
          },
          "metadata": {},
          "execution_count": 27
        },
        {
          "output_type": "display_data",
          "data": {
            "text/plain": [
              "<Figure size 432x288 with 1 Axes>"
            ],
            "image/png": "[encoded data removed]"
          },
          "metadata": {
            "needs_background": "light"
          }
        }
      ]
    },
    {
      "cell_type": "markdown",
      "source": [
        "La principal diferencia entre BFS y DFS es que BFS tiende a recorrer más posibles caminos que DFS, que tiende a recorrer solo la mitad del laberinto."
      ],
      "metadata": {
        "id": "WyrYUnP2PjSV"
      }
    },
    {
      "cell_type": "code",
      "source": [
        "maze = mb.makeMaze(10, 20)\n",
        "maze[1, 0] = 0\n",
        "plt.imshow(maze, cmap=\"inferno\")"
      ],
      "metadata": {
        "colab": {
          "base_uri": "https://localhost:8080/",
          "height": 236
        },
        "id": "FHXosirE6J5f",
        "outputId": "229a5601-2cda-48f0-d28d-0ebc2ae2e04a"
      },
      "execution_count": null,
      "outputs": [
        {
          "output_type": "execute_result",
          "data": {
            "text/plain": [
              "<matplotlib.image.AxesImage at 0x7f0178fa4250>"
            ]
          },
          "metadata": {},
          "execution_count": 38
        },
        {
          "output_type": "display_data",
          "data": {
            "text/plain": [
              "<Figure size 432x288 with 1 Axes>"
            ],
            "image/png": "[encoded data removed]"
          },
          "metadata": {
            "needs_background": "light"
          }
        }
      ]
    },
    {
      "cell_type": "markdown",
      "source": [
        "Probamos con algo más grande... nótese que el laberinto es aleatorio, por lo que escoger un punto central para iniciar, debe ser recalculado."
      ],
      "metadata": {
        "id": "b1-qu4taQBkn"
      }
    },
    {
      "cell_type": "code",
      "source": [
        "n, m = maze.shape\n",
        "copy = maze.copy()\n",
        "dfs(copy, (11, 15), (n-2, m-2))\n",
        "plt.imshow(copy, cmap=\"inferno\")"
      ],
      "metadata": {
        "colab": {
          "base_uri": "https://localhost:8080/",
          "height": 236
        },
        "id": "tpgJl4_q6LY-",
        "outputId": "9f9241f7-bce1-445d-d3cc-edb46c5d5ed0"
      },
      "execution_count": null,
      "outputs": [
        {
          "output_type": "execute_result",
          "data": {
            "text/plain": [
              "<matplotlib.image.AxesImage at 0x7f0178efa950>"
            ]
          },
          "metadata": {},
          "execution_count": 39
        },
        {
          "output_type": "display_data",
          "data": {
            "text/plain": [
              "<Figure size 432x288 with 1 Axes>"
            ],
            "image/png": "[encoded data removed]"
          },
          "metadata": {
            "needs_background": "light"
          }
        }
      ]
    },
    {
      "cell_type": "code",
      "source": [
        "n, m = maze.shape\n",
        "copy = maze.copy()\n",
        "bfs(copy, (11, 15), (n-2, m-2))\n",
        "plt.imshow(copy, cmap=\"inferno\")"
      ],
      "metadata": {
        "colab": {
          "base_uri": "https://localhost:8080/",
          "height": 236
        },
        "id": "QXTf41Umd6qx",
        "outputId": "5a064123-05c7-4281-9d13-8b1593065e40"
      },
      "execution_count": null,
      "outputs": [
        {
          "output_type": "execute_result",
          "data": {
            "text/plain": [
              "<matplotlib.image.AxesImage at 0x7f01789e6f10>"
            ]
          },
          "metadata": {},
          "execution_count": 60
        },
        {
          "output_type": "display_data",
          "data": {
            "text/plain": [
              "<Figure size 432x288 with 1 Axes>"
            ],
            "image/png": "[encoded data removed]"
          },
          "metadata": {
            "needs_background": "light"
          }
        }
      ]
    },
    {
      "cell_type": "markdown",
      "source": [
        "Notamos claramente que ambos algoritmos, hacen un intento de buscar salida por zonas que se alejan de la salida, ambos dirigiéndose hacia la esquina superior izquierda, antes de eventualmente encontrar camino hacia la salida en la parte inferior derecha."
      ],
      "metadata": {
        "id": "U_7pOWzOQbo9"
      }
    },
    {
      "cell_type": "markdown",
      "source": [
        "## A*"
      ],
      "metadata": {
        "id": "0kttJMDoQ8Tu"
      }
    },
    {
      "cell_type": "code",
      "source": [
        "import heapq as hq\n",
        "import numpy as np\n",
        "import math\n",
        "\n",
        "def h(a, b):\n",
        "    # manhattan\n",
        "    x0, y0 = a\n",
        "    x1, y1 = b\n",
        "    return abs(x0 - x1) + abs(y1 - y0)\n",
        "\n",
        "def a_star(maze, s, t):\n",
        "    n, m = maze.shape\n",
        "    g = np.full((n, m), math.inf)\n",
        "    f = np.full((n, m), math.inf)\n",
        "    path = np.full((n, m, 2), -1)\n",
        "    q = []\n",
        "    g[s] = 0\n",
        "    f[s] = h(s, t)\n",
        "    hq.heappush(q, (f[s], s))\n",
        "    while q:\n",
        "        _, u = hq.heappop(q)\n",
        "        if maze[u] != 1:\n",
        "            continue\n",
        "        maze[u] = 2\n",
        "        if u == t:\n",
        "            break\n",
        "        i, j = u\n",
        "        nbs = [(i-1, j), (i, j-1), (i, j+1), (i+1, j)]\n",
        "        for v in nbs:\n",
        "            if maze[v] == 1:\n",
        "                if g[u] + 1 < g[v]:\n",
        "                    path[v] = u\n",
        "                    g[v] = g[u] + 1\n",
        "                    f[v] = g[v] + h(v, t)\n",
        "                    hq.heappush(q, (f[v], v))\n",
        "    last = t\n",
        "    while last != s:\n",
        "        maze[last] = 3\n",
        "        last = tuple(path[last])"
      ],
      "metadata": {
        "id": "doFA7NLEeZS8"
      },
      "execution_count": null,
      "outputs": []
    },
    {
      "cell_type": "code",
      "source": [
        "n, m = maze.shape\n",
        "copy = maze.copy()\n",
        "a_star(copy, (11, 15), (n-2, m-2))\n",
        "plt.imshow(copy, cmap=\"inferno\")"
      ],
      "metadata": {
        "colab": {
          "base_uri": "https://localhost:8080/",
          "height": 236
        },
        "id": "tEDeAgyDRLGs",
        "outputId": "c60baf2d-be1c-4f9f-af56-3cab308b3822"
      },
      "execution_count": null,
      "outputs": [
        {
          "output_type": "execute_result",
          "data": {
            "text/plain": [
              "<matplotlib.image.AxesImage at 0x7f01789df150>"
            ]
          },
          "metadata": {},
          "execution_count": 62
        },
        {
          "output_type": "display_data",
          "data": {
            "text/plain": [
              "<Figure size 432x288 with 1 Axes>"
            ],
            "image/png": "[encoded data removed]"
          },
          "metadata": {
            "needs_background": "light"
          }
        }
      ]
    },
    {
      "cell_type": "code",
      "source": [],
      "metadata": {
        "id": "elBY3Ve8VNUJ"
      },
      "execution_count": null,
      "outputs": []
    }
  ]
}